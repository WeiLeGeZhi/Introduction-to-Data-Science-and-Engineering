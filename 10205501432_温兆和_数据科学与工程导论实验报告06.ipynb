{
 "cells": [
  {
   "cell_type": "markdown",
   "id": "24d2ca41-d3fd-4601-a0e6-0e866dc5229e",
   "metadata": {},
   "source": [
    "# 数据科学与工程导论实验报告-06\n",
    "\n",
    "温兆和 10205501432\n",
    "\n",
    "首先我们引入在本次实验中需要用到的Python库。"
   ]
  },
  {
   "cell_type": "code",
   "execution_count": 23,
   "id": "cda7ac7d-67f5-4706-9f3d-6d06fa325919",
   "metadata": {},
   "outputs": [],
   "source": [
    "import random\n",
    "import time"
   ]
  },
  {
   "cell_type": "markdown",
   "id": "c21af495-52e1-4dc0-bc96-5ecd209c9550",
   "metadata": {},
   "source": [
    "## 实验一\n",
    "\n",
    "请用Python编写冒泡排序的算法。"
   ]
  },
  {
   "cell_type": "code",
   "execution_count": 2,
   "id": "5a635e10-8ab2-4027-92b1-425ba2f52f1d",
   "metadata": {},
   "outputs": [
    {
     "name": "stdout",
     "output_type": "stream",
     "text": [
      "[0.009508538001528843, 0.014844605872063377, 0.031383785608945836, 0.048003047175490754, 0.056797963780471195, 0.09889241384507486, 0.13871428541390152, 0.15616921478029921, 0.18438833173799163, 0.1845946479970212, 0.1913175032823754, 0.21360162388270654, 0.21610341766940067, 0.24760261741606537, 0.2728548610586974, 0.29793702540672184, 0.3144462880151693, 0.3196511648053947, 0.33343941814916744, 0.3594284347811939, 0.3610473234224666, 0.3659450155644739, 0.3705111951979084, 0.3816752398560065, 0.3924220529997533, 0.40517712314031096, 0.41273855487383093, 0.4368216980902707, 0.45822936489351795, 0.4666276562448246, 0.47777370646324735, 0.5002860120042968, 0.5494584772636998, 0.5595640689778477, 0.5745227434882378, 0.61009202978868, 0.6898775875363721, 0.6915828477448913, 0.7569004064141527, 0.776035174409905, 0.7904014808921953, 0.8266828543194078, 0.8333970422660718, 0.8380598206702271, 0.8908748285170551, 0.914921071511693, 0.9285751630237049, 0.9575556289076332, 0.959617272040569, 0.9834933160143636]\n"
     ]
    }
   ],
   "source": [
    "def bubble_sort(arr):\n",
    "    for i in range(0,len(arr)):\n",
    "        for j in range(i,len(arr)):\n",
    "            if arr[j]<arr[i]:\n",
    "                c=arr[j]\n",
    "                arr[j]=arr[i]\n",
    "                arr[i]=c\n",
    "arr1 = []\n",
    "for i in range(50):\n",
    "    arr1.append(random.random())\n",
    "bubble_sort(arr1)\n",
    "print(arr1)"
   ]
  },
  {
   "cell_type": "markdown",
   "id": "ea27bc69-55bd-4d94-9235-d6b0d197213f",
   "metadata": {},
   "source": [
    "## 实验二（选做）\n",
    "\n",
    "请对两种解决同一问题（比如求函数导数、查找算法等等）但是时间复杂度不同的算法进行效率比较。\n",
    "\n",
    "在这个实验中，我们来比较冒泡排序和计数排序的效率差异。当数组的大小为$n$时，冒泡排序的时间复杂度为$O(n^2)$，计数排序的时间复杂度为$O(n)$。我们先来实现一个计数排序，并验证这个实现的正确性。出于对计数排序特性的考虑，我们假定待排序的数组中的数都介于$0$到$9$之间。"
   ]
  },
  {
   "cell_type": "code",
   "execution_count": 25,
   "id": "c150130c-e9df-4816-bccc-7909c74f3072",
   "metadata": {},
   "outputs": [
    {
     "name": "stdout",
     "output_type": "stream",
     "text": [
      "[0, 0, 0, 0, 0, 0, 0, 0, 0, 1, 1, 1, 1, 1, 2, 2, 2, 2, 2, 2, 3, 3, 3, 3, 3, 3, 3, 3, 4, 4, 4, 4, 5, 5, 5, 5, 6, 6, 6, 6, 6, 6, 7, 8, 8, 8, 8, 8, 9, 9]\n"
     ]
    }
   ],
   "source": [
    "def counting_sort(A,B):\n",
    "    C = []\n",
    "    for i in range(0,10):\n",
    "        C.append(0)\n",
    "    for j in range(1,len(A)):\n",
    "        C[A[j]]+=1\n",
    "    for i in range(1,10):\n",
    "        C[i]=C[i]+C[i-1]\n",
    "    j = len(A)-1\n",
    "    while(j>=0):\n",
    "        B[C[A[j]]]=A[j]\n",
    "        C[A[j]]=C[A[j]]-1\n",
    "        j=j-1\n",
    "\n",
    "A = []\n",
    "B = []\n",
    "for i in range(50):\n",
    "    A.append(random.randint(0,9))\n",
    "    B.append(0)\n",
    "counting_sort(A,B)\n",
    "print(B)"
   ]
  },
  {
   "cell_type": "markdown",
   "id": "f0195155-e735-491c-bb3f-7c250282197c",
   "metadata": {},
   "source": [
    "可见，这个计数排序算法是正确的。接下来，我们来分别测量不同输入规模下冒泡排序和计数排序的运行时间。以下代码最终的输出形式是这样的：\n",
    "|输入规模/算法|冒泡排序|计数排序|\n",
    "|------------|-----|------|\n",
    "|$100$|运行时间|运行时间|\n",
    "|$1000$|运行时间|运行时间|\n",
    "|$10000$|运行时间|运行时间|"
   ]
  },
  {
   "cell_type": "code",
   "execution_count": 27,
   "id": "bf91237b-9d13-4a99-968e-a2a65d9be0aa",
   "metadata": {},
   "outputs": [
    {
     "name": "stdout",
     "output_type": "stream",
     "text": [
      "[0.00030663423240184784, 2.5345012545585632e-05]\n",
      "[0.028192836791276932, 0.00023031141608953476]\n",
      "[2.634310193359852, 0.0023281779140233994]\n"
     ]
    }
   ],
   "source": [
    "LIST = []\n",
    "for i in range(0,3):\n",
    "    A = []\n",
    "    B = []\n",
    "    C = []\n",
    "    for j in range(10**(i+2)):\n",
    "        A.append(random.randint(0,9))\n",
    "        B.append(random.randint(0,9))\n",
    "        C.append(0)\n",
    "    t_a = time.perf_counter()\n",
    "    bubble_sort(A)\n",
    "    t_b = time.perf_counter()\n",
    "    t_c = time.perf_counter()\n",
    "    counting_sort(B,C)\n",
    "    t_d = time.perf_counter()\n",
    "    LIST.append([t_b-t_a,t_d-t_c])\n",
    "for i in range(0,3):\n",
    "    print(LIST[i])"
   ]
  },
  {
   "cell_type": "markdown",
   "id": "57664bf7-bd37-46ab-ae33-214460a9e4d7",
   "metadata": {},
   "source": [
    "我们可以发现，无论输入规模是多少，冒泡排序花费的时间都远大于计数排序的运行时间。此外，每当输入规模扩大十倍，冒泡排序的运行时间要扩大一百倍，而计数排序的运行时间只扩大十倍。这也验证了上面对这两种算法的时间复杂度分析的正确性。综上所述，冒泡排序的效率低于计数排序。"
   ]
  }
 ],
 "metadata": {
  "kernelspec": {
   "display_name": "Python 3 (ipykernel)",
   "language": "python",
   "name": "python3"
  },
  "language_info": {
   "codemirror_mode": {
    "name": "ipython",
    "version": 3
   },
   "file_extension": ".py",
   "mimetype": "text/x-python",
   "name": "python",
   "nbconvert_exporter": "python",
   "pygments_lexer": "ipython3",
   "version": "3.9.12"
  }
 },
 "nbformat": 4,
 "nbformat_minor": 5
}
