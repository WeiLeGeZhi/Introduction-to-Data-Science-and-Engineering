{
 "cells": [
  {
   "cell_type": "markdown",
   "id": "f23a5191-774d-4950-9e74-d09a0bc4db13",
   "metadata": {},
   "source": [
    "# 数据科学与工程导论实验报告-09\n",
    "\n",
    "温兆和 10205501432\n",
    "\n",
    "首先我们引入在本次实验中需要用到的Python库。"
   ]
  },
  {
   "cell_type": "code",
   "execution_count": 9,
   "id": "fd9edaff-1120-4ee0-ae38-c86da1239e61",
   "metadata": {},
   "outputs": [
    {
     "name": "stdout",
     "output_type": "stream",
     "text": [
      "('5.7.18-20170830-log',)\n"
     ]
    }
   ],
   "source": [
    "import pymysql\n",
    "db = pymysql.connect(host = \"cdb-r2g8flnu.bj.tencentcdb.com\", port = 10209, user\n",
    "= \"dase2020\", password = \"dase2020\", database = \"dase_intro_2020\")\n",
    "cursor = db.cursor() \n",
    "sql = \"SELECT VERSION();\" \n",
    "cursor.execute(sql)\n",
    "result0 = cursor.fetchone()\n",
    "print(result0)"
   ]
  },
  {
   "cell_type": "markdown",
   "id": "b235c7ae-9648-4a79-85e3-9d7ceb4cf67b",
   "metadata": {},
   "source": [
    "上面这段程序的结果显示我们已经成功安装了pymysql。本周的所有实验以sql语句查询为主，都会在数据库 dase_intro_2020 中名为 bicycle_train 的表上进行。查询的内容为：\n",
    "## 实验一\n",
    "从第18条记录开始的5条记录。"
   ]
  },
  {
   "cell_type": "code",
   "execution_count": 10,
   "id": "8c5624d9-b971-4790-b670-feac5f049dd4",
   "metadata": {},
   "outputs": [
    {
     "name": "stdout",
     "output_type": "stream",
     "text": [
      "((18, 1, 17, 1, 8, 4, 1, 2, 75), (19, 1, 1, 1, 18, 19, 1, 3, 5), (20, 1, 7, 0, 23, 25, 2, 1, 13), (21, 0, 9, 0, 25, 27, 1, 0, 67), (22, 0, 16, 1, 11, 11, 3, 2, 76))\n"
     ]
    }
   ],
   "source": [
    "sql = \"SELECT * FROM bicycle_train LIMIT 17,5;\"\n",
    "cursor.execute(sql)\n",
    "result1 = cursor.fetchall()\n",
    "print(result1)"
   ]
  },
  {
   "cell_type": "markdown",
   "id": "3669d5d1-9989-41a7-b2d9-21125e168990",
   "metadata": {},
   "source": [
    "## 实验二\n",
    "数据表中风级(wind)取值范围是多少？\n",
    "\n",
    "我们从数据库中查询不重复的风级，并从小到大排序。"
   ]
  },
  {
   "cell_type": "code",
   "execution_count": 11,
   "id": "ee181ae7-b297-473f-a439-ba6b935c9ad1",
   "metadata": {},
   "outputs": [
    {
     "name": "stdout",
     "output_type": "stream",
     "text": [
      "((0,), (1,), (2,), (3,), (4,), (5,), (6,), (7,))\n"
     ]
    }
   ],
   "source": [
    "sql = \"SELECT DISTINCT wind FROM bicycle_train ORDER BY wind;\"\n",
    "cursor.execute(sql)\n",
    "result2 = cursor.fetchall()\n",
    "print(result2)"
   ]
  },
  {
   "cell_type": "markdown",
   "id": "ddd682af-2958-4e09-b3b0-41c81a144da0",
   "metadata": {},
   "source": [
    "可见，风级的取值范围为0到7."
   ]
  },
  {
   "cell_type": "markdown",
   "id": "220b671b-ac52-4bc6-842e-bebad80b2938",
   "metadata": {},
   "source": [
    "## 实验三\n",
    "满足城市为北京市，10时，晴天，无风或1级风，租用单车数量不小于100条件下大气温度的平均值。"
   ]
  },
  {
   "cell_type": "code",
   "execution_count": 12,
   "id": "65ce9d98-ef69-4030-80b5-8fd9fd5d5037",
   "metadata": {},
   "outputs": [
    {
     "name": "stdout",
     "output_type": "stream",
     "text": [
      "((Decimal('20.6000'),),)\n"
     ]
    }
   ],
   "source": [
    "sql = \"SELECT AVG(temp_air) FROM bicycle_train WHERE city = 0 AND hour = 10 AND weather = 1 AND wind<=1 AND y>=100;\"\n",
    "cursor.execute(sql)\n",
    "result3 = cursor.fetchall()\n",
    "print(result3)"
   ]
  },
  {
   "cell_type": "markdown",
   "id": "f2aa72cd-a7c5-458a-8836-cebd14314098",
   "metadata": {},
   "source": [
    "## 实验四\n",
    "满足城市为北京市，10时，晴天，无风或1级风，租用单车数量不小于100条件下大气温度的方差。"
   ]
  },
  {
   "cell_type": "code",
   "execution_count": 23,
   "id": "b8f7bd73-ee19-4e3e-a730-9324516e8684",
   "metadata": {},
   "outputs": [
    {
     "name": "stdout",
     "output_type": "stream",
     "text": [
      "37.64\n"
     ]
    }
   ],
   "source": [
    "temp_ba = float(result3[0][0])\n",
    "sql = \"SELECT temp_air FROM bicycle_train WHERE city = 0 AND hour = 10 AND weather = 1 AND wind<=1 AND y>=100;\"\n",
    "cursor.execute(sql)\n",
    "result4 = cursor.fetchall()\n",
    "Var = 0\n",
    "for i in range(len(result4)):\n",
    "    Var=Var+(result4[i][0]-temp_ba)**2\n",
    "Var = Var/len(result4)\n",
    "print(Var)"
   ]
  },
  {
   "cell_type": "markdown",
   "id": "9c861a58-8bac-47ca-86be-4e6611b322e5",
   "metadata": {},
   "source": [
    "## 实验五\n",
    "分城市显示工作日雨雪天单车租用总量，并降序排序。"
   ]
  },
  {
   "cell_type": "code",
   "execution_count": 34,
   "id": "b39bd6bb-e4e4-4749-bdd1-88944c3c5704",
   "metadata": {},
   "outputs": [
    {
     "name": "stdout",
     "output_type": "stream",
     "text": [
      "((1, Decimal('9106')), (0, Decimal('8084')))\n"
     ]
    }
   ],
   "source": [
    "sql = \"SELECT city,SUM(y) FROM bicycle_train WHERE weather = 3 AND is_workday = 1 GROUP BY city ORDER BY SUM(y) DESC;\"\n",
    "cursor.execute(sql)\n",
    "result5 = cursor.fetchall()\n",
    "print(result5)"
   ]
  },
  {
   "cell_type": "markdown",
   "id": "b2ce1eae-784f-4718-aaef-76fe0941f5c5",
   "metadata": {},
   "source": [
    "## 实验六\n",
    "分别查询17时至19时每小时上海市在工作日且体感温度不大于10摄氏度时租用单车的平均值（四舍五入至整数），并且结果按升序排序。"
   ]
  },
  {
   "cell_type": "code",
   "execution_count": 47,
   "id": "c5959f03-0b81-4ef7-8c2c-1b4f5a23ee24",
   "metadata": {},
   "outputs": [
    {
     "name": "stdout",
     "output_type": "stream",
     "text": [
      "((19, Decimal('42')), (18, Decimal('63')), (17, Decimal('65')))\n"
     ]
    }
   ],
   "source": [
    "sql = \"SELECT hour,AVG(y) FROM bicycle_train WHERE city = 1 AND hour BETWEEN 17 AND 19 AND is_workday = 1 AND temp_body<=10 GROUP BY hour ORDER BY AVG(y);\"\n",
    "cursor.execute(sql)\n",
    "result6_1 = cursor.fetchall()\n",
    "result6_2 = ()\n",
    "for i in range(len(result6_1)):\n",
    "    result6_2=result6_2+((result6_1[i][0],round(result6_1[i][1],0)),)\n",
    "print(result6_2)"
   ]
  }
 ],
 "metadata": {
  "kernelspec": {
   "display_name": "Python 3 (ipykernel)",
   "language": "python",
   "name": "python3"
  },
  "language_info": {
   "codemirror_mode": {
    "name": "ipython",
    "version": 3
   },
   "file_extension": ".py",
   "mimetype": "text/x-python",
   "name": "python",
   "nbconvert_exporter": "python",
   "pygments_lexer": "ipython3",
   "version": "3.9.12"
  }
 },
 "nbformat": 4,
 "nbformat_minor": 5
}
