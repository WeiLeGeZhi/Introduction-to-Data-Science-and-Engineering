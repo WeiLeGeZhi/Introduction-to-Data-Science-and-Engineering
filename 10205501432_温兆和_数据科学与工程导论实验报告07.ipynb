{
 "cells": [
  {
   "cell_type": "markdown",
   "id": "17de23b7-25a6-4c73-9be7-60d96676abbf",
   "metadata": {},
   "source": [
    "# 数据科学与工程导论实验报告-07\n",
    "\n",
    "温兆和 10205501432\n",
    "\n",
    "首先我们引入在本次实验中需要用到的Python库。"
   ]
  },
  {
   "cell_type": "code",
   "execution_count": 79,
   "id": "0cfb2568-d18c-4941-a10a-4927855e81f5",
   "metadata": {},
   "outputs": [],
   "source": [
    "import pandas as pd\n",
    "from numpy import *\n",
    "from decimal import Decimal\n",
    "import time"
   ]
  },
  {
   "cell_type": "markdown",
   "id": "703964ff-fbbc-455b-bff3-b5ddbe29e18d",
   "metadata": {},
   "source": [
    "## 实验一\n",
    "实验6-2的步骤2中介绍了读取整个文件的read()方法，请自己用记事本创建一个txt文件，里面写上几行内容，再编写程序，体会readline()和readlines()方法的作用。"
   ]
  },
  {
   "cell_type": "code",
   "execution_count": 80,
   "id": "22616608-6ff1-4b90-af7f-8a641f239d4d",
   "metadata": {},
   "outputs": [
    {
     "name": "stdout",
     "output_type": "stream",
     "text": [
      "7917ce3a9\n",
      "\n"
     ]
    }
   ],
   "source": [
    "f1 = open('Introcourse_lab_7.txt','r')\n",
    "s1 = f1.readline()\n",
    "print(s1)\n",
    "f1.close()"
   ]
  },
  {
   "cell_type": "markdown",
   "id": "1be3821d-75b2-4318-9d40-d351e3ad9d7c",
   "metadata": {},
   "source": [
    "可见，readline()方法读取了该文件的第一行并存储到s1中。"
   ]
  },
  {
   "cell_type": "code",
   "execution_count": 81,
   "id": "94af4c60-4e7e-49d7-9643-6d3dad2f71d8",
   "metadata": {},
   "outputs": [
    {
     "name": "stdout",
     "output_type": "stream",
     "text": [
      "['7917ce3a9\\n', '79acd3859\\n', '79c047584']\n"
     ]
    }
   ],
   "source": [
    "f1 = open('Introcourse_lab_7.txt','r')\n",
    "s2 = f1.readlines()\n",
    "print(s2)\n",
    "f1.close()"
   ]
  },
  {
   "cell_type": "markdown",
   "id": "fe40ec9f-9d90-4238-9b39-47cdc439c33b",
   "metadata": {},
   "source": [
    "可见，readlines()方法读取了该文件中的所有三行并存储到列表s2中。"
   ]
  },
  {
   "cell_type": "markdown",
   "id": "9b89f095-378c-4f64-9eec-aee83c48f370",
   "metadata": {},
   "source": [
    "## 实验二\n",
    "\n",
    "stuGrade.csv文件中包含5位同学的学号、语文成绩、数学成绩和英语成绩，请先用记事本打开该文件，查看文件内容，然后编写Python程序，读取该文件，并计算出各科的平均成绩（保留2位小数）。"
   ]
  },
  {
   "cell_type": "code",
   "execution_count": 82,
   "id": "2e5bb9da-4728-45b2-b482-43e8ca43852a",
   "metadata": {},
   "outputs": [
    {
     "name": "stdout",
     "output_type": "stream",
     "text": [
      "   stuID  chinese  math  english\n",
      "0  10381       74    87       82\n",
      "1  10382       92    88       90\n",
      "2  10383       87    82       81\n",
      "3  10384       98    97       96\n",
      "4  10385       62    51       60\n"
     ]
    }
   ],
   "source": [
    "# 打开数据集\n",
    "Data = pd.read_csv(\"stuGrade.csv\")\n",
    "print(Data)"
   ]
  },
  {
   "cell_type": "code",
   "execution_count": 83,
   "id": "69c6ed18-fd7d-4c87-9acd-06988076c495",
   "metadata": {},
   "outputs": [
    {
     "name": "stdout",
     "output_type": "stream",
     "text": [
      "[82.60,81.00,81.80]\n"
     ]
    }
   ],
   "source": [
    "#求各科平均值\n",
    "chin_list = []\n",
    "math_list = []\n",
    "eng_list = []\n",
    "for i in range(len(Data)):\n",
    "    chin_list.append(Data[\"chinese\"][i])\n",
    "    math_list.append(Data[\"math\"][i])\n",
    "    eng_list.append(Data[\"english\"][i])\n",
    "chin_mean = mean(chin_list)\n",
    "math_mean = mean(math_list)\n",
    "eng_mean = mean(eng_list)\n",
    "# 保留两位小数并打印\n",
    "Decimal(chin_mean).quantize(Decimal(\"0.00\"))\n",
    "Decimal(math_mean).quantize(Decimal(\"0.00\"))\n",
    "Decimal(eng_mean).quantize(Decimal(\"0.00\"))\n",
    "print(\"[{a:.2f},{b:.2f},{c:.2f}]\".format(a=chin_mean,b=math_mean,c=eng_mean))"
   ]
  },
  {
   "cell_type": "markdown",
   "id": "730f60aa-f034-4b1e-9aaf-78fa5adbd837",
   "metadata": {},
   "source": [
    "## 实验三\n",
    "\n",
    "请在第2题的代码继续编写Python程序，将以下内容写入my.txt文件中：\n",
    "- 第1行：你的学号和姓名\n",
    "- 第2行：3门课程的平均成绩，保留2位小数，以英文逗号间隔\n",
    "- 第3行：系统当前时间，格式例如2020-01-01 12:00:00\n",
    "- 第4行：两秒后的系统当前时间（利用sleep()方法）"
   ]
  },
  {
   "cell_type": "code",
   "execution_count": 84,
   "id": "d27398bc-c214-468a-9b84-380d930b0c4e",
   "metadata": {},
   "outputs": [
    {
     "name": "stdout",
     "output_type": "stream",
     "text": [
      "['Wen Zhaohe 10205501432\\n', '82.6,81.0,81.8\\n', '2022-10-18 16:07:31\\n', '2022-10-18 16:07:33\\n']\n"
     ]
    }
   ],
   "source": [
    "#写入内容\n",
    "f2 = open('my.txt','w')\n",
    "s1 = \"Wen Zhaohe 10205501432\"\n",
    "f2.write(s1+\"\\n\")\n",
    "s2 = str(chin_mean)+','+str(math_mean)+','+str(eng_mean)\n",
    "f2.write(s2+\"\\n\")\n",
    "s3 = time.strftime(\"%Y-%m-%d %H:%M:%S\",time.localtime())\n",
    "f2.write(s3+\"\\n\")\n",
    "time.sleep(2) \n",
    "s4 = time.strftime(\"%Y-%m-%d %H:%M:%S\",time.localtime())\n",
    "f2.write(s4+\"\\n\")\n",
    "f2.close()\n",
    "#测试写入内容的正确性\n",
    "f3 = open('my.txt','r')\n",
    "s5 = f3.readlines()\n",
    "print(s5)\n",
    "f3.close()"
   ]
  }
 ],
 "metadata": {
  "kernelspec": {
   "display_name": "Python 3 (ipykernel)",
   "language": "python",
   "name": "python3"
  },
  "language_info": {
   "codemirror_mode": {
    "name": "ipython",
    "version": 3
   },
   "file_extension": ".py",
   "mimetype": "text/x-python",
   "name": "python",
   "nbconvert_exporter": "python",
   "pygments_lexer": "ipython3",
   "version": "3.9.12"
  }
 },
 "nbformat": 4,
 "nbformat_minor": 5
}
