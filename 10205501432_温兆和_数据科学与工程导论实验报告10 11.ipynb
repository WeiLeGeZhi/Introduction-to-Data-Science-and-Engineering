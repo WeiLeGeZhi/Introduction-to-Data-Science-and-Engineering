{
 "cells": [
  {
   "cell_type": "markdown",
   "id": "35763c09-0474-4127-ac15-13986a0a552c",
   "metadata": {},
   "source": [
    "# 数据科学与工程导论实验报告-10 11\n",
    "温兆和 10205501432\n",
    "\n",
    "首先我们引入在本次实验中需要用到的Python库。"
   ]
  },
  {
   "cell_type": "code",
   "execution_count": 161,
   "id": "8071bf6b-e4dc-4791-b0b0-2420e87af4d2",
   "metadata": {},
   "outputs": [
    {
     "name": "stdout",
     "output_type": "stream",
     "text": [
      "('5.7.18-20170830-log',)\n"
     ]
    }
   ],
   "source": [
    "import pandas as pd\n",
    "import matplotlib.pyplot as plt\n",
    "import numpy as np\n",
    "import csv\n",
    "import pymysql\n",
    "db = pymysql.connect(host = \"cdb-r2g8flnu.bj.tencentcdb.com\", port = 10209, user\n",
    "= \"dase2020\", password = \"dase2020\", database = \"dase_intro_2020\")\n",
    "cursor = db.cursor() \n",
    "sql = \"SELECT VERSION();\" \n",
    "cursor.execute(sql)\n",
    "result0 = cursor.fetchone()\n",
    "print(result0)"
   ]
  },
  {
   "cell_type": "markdown",
   "id": "ba90de28-d8d4-44ca-b0ba-4da6b5f2c99f",
   "metadata": {},
   "source": [
    "上面这段程序的结果显示我们已经成功安装了pymysql。数据库dase_intro_2020中有一张名为SH_Grade的数据表，该表为上海市某所初级中学7个班级学生就读4年的考试成绩，数据已做脱敏处理。数据表结构如下：\n",
    "- id：记录编号，无实际意义；\n",
    "- StuId：学生代号，例如\"G03\"表示7班3号学生；\n",
    "- Sex：性别，M代表男性，F代表女性；\n",
    "- 后续各列为科目，字段名称编码规则为【科目代号+年级+学期+期中/期末】：\n",
    "    科目代号包括【CHI】语文、【MATH】数学、【ENG】英语、【PHY】物理、【CHE】化学；\n",
    "    \n",
    "    年级由6年级至9年级；\n",
    "    \n",
    "    学期包括第1学期和第2学期；\n",
    "    \n",
    "    期中考试为1，期末考试为2（其中9年级第2学期没有期末考试）\n",
    "    \n",
    "    请注意：物理课从8年级开始学习、化学课从9年级开始学习\n",
    "    \n",
    "    例如：【MATH921】代表9年级第2学期数学科期中考试成绩\n",
    "    \n",
    "    各列排序顺序为【年级，学期，期中/期末考试，科目（语文、数学、英语、物理、化学）】\n",
    "\n",
    "所以一条数据由【id,StuId,Sex,CHI611,MATH611,ENG611,CHI612,MATH612,...,CHI811,MATH811,ENG811,PHY811,CHI812,...,CHI921,MATH921,ENG921,PHY921,CHE921】构成。\n",
    "## 实验一：数据获取\n",
    "利用pymysql库从数据库中爬取所有数据行，并利用csv库将数据保存成SH_Grade.csv文件（不要忘记写入列标题作为第1行内容），由于StuId字段包含班级信息，请在id字段和Sex字段添加一个Class字段用以保存学生所在班级，取值范围为A-G。\n",
    "- 数据库地址：cdb-r2g8flnu.bj.tencentcdb.com\n",
    "- 数据库端口：10209\n",
    "- 数据库登录用户名：dase2020\n",
    "- 数据库名：dase_intro_2020\n",
    "- 数据表名：SH_Grade"
   ]
  },
  {
   "cell_type": "code",
   "execution_count": 162,
   "id": "64eb6b2b-e280-4ef5-84b4-4e7d1a4782a4",
   "metadata": {},
   "outputs": [],
   "source": [
    "sql = \"SELECT * FROM SH_Grade;\"\n",
    "cursor.execute(sql)\n",
    "result1 = cursor.fetchall()\n",
    "stu_list = []\n",
    "for i in range (len(result1)):\n",
    "    stu= [result1[i][0],result1[i][1],result1[i][1][0]]\n",
    "    for j in range(len(result1[i])-2):\n",
    "        stu.append(result1[i][j+2])\n",
    "    stu_list.append(stu)\n",
    "with open('SH_Grade.csv','w') as f:\n",
    "    writer = csv.writer(f)\n",
    "    writer.writerow(['id','StuId','Class','Sex','CHI611','MATH611','ENG611','CHI612','MATH612','ENG612','CHI621','MATH621','ENG621','CHI622','MATH622','ENG622','CHI711','MATH711','ENG711','CHI712','MATH712','ENG712','CHI721','MATH721','ENG721','CHI722','MATH722','ENG722','CHI811','MATH811','ENG811','PHY811','CHI812','MATH812','ENG812','PHY812','CHI821','MATH821','ENG821','PHY821','CHI822','MATH822','ENG822','PHY822','CHI911','MATH911','ENG911','PHY911','CHE911','CHI912','MATH912','ENG912','PHY912','CHE912','CHI921','MATH921','ENG921','PHY921','CHE921'])\n",
    "    for stu in stu_list:\n",
    "        writer.writerow(stu)"
   ]
  },
  {
   "cell_type": "markdown",
   "id": "2dbea33a-5ba5-4c11-be06-0990698402fd",
   "metadata": {},
   "source": [
    "## 实验二：数据预处理 I\n",
    "由于人工录入疏忽，数据表中有部分行重复，特征是除id字段之外其他字段值均相同。由于StuId可唯一确定某个学生，所以如果数据表中含有多条StuId相同的数据行，表示这几行内容相同。请先用pandas库读取任务1中导出的CSV文件，然后去除重复的数据行，仅保留第一次出现的数据行，并报告经处理前后的数据条目数量。"
   ]
  },
  {
   "cell_type": "code",
   "execution_count": 163,
   "id": "2663c54b-a3dd-45cd-8a96-8c77506710c0",
   "metadata": {},
   "outputs": [
    {
     "name": "stdout",
     "output_type": "stream",
     "text": [
      "   id StuId Class Sex  CHI611  MATH611  ENG611  CHI612  MATH612  ENG612  ...  \\\n",
      "0   1   A01     A   F    75.0     83.0    95.0    77.0     95.0    96.0  ...   \n",
      "1   2   A02     A   F    88.0    100.0    90.0    88.0    100.0    95.0  ...   \n",
      "2   3   A03     A   F    85.0     97.0    91.0    87.0     96.0    97.0  ...   \n",
      "3   4   A04     A   F    83.0     97.0    97.0    83.0     94.0    97.0  ...   \n",
      "4   5   A05     A   F    81.0     89.0    94.0    84.0     89.0    90.0  ...   \n",
      "\n",
      "   CHI912  MATH912  ENG912  PHY912  CHE912  CHI921  MATH921  ENG921  PHY921  \\\n",
      "0   130.0    134.0   136.5    88.0    94.0   120.0    137.0   140.0    79.0   \n",
      "1   132.0    146.0   142.0    97.0    96.0   134.0    138.0   145.5    84.0   \n",
      "2   132.0    146.0   144.5    96.0    95.0   134.0    145.0   146.0    86.0   \n",
      "3   133.0    129.0   142.0    84.0    94.0   121.0    136.0   140.0    83.0   \n",
      "4   127.0    137.0   136.0    87.0    92.0   124.0    140.0   128.0    79.0   \n",
      "\n",
      "   CHE921  \n",
      "0    57.0  \n",
      "1    57.0  \n",
      "2    57.0  \n",
      "3    53.0  \n",
      "4    54.0  \n",
      "\n",
      "[5 rows x 59 columns]\n"
     ]
    }
   ],
   "source": [
    "#读取CSV文件\n",
    "Data = pd.read_csv(\"SH_Grade.csv\")\n",
    "print(Data.head())"
   ]
  },
  {
   "cell_type": "code",
   "execution_count": 164,
   "id": "f8b7c7a1-ce64-42ee-9925-e17ef107aa62",
   "metadata": {},
   "outputs": [
    {
     "name": "stdout",
     "output_type": "stream",
     "text": [
      "   id StuId Class Sex  CHI611  MATH611  ENG611  CHI612  MATH612  ENG612  ...  \\\n",
      "0   1   A01     A   F    75.0     83.0    95.0    77.0     95.0    96.0  ...   \n",
      "1   2   A02     A   F    88.0    100.0    90.0    88.0    100.0    95.0  ...   \n",
      "2   3   A03     A   F    85.0     97.0    91.0    87.0     96.0    97.0  ...   \n",
      "3   4   A04     A   F    83.0     97.0    97.0    83.0     94.0    97.0  ...   \n",
      "4   5   A05     A   F    81.0     89.0    94.0    84.0     89.0    90.0  ...   \n",
      "\n",
      "   CHI912  MATH912  ENG912  PHY912  CHE912  CHI921  MATH921  ENG921  PHY921  \\\n",
      "0   130.0    134.0   136.5    88.0    94.0   120.0    137.0   140.0    79.0   \n",
      "1   132.0    146.0   142.0    97.0    96.0   134.0    138.0   145.5    84.0   \n",
      "2   132.0    146.0   144.5    96.0    95.0   134.0    145.0   146.0    86.0   \n",
      "3   133.0    129.0   142.0    84.0    94.0   121.0    136.0   140.0    83.0   \n",
      "4   127.0    137.0   136.0    87.0    92.0   124.0    140.0   128.0    79.0   \n",
      "\n",
      "   CHE921  \n",
      "0    57.0  \n",
      "1    57.0  \n",
      "2    57.0  \n",
      "3    53.0  \n",
      "4    54.0  \n",
      "\n",
      "[5 rows x 59 columns]\n"
     ]
    }
   ],
   "source": [
    "#剔除重复数据\n",
    "Data1 = Data.drop_duplicates(subset=['StuId'])\n",
    "print(Data1.head())"
   ]
  },
  {
   "cell_type": "code",
   "execution_count": 165,
   "id": "b5618e8d-e9ce-4d52-9ba2-b4d0bc671ca7",
   "metadata": {},
   "outputs": [
    {
     "name": "stdout",
     "output_type": "stream",
     "text": [
      "(252, 59)\n",
      "(243, 59)\n"
     ]
    }
   ],
   "source": [
    "#报告处理前后数据条目数量\n",
    "print(Data.shape)\n",
    "print(Data1.shape)"
   ]
  },
  {
   "cell_type": "markdown",
   "id": "e664d410-0b45-44fa-a246-1920d9d60145",
   "metadata": {},
   "source": [
    "可见，这个处理过程总共删除了九行数据。"
   ]
  },
  {
   "cell_type": "markdown",
   "id": "31133f41-d0d2-4b3c-92b1-960c63327c94",
   "metadata": {},
   "source": [
    "## 实验三：数据预处理 II\n",
    "由于部分同学中途转入或转出该校，或由于疾病缺席某次考试，部分考次的数据会产生空缺，也有部分学生的性别为空。现在请在任务2的基础上剔除大于等于12个字段为空的数据行，并报告经处理前后的数据条目数量。"
   ]
  },
  {
   "cell_type": "code",
   "execution_count": 166,
   "id": "535ee141-0ccf-4126-a835-7d7b96117809",
   "metadata": {},
   "outputs": [
    {
     "name": "stdout",
     "output_type": "stream",
     "text": [
      "   id StuId Class Sex  CHI611  MATH611  ENG611  CHI612  MATH612  ENG612  ...  \\\n",
      "0   1   A01     A   F    75.0     83.0    95.0    77.0     95.0    96.0  ...   \n",
      "1   2   A02     A   F    88.0    100.0    90.0    88.0    100.0    95.0  ...   \n",
      "2   3   A03     A   F    85.0     97.0    91.0    87.0     96.0    97.0  ...   \n",
      "3   4   A04     A   F    83.0     97.0    97.0    83.0     94.0    97.0  ...   \n",
      "4   5   A05     A   F    81.0     89.0    94.0    84.0     89.0    90.0  ...   \n",
      "\n",
      "   CHI912  MATH912  ENG912  PHY912  CHE912  CHI921  MATH921  ENG921  PHY921  \\\n",
      "0   130.0    134.0   136.5    88.0    94.0   120.0    137.0   140.0    79.0   \n",
      "1   132.0    146.0   142.0    97.0    96.0   134.0    138.0   145.5    84.0   \n",
      "2   132.0    146.0   144.5    96.0    95.0   134.0    145.0   146.0    86.0   \n",
      "3   133.0    129.0   142.0    84.0    94.0   121.0    136.0   140.0    83.0   \n",
      "4   127.0    137.0   136.0    87.0    92.0   124.0    140.0   128.0    79.0   \n",
      "\n",
      "   CHE921  \n",
      "0    57.0  \n",
      "1    57.0  \n",
      "2    57.0  \n",
      "3    53.0  \n",
      "4    54.0  \n",
      "\n",
      "[5 rows x 59 columns]\n"
     ]
    }
   ],
   "source": [
    "#剔除大于等于十二字段为空的数据行\n",
    "Data2 = Data1.dropna(thresh=59-12)\n",
    "print(Data2.head())"
   ]
  },
  {
   "cell_type": "code",
   "execution_count": 167,
   "id": "32abafda-99ea-4df5-b9c8-6f669da58707",
   "metadata": {},
   "outputs": [
    {
     "name": "stdout",
     "output_type": "stream",
     "text": [
      "(243, 59)\n",
      "(189, 59)\n"
     ]
    }
   ],
   "source": [
    "#报告处理前后数据条目数量\n",
    "print(Data1.shape)\n",
    "print(Data2.shape)"
   ]
  },
  {
   "cell_type": "markdown",
   "id": "1e8cb9cb-b956-45d6-860c-e351d733a4de",
   "metadata": {},
   "source": [
    "## 实验四：数据预处理 III\n",
    "对于仍空缺的数据项，请在任务3的基础上做如下处理：性别用上一条数据行的性别填充，成绩用该次该门考试的中位数填充。"
   ]
  },
  {
   "cell_type": "code",
   "execution_count": 168,
   "id": "d40aa31d-2844-405c-931b-b33483490fe0",
   "metadata": {},
   "outputs": [
    {
     "name": "stdout",
     "output_type": "stream",
     "text": [
      "   id StuId Class Sex  CHI611  MATH611  ENG611  CHI612  MATH612  ENG612  ...  \\\n",
      "0   1   A01     A   F    75.0     83.0    95.0    77.0     95.0    96.0  ...   \n",
      "1   2   A02     A   F    88.0    100.0    90.0    88.0    100.0    95.0  ...   \n",
      "2   3   A03     A   F    85.0     97.0    91.0    87.0     96.0    97.0  ...   \n",
      "3   4   A04     A   F    83.0     97.0    97.0    83.0     94.0    97.0  ...   \n",
      "4   5   A05     A   F    81.0     89.0    94.0    84.0     89.0    90.0  ...   \n",
      "\n",
      "   CHI912  MATH912  ENG912  PHY912  CHE912  CHI921  MATH921  ENG921  PHY921  \\\n",
      "0   130.0    134.0   136.5    88.0    94.0   120.0    137.0   140.0    79.0   \n",
      "1   132.0    146.0   142.0    97.0    96.0   134.0    138.0   145.5    84.0   \n",
      "2   132.0    146.0   144.5    96.0    95.0   134.0    145.0   146.0    86.0   \n",
      "3   133.0    129.0   142.0    84.0    94.0   121.0    136.0   140.0    83.0   \n",
      "4   127.0    137.0   136.0    87.0    92.0   124.0    140.0   128.0    79.0   \n",
      "\n",
      "   CHE921  \n",
      "0    57.0  \n",
      "1    57.0  \n",
      "2    57.0  \n",
      "3    53.0  \n",
      "4    54.0  \n",
      "\n",
      "[5 rows x 59 columns]\n"
     ]
    }
   ],
   "source": [
    "Data3 = Data2.copy()\n",
    "#填充空缺性别\n",
    "Data3['Sex']=Data3['Sex'].fillna(method='ffill')\n",
    "#填充空缺分数\n",
    "for column in Data3:\n",
    "    if (column !='StuId') & (column != 'Class') & (column != 'Sex'):\n",
    "        Data3[column]=Data3[column].fillna(Data3[column].median())\n",
    "print(Data3.head())"
   ]
  },
  {
   "cell_type": "markdown",
   "id": "4bf7a509-3667-4158-93de-82faa33f6511",
   "metadata": {},
   "source": [
    "## 实验五：数据预处理 IV\n",
    "为了配合旧制中考（语数英满分150分，物理满分90分，化学60分）部分考次不是以百分制计分，为与之前的百分制计分保持一致，请将部分非百分制计分的列转换为百分制计分。\n",
    "- 提示1：可以通过查看每列的最大值查找非百分制计分的数据列。\n",
    "- 提示2：8年级第2学期的期末考试中，语数英为120分制。"
   ]
  },
  {
   "cell_type": "code",
   "execution_count": 169,
   "id": "285581eb-1d89-42ee-b5fd-272afc2fcc4c",
   "metadata": {},
   "outputs": [
    {
     "name": "stdout",
     "output_type": "stream",
     "text": [
      "88.0\n",
      "100.0\n",
      "99.0\n",
      "89.0\n",
      "100.0\n",
      "100.0\n",
      "93.0\n",
      "100.0\n",
      "100.0\n",
      "90.0\n",
      "100.0\n",
      "100.0\n",
      "88.0\n",
      "100.0\n",
      "99.0\n",
      "94.0\n",
      "100.0\n",
      "99.0\n",
      "89.0\n",
      "98.0\n",
      "99.0\n",
      "88.0\n",
      "100.0\n",
      "99.0\n",
      "93.0\n",
      "100.0\n",
      "100.0\n",
      "100.0\n",
      "96.0\n",
      "100.0\n",
      "100.0\n",
      "98.0\n",
      "89.0\n",
      "96.0\n",
      "98.0\n",
      "100.0\n",
      "108.0\n",
      "120.0\n",
      "119.0\n",
      "100.0\n",
      "140.0\n",
      "150.0\n",
      "145.0\n",
      "90.0\n",
      "59.0\n",
      "139.0\n",
      "150.0\n",
      "147.5\n",
      "98.0\n",
      "98.0\n",
      "134.0\n",
      "150.0\n",
      "147.5\n",
      "90.0\n",
      "58.0\n"
     ]
    }
   ],
   "source": [
    "#获取每次考试各科最高分\n",
    "for column in Data3:\n",
    "    if (column !='StuId') & (column != 'Class') & (column != 'Sex') & (column != 'id'):\n",
    "        print(Data3[column].max())"
   ]
  },
  {
   "cell_type": "markdown",
   "id": "eb9cf9e9-f5c5-40ac-bb07-4410e39e103f",
   "metadata": {},
   "source": [
    "通过观察我们可以发现，只有初二下期末考试的语数英（满分为120）和初三除了初三上期末考试物理化学的各科（满分按照上海老中考）不是百分制的。可以发现，当满分为120的时候，最高分都介于100到120之间；当满分为150的时候，最高分往往介于120到150之间；当满分为60的时候，最高分都小于60.但由于部分百分制的语文分最高分也小于90，我们无法通过最高分的范围来判断满分是不是90分，只能手动修改。"
   ]
  },
  {
   "cell_type": "code",
   "execution_count": 170,
   "id": "27569229-8239-49bc-9f3b-016301455cd8",
   "metadata": {},
   "outputs": [
    {
     "name": "stdout",
     "output_type": "stream",
     "text": [
      "   id StuId Class Sex  CHI611  MATH611  ENG611  CHI612  MATH612  ENG612  ...  \\\n",
      "0   1   A01     A   F    75.0     83.0    95.0    77.0     95.0    96.0  ...   \n",
      "1   2   A02     A   F    88.0    100.0    90.0    88.0    100.0    95.0  ...   \n",
      "2   3   A03     A   F    85.0     97.0    91.0    87.0     96.0    97.0  ...   \n",
      "3   4   A04     A   F    83.0     97.0    97.0    83.0     94.0    97.0  ...   \n",
      "4   5   A05     A   F    81.0     89.0    94.0    84.0     89.0    90.0  ...   \n",
      "\n",
      "      CHI912    MATH912     ENG912  PHY912  CHE912     CHI921    MATH921  \\\n",
      "0  86.666667  89.333333  91.000000    88.0    94.0  80.000000  91.333333   \n",
      "1  88.000000  97.333333  94.666667    97.0    96.0  89.333333  92.000000   \n",
      "2  88.000000  97.333333  96.333333    96.0    95.0  89.333333  96.666667   \n",
      "3  88.666667  86.000000  94.666667    84.0    94.0  80.666667  90.666667   \n",
      "4  84.666667  91.333333  90.666667    87.0    92.0  82.666667  93.333333   \n",
      "\n",
      "      ENG921     PHY921     CHE921  \n",
      "0  93.333333  87.777778  95.000000  \n",
      "1  97.000000  93.333333  95.000000  \n",
      "2  97.333333  95.555556  95.000000  \n",
      "3  93.333333  92.222222  88.333333  \n",
      "4  85.333333  87.777778  90.000000  \n",
      "\n",
      "[5 rows x 59 columns]\n"
     ]
    }
   ],
   "source": [
    "Data4=Data3.copy()\n",
    "#修改满分为90的物理考试分数\n",
    "Data4['PHY911']=Data4['PHY911']*(100/90)\n",
    "Data4['PHY921']=Data4['PHY921']*(100/90)\n",
    "#修改其它非百分制的分数\n",
    "for column in Data4:\n",
    "    if (column !='StuId') & (column != 'Class') & (column != 'Sex') & (column != 'id'):\n",
    "        if (Data4[column].max()>100) & (Data4[column].max()<=120):\n",
    "            Data4[column]= Data4[column]*(100/120)\n",
    "        elif (Data4[column].max()>120) & (Data4[column].max()<=150):\n",
    "            Data4[column]= Data4[column]*(100/150)\n",
    "        elif Data4[column].max()<=60:\n",
    "            Data4[column]= Data4[column]*(100/60)\n",
    "print(Data4.head())"
   ]
  },
  {
   "cell_type": "markdown",
   "id": "8a9d9e7a-b7ed-4be4-83c7-66d46d920668",
   "metadata": {},
   "source": [
    "## 实验六：数据分析与可视化 I\n",
    "请绘制各班男女人数的叠加条形图。"
   ]
  },
  {
   "cell_type": "code",
   "execution_count": 171,
   "id": "d8078e95-e23d-431d-981c-5cac08a6964e",
   "metadata": {},
   "outputs": [
    {
     "data": {
      "image/png": "[encoded data removed]",
      "text/plain": [
       "<Figure size 432x288 with 1 Axes>"
      ]
     },
     "metadata": {
      "needs_background": "light"
     },
     "output_type": "display_data"
    }
   ],
   "source": [
    "#各班各性别数据获取\n",
    "Data_male = Data4.loc[Data4['Sex'] == 'M'].groupby('Class')['Class'].count()\n",
    "Data_female = Data4.loc[Data4['Sex'] == 'F'].groupby('Class')['Class'].count()\n",
    "#绘图\n",
    "plt.bar(Data_female.index,Data_female.values,tick_label=['A','B','C','D','E','F','G'],label='Female')\n",
    "plt.bar(Data_male.index,Data_male.values,tick_label=['A','B','C','D','E','F','G'],bottom=Data_female.values,label='Male')\n",
    "plt.legend()\n",
    "plt.show()"
   ]
  },
  {
   "cell_type": "markdown",
   "id": "5fca40a2-64b6-445b-b68f-33ce74dbf6e9",
   "metadata": {},
   "source": [
    "## 实验七：数据分析与可视化 II\n",
    "请在一张图表中分别绘制学生代码为A13和A15的学生每次语文考试成绩走势折线图。"
   ]
  },
  {
   "cell_type": "code",
   "execution_count": 172,
   "id": "1d595b7c-de4c-442d-b212-52c07e24a735",
   "metadata": {},
   "outputs": [
    {
     "data": {
      "image/png": "[encoded data removed]",
      "text/plain": [
       "<Figure size 432x288 with 1 Axes>"
      ]
     },
     "metadata": {
      "needs_background": "light"
     },
     "output_type": "display_data"
    }
   ],
   "source": [
    "#分别获取两位同学语文成绩\n",
    "Data_A13 = Data4.loc[(Data4['StuId']=='A13')]\n",
    "Data_A15 = Data4.loc[(Data4['StuId']=='A15')]\n",
    "A = []\n",
    "for i in range(len(Data_A13.columns)):\n",
    "    if (len(Data_A13.columns[i])>=3):\n",
    "        if (Data_A13.columns[i][0]=='C') & (Data_A13.columns[i][1]=='H') & (Data_A13.columns[i][2]=='I'):\n",
    "            A.append(Data_A13.columns[i])\n",
    "B = []\n",
    "C = []\n",
    "for i in range(len(A)):\n",
    "    B.append(Data_A13[A[i]][12])\n",
    "    C.append(Data_A15[A[i]][14])\n",
    "#绘图\n",
    "plt.plot(A,B,label='A13')\n",
    "plt.plot(A,C,label='A15')\n",
    "plt.title('Chinese Score of A13 and A15')\n",
    "plt.xlabel('x')\n",
    "plt.ylabel('y')\n",
    "plt.legend()\n",
    "plt.show()"
   ]
  },
  {
   "cell_type": "markdown",
   "id": "fdb1c173-85e3-4b01-95a6-ad77c723196f",
   "metadata": {},
   "source": [
    "## 实验八：数据分析 III\n",
    "请输出7年级第2学期期中考试中英语成绩小于60分或语文成绩小于60分的学生编号、班级、英语成绩、语文成绩。"
   ]
  },
  {
   "cell_type": "code",
   "execution_count": 173,
   "id": "592e9198-f227-4e3f-be17-4502ff0ac8eb",
   "metadata": {},
   "outputs": [
    {
     "name": "stdout",
     "output_type": "stream",
     "text": [
      "      id StuId Class  CHI721  ENG721\n",
      "57    58   B17     B    42.0    30.0\n",
      "121  122   D02     D    75.0    51.0\n",
      "132  133   D13     D    73.0    54.0\n",
      "147  148   D29     D    76.0    54.0\n",
      "164  165   E14     E    64.0    47.0\n",
      "172  173   E22     E    65.0    46.0\n",
      "173  174   E23     E    68.0    54.0\n",
      "176  177   E26     E    53.0    26.0\n",
      "178  179   E28     E    48.0    36.0\n",
      "179  180   E29     E    70.0    53.0\n",
      "180  181   E30     E    48.0    34.0\n",
      "181  182   E31     E    76.0    56.0\n",
      "191  192   F09     F    67.0    36.0\n",
      "192  193   F10     F    61.0    37.0\n",
      "193  194   F11     F    50.0    34.0\n",
      "200  201   F18     F    58.0    53.0\n",
      "202  203   F20     F    56.0    82.0\n",
      "204  205   F22     F    56.0    79.0\n",
      "209  210   F27     F    72.0    53.0\n",
      "220  221   G08     G    63.0    53.0\n",
      "225  226   G13     G    67.0    41.0\n",
      "226  227   G14     G    48.0    52.0\n",
      "237  238   G25     G    77.0    44.0\n",
      "238  239   G26     G    35.0    76.0\n",
      "241  242   G29     G    59.0    60.0\n",
      "242  243   G30     G    57.0    82.0\n"
     ]
    }
   ],
   "source": [
    "#获取语文或英语不及格者的信息\n",
    "Data_bujige = Data4.loc[(Data4['CHI721']<60)|(Data4['ENG721']<60)]\n",
    "#删除无关信息\n",
    "for column in Data_bujige:\n",
    "    if (column!='id')&(column!='StuId')&(column!='Class')&(column!='CHI721')&(column!='ENG721'):\n",
    "        Data_bujige=Data_bujige.drop(labels = column,axis = 1)\n",
    "#打印\n",
    "print(Data_bujige)"
   ]
  },
  {
   "cell_type": "markdown",
   "id": "5992950f-0ed6-463b-8951-e1e16f857bb3",
   "metadata": {},
   "source": [
    "## 实验九：数据分析 IV\n",
    "请输出A班和C班6年级第2学期期末考试中各个科目的均值和方差，然后用文字（程序注释）简要比较两个班级各科目的表现情况。"
   ]
  },
  {
   "cell_type": "code",
   "execution_count": 174,
   "id": "ee566625-e724-4f84-842a-854856fbafec",
   "metadata": {},
   "outputs": [
    {
     "name": "stdout",
     "output_type": "stream",
     "text": [
      "  Class    CHI_AVG    CHI_VAR  MATH_AVG   MATH_VAR    ENG_AVG    ENG_VAR\n",
      "0     A  81.406250  28.700605     90.75  19.935484  89.968750  32.160282\n",
      "1     C  76.971429  26.263866     89.20  71.694118  91.257143  37.608403\n"
     ]
    }
   ],
   "source": [
    "#获取两个班当次考试成绩\n",
    "Data_A = Data4.loc[(Data4['Class']=='A')]\n",
    "Data_C = Data4.loc[(Data4['Class']=='C')]\n",
    "#删除无关信息\n",
    "for column in Data_A:\n",
    "    if (column!='CHI622')&(column!='MATH622')&(column!='ENG622'):\n",
    "        Data_A=Data_A.drop(labels = column,axis = 1)\n",
    "        Data_C=Data_C.drop(labels = column,axis = 1)\n",
    "#汇总并打印\n",
    "Data_AC = pd.DataFrame({'Class':['A','C'],'CHI_AVG':[Data_A['CHI622'].mean(),Data_C['CHI622'].mean()],'CHI_VAR':[Data_A['CHI622'].var(),Data_C['CHI622'].var()],'MATH_AVG':[Data_A['MATH622'].mean(),Data_C['MATH622'].mean()],'MATH_VAR':[Data_A['MATH622'].var(),Data_C['MATH622'].var()],'ENG_AVG':[Data_A['ENG622'].mean(),Data_C['ENG622'].mean()],'ENG_VAR':[Data_A['ENG622'].var(),Data_C['ENG622'].var()]})\n",
    "print(Data_AC)"
   ]
  },
  {
   "cell_type": "markdown",
   "id": "a1c5fe7a-e8d8-4a72-84f9-b47b34d814f7",
   "metadata": {},
   "source": [
    "从上面的结果来看，在这次考试中，A班的语文均分更高，但同学与同学之间的差距更大；A班的数学均分更高且同学与同学之间的差距更小；C班的英语均分更高，但同学与同学之间的差距更大。"
   ]
  },
  {
   "cell_type": "markdown",
   "id": "03b562f4-a495-4ba3-abc0-3834aa5f49d6",
   "metadata": {},
   "source": [
    "## 实验十：数据存储\n",
    "将任务8产生的DataFrame对象生成CSV文件，文件名为task8.csv。"
   ]
  },
  {
   "cell_type": "code",
   "execution_count": 175,
   "id": "ead950a2-b26d-4a39-8401-5440661e2732",
   "metadata": {},
   "outputs": [
    {
     "name": "stdout",
     "output_type": "stream",
     "text": [
      "    id StuId Class  CHI721  ENG721\n",
      "0   58   B17     B    42.0    30.0\n",
      "1  122   D02     D    75.0    51.0\n",
      "2  133   D13     D    73.0    54.0\n",
      "3  148   D29     D    76.0    54.0\n",
      "4  165   E14     E    64.0    47.0\n"
     ]
    }
   ],
   "source": [
    "#将DataFrame保存为csv文件\n",
    "Data_bujige.to_csv('task8.csv',index=0)\n",
    "#测试是否保存成功\n",
    "Test = pd.read_csv(\"task8.csv\")\n",
    "print(Test.head())"
   ]
  }
 ],
 "metadata": {
  "kernelspec": {
   "display_name": "Python 3 (ipykernel)",
   "language": "python",
   "name": "python3"
  },
  "language_info": {
   "codemirror_mode": {
    "name": "ipython",
    "version": 3
   },
   "file_extension": ".py",
   "mimetype": "text/x-python",
   "name": "python",
   "nbconvert_exporter": "python",
   "pygments_lexer": "ipython3",
   "version": "3.9.12"
  }
 },
 "nbformat": 4,
 "nbformat_minor": 5
}
