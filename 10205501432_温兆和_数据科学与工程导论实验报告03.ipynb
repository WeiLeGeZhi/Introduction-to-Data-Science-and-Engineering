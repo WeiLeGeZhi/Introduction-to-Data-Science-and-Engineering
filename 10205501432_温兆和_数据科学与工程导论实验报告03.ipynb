{
 "cells": [
  {
   "cell_type": "markdown",
   "id": "06de5e1a-f56a-4b8d-b63f-7d1236bcedca",
   "metadata": {},
   "source": [
    "# 数据科学与工程导论实验报告03\n",
    "\n",
    "温兆和 10205501432\n",
    "\n",
    "首先我们引入在本次实验中需要用到的Python库。"
   ]
  },
  {
   "cell_type": "code",
   "execution_count": 5,
   "id": "7ef88d72-8640-4fb3-9ed2-597a12c00e2c",
   "metadata": {},
   "outputs": [],
   "source": [
    "import math\n",
    "import random"
   ]
  },
  {
   "cell_type": "markdown",
   "id": "5611f5e5-e289-4cac-b2fd-fba2397cbc60",
   "metadata": {},
   "source": [
    "## 1.请编写一个函数，使用递归方法计算 n 的阶乘，并进行测试\n",
    "\n",
    "分析：当输入的自然数为$0$，我们直接返回$1$，否则我们就返回这个自然数本身乘以它减一之后的那个数的阶乘，从而用递归方法求解任意自然数的阶乘。"
   ]
  },
  {
   "cell_type": "code",
   "execution_count": 2,
   "id": "18210f1c-157d-4379-a980-f600e091b76e",
   "metadata": {},
   "outputs": [
    {
     "name": "stdin",
     "output_type": "stream",
     "text": [
      "请输入一个自然数： 3\n"
     ]
    },
    {
     "name": "stdout",
     "output_type": "stream",
     "text": [
      "6\n"
     ]
    }
   ],
   "source": [
    "def jiecheng(n):\n",
    "    if n==0:\n",
    "        return 1 #递归结束条件\n",
    "    return n*jiecheng(n-1)\n",
    "n = input(\"请输入一个自然数：\")\n",
    "n = int(n)\n",
    "print(jiecheng(n))"
   ]
  },
  {
   "cell_type": "markdown",
   "id": "0d34e7c0-398c-45ab-82bb-3ed3d28d981d",
   "metadata": {},
   "source": [
    "我们随意输入一个自然数$3$，得到的结果是$6$，而$6=3!$。所以这段代码是正确的。\n",
    "\n",
    "## 2.请编写程序，使用 math 库计算27的立方根\n",
    "\n",
    "分析：直接调用math库中的pow函数。"
   ]
  },
  {
   "cell_type": "code",
   "execution_count": 4,
   "id": "50f721b2-bc23-4f6b-9c17-2af32e938429",
   "metadata": {},
   "outputs": [
    {
     "name": "stdout",
     "output_type": "stream",
     "text": [
      "3.0\n"
     ]
    }
   ],
   "source": [
    "print(math.pow(27,1/3)) "
   ]
  },
  {
   "cell_type": "markdown",
   "id": "fd8a949e-19ea-4632-a730-542cb2185bfe",
   "metadata": {},
   "source": [
    "由于$3^3=27$，所以我们得到的结果是正确的。\n",
    "\n",
    "##  3.有装有15个硬币的袋子。15个硬币中有一个是伪造的，并且那个伪造的硬币比真的硬币要轻一些。我们要找出这个伪造的硬币。我们有一台可用来比较两组硬币重量的仪器，利用这台仪器，可以知道两组硬币的重量是否相同。请编写程序使用分治方法模拟上述过程，假设硬币的重量为列表[2,2,2,2,2,2,1,2,2,2,2,2,2,2,2]找出假币的序号（序号从0开始，假币的序号为6）\n",
    "\n",
    "分析：我们把这个问题分成两种情况。当lower和upper间有奇数个元素，我们把整个数组分成两组，左边比右边多一个元素。当$1$在左半边时，左半边元素之和比右半边多$1$，其它情况下那个假币一定在右半边（因为lower和upper间全都是$2$的情况不会被递归调用到）；当lower和upper间有偶数个元素，我们把整个数组分成两组，左边和右边元素个数相等。当$1$在左半边时，左半边元素之和比右半边少$1$，其它情况下那个假币一定在右半边。如果$1$在左半边，我们就对左半边数组调用一次binarysearch，否则我们就对右半边的数组调用binarysearch。"
   ]
  },
  {
   "cell_type": "code",
   "execution_count": 17,
   "id": "3e940c92-3a46-4981-bfd3-86dddb6f1f01",
   "metadata": {},
   "outputs": [
    {
     "name": "stdout",
     "output_type": "stream",
     "text": [
      "6\n"
     ]
    }
   ],
   "source": [
    "def binarysearch(list,lower,upper):\n",
    "    if lower==upper:\n",
    "        return lower #当lower与upper相等，说明1就是这个数组中唯一的元素，直接结束递归\n",
    "    if lower>upper:\n",
    "        return -1  #当lower大于upper，不合题意，报错\n",
    "    mid = (lower+upper)/2\n",
    "    m = int(mid)\n",
    "    a=0\n",
    "    b=0\n",
    "    for i in range(lower,m+1):\n",
    "        a+=list[i]  #计算左半边元素的和\n",
    "    for i in range(m+1,upper+1):\n",
    "        b+=list[i]  #计算右半边元素的和\n",
    "    if m==mid:  #数组中有奇数个元素的情况\n",
    "        if a==b+1:\n",
    "            return binarysearch(list,lower,m)\n",
    "        else:\n",
    "            return binarysearch(list,m+1,upper)\n",
    "    else: #数组中有奇数个元素的情况\n",
    "        if a<b:\n",
    "            return binarysearch(list,lower,m)\n",
    "        else:\n",
    "            return binarysearch(list,m+1,upper)\n",
    "list = [2,2,2,2,2,2,1,2,2,2,2,2,2,2,2]\n",
    "print(binarysearch(list,0,14))"
   ]
  },
  {
   "cell_type": "markdown",
   "id": "238f52c6-1078-4a9b-86b0-c0213e3338e6",
   "metadata": {},
   "source": [
    "假币的序号为$6$。我们得到的结果是正确的。\n",
    "\n",
    "## 4.使用蒙特卡洛法计算$$\\int_2^3 (x^2+4xsin(x))dx$$的值\n",
    "\n",
    "分析：显然，当$$x\\in[2,3]$$时$$f(x)\\in[0,21]$$（这里进行了一定的放缩）。于是，我们对直线$$x=2,x=3,y=0,y=21$$所围的区域进行$1000000$次随机投点。当所投的点落在这个函数的图像的下方，将计数器加一。最后我们用计数器的值比总的投点次数并乘以投点区域的面积，就是这个定积分的值。"
   ]
  },
  {
   "cell_type": "code",
   "execution_count": 19,
   "id": "022c6084-91a1-4b54-b0f7-7379d30b3096",
   "metadata": {},
   "outputs": [
    {
     "name": "stdout",
     "output_type": "stream",
     "text": [
      "11.793410999999999\n"
     ]
    }
   ],
   "source": [
    "s = 1*21\n",
    "N = 1000000\n",
    "C = 0\n",
    "for i in range(N):\n",
    "    x = random.uniform(2.0,3.0)\n",
    "    y = random.uniform(0.0,21.0)\n",
    "    if y <= x**2+4*x*math.sin(x):\n",
    "        C+=1\n",
    "I = C/N*s\n",
    "print(I)"
   ]
  },
  {
   "cell_type": "markdown",
   "id": "f9b9fc60-d6b9-40f1-ba7a-90f7e59d2df7",
   "metadata": {},
   "source": [
    "我们可以用卡西欧计算器算出这个积分的值为$11.81135893$，与我们用蒙特卡洛方法得到的结果十分相近。所以这段代码是正确的。"
   ]
  }
 ],
 "metadata": {
  "kernelspec": {
   "display_name": "Python 3 (ipykernel)",
   "language": "python",
   "name": "python3"
  },
  "language_info": {
   "codemirror_mode": {
    "name": "ipython",
    "version": 3
   },
   "file_extension": ".py",
   "mimetype": "text/x-python",
   "name": "python",
   "nbconvert_exporter": "python",
   "pygments_lexer": "ipython3",
   "version": "3.9.12"
  }
 },
 "nbformat": 4,
 "nbformat_minor": 5
}
