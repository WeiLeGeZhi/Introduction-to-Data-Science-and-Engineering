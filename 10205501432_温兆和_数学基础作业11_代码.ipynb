{
 "cells": [
  {
   "cell_type": "code",
   "execution_count": 6,
   "id": "50893034-c5d1-4805-b662-ec7cc819e610",
   "metadata": {},
   "outputs": [
    {
     "name": "stdout",
     "output_type": "stream",
     "text": [
      "回溯搜索下第二次迭代的结果是：10.125\n"
     ]
    }
   ],
   "source": [
    "import math\n",
    "import numpy as np\n",
    "\n",
    "def function(x,y):\n",
    "    value=3*(x**2)+3*(y**2)-(x**2)*y\n",
    "    return value \n",
    "def Jac_x1(x,y):\n",
    "    value=6*x-2*x*y\n",
    "    return value\n",
    "def Jac_x2(x,y):\n",
    "    value=6*y-x**2\n",
    "    return value\n",
    "def Hes(x,y):\n",
    "    Hessian=np.array([[6-2*y,-2*x],[-2*x,6]])\n",
    "    Hessian=np.matrix(Hessian)\n",
    "    return Hessian\n",
    "\n",
    "X=[1.5,1.5]\n",
    "x=[X[0],X[1]]\n",
    "\n",
    "Alpha=0.01\n",
    "Beta=0.8\n",
    "Tk=1 \n",
    "\n",
    "result2=[]  \n",
    "error2=[] \n",
    "Minimum2=function(X[0],X[1]) \n",
    "count2=0\n",
    "Ans = 0\n",
    "\n",
    "\n",
    "X=[x[0],x[1]]\n",
    "Jac=[Jac_x1(x[0],x[1]),Jac_x2(x[0],x[1])] \n",
    "Hessian=Hes(x[0],x[1])\n",
    "Hessian_I=Hessian.I \n",
    "Direction=[-(Hessian_I[0,0]*Jac[0]+Hessian_I[0,1]*Jac[1]),-(Hessian_I[1,0]*Jac[0]+Hessian_I[1,1]*Jac[1])] \n",
    "Lambda=(Direction[0]*Hessian[0,0]+Direction[1]*Hessian[1,0])*Direction[0]+(Direction[0]*Hessian[0,1]+Direction[1]*Hessian[1,1])*Direction[1] \n",
    "\n",
    "\n",
    "while function(X[0]+Tk*Direction[0],X[1]+Tk*Direction[1])>(function(X[0],X[1])-Alpha*Tk*0.5*Lambda):\n",
    "    result2.append(function(X[0],X[1]))\n",
    "    if(Minimum2>function(X[0],X[1])):\n",
    "        Minimum2=function(X[0],X[1])\n",
    "    count2+=1\n",
    "    Tk=Beta*Tk \n",
    "    if(count2==2):\n",
    "        Ans = function(X[0],X[1])\n",
    "    #更新点\n",
    "    Jac=[Jac_x1(x[0],x[1]),Jac_x2(x[0],x[1])] \n",
    "    Hessian=np.array([[2,-1],[-1,1]])\n",
    "    Hessian=np.matrix(Hessian)\n",
    "    Hessian_I=Hessian.I \n",
    "    Direction=[-(Hessian_I[0,0]*Jac[0]+Hessian_I[0,1]*Jac[1]),-(Hessian_I[1,0]*Jac[0]+Hessian_I[1,1]*Jac[1])] \n",
    "    Lambda=(Direction[0]*Hessian[0,0]+Direction[1]*Hessian[1,0])*Direction[0]+(Direction[0]*Hessian[0,1]+Direction[1]*Hessian[1,1])                 *Direction[1] \n",
    "for i in range(0,count2,1):\n",
    "    error2.append(result2[i]-Minimum2)\n",
    "\n",
    "print(\"回溯搜索下第二次迭代的结果是：{}\".format(Ans))"
   ]
  }
 ],
 "metadata": {
  "kernelspec": {
   "display_name": "Python 3 (ipykernel)",
   "language": "python",
   "name": "python3"
  },
  "language_info": {
   "codemirror_mode": {
    "name": "ipython",
    "version": 3
   },
   "file_extension": ".py",
   "mimetype": "text/x-python",
   "name": "python",
   "nbconvert_exporter": "python",
   "pygments_lexer": "ipython3",
   "version": "3.9.12"
  }
 },
 "nbformat": 4,
 "nbformat_minor": 5
}
