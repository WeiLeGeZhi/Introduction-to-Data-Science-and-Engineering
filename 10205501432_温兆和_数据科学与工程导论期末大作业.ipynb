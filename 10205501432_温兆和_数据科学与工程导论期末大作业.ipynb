{
 "cells": [
  {
   "cell_type": "markdown",
   "id": "bb794ddf-fc55-4f74-9d79-85cf4c56c754",
   "metadata": {},
   "source": [
    "# 数据科学与工程导论-期末大作业\n",
    "温兆和 10205501432\n",
    "\n",
    "在城市化进程逐步加快的今天，车祸的发生次数越来越多，甚至还夺去了不少人的生命。但是，由于城市的拥堵，交警部门和救援人员有时无法第一时间赶到现场，也难以预判车祸的严重程度并由此提前制定策略。但是，车祸发生时的外在因素以及发生后造成的伤亡等往往比较容易提前获知，也与车祸的严重程度有一定程度上的关联。所以，我们可以建立一个模型，通过车祸发生时的外在因素以及发生后造成的伤亡等信息来预测车祸的严重程度。\n",
    "\n",
    "在kaggle上有一个名叫UK Road Traffic Collision Dataset的数据集，其中的accident_data.csv表包含了2005-2010年间英国境内的所有车祸及其相关信息。其中：\n",
    "- Accident_Index表示该起事故的编号\n",
    "- 1st_Road_Class表示该起事故发生的第一条马路的类别，主要分为A、B、C、Motorway、A(M)五类\n",
    "- 1st_Road_Number表示该起事故发生的第一条马路的号码\n",
    "- 2nd_Road_Class表示该起事故发生的第二条马路的类别，其中大部分事故没有第二条马路\n",
    "- 2nd_Road_Number表示该起事故发生的第二条马路的号码\n",
    "- Accident_Severity表示事故的严重程度，分为Serious、Slight和Fatal三类\n",
    "- Carriageway_Hazards表示事故发生时路上有没有什么危险因素，如果有就写具体的危险因素，没有就写None\n",
    "- Date表示事故发生的日期\n",
    "- Day_of_Week表示事故发生在星期几\n",
    "- Did_Police_Officer_Attend_Scene_of_Accident表示事故发生后有没有警察的介入，1表示警察介入了，2表示警察没介入，3表示报警之前事故就已经妥善解决了\n",
    "- Junction_Control表示事发路口有没有维持交通秩序的设施，主要分为Give way or uncontrolled（没有控制）和Auto traffic signal（有信号灯）等\n",
    "- Junction_Detail表示路口的类型，主要分为Not at junction or within 20 metres（不是路口或距离路口二十米），T or staggered junction（丁字路口或交错接口）和Crossroads（十字路口）\n",
    "- Latitude表示事故发生处的纬度\n",
    "- Light_Conditions表示事故发生处的光照条件\n",
    "- Local_Authority_(District)表示事故发生处所处的行政区\n",
    "- Local_Authority_(Highway)表示事故发生的公路归哪个行政区管辖\n",
    "- Location_Easting_OSGR表示事故发生处的东西坐标\n",
    "- Location_Northing_OSGR表示事故发生处的南北坐标\n",
    "- Longitude表示事故发生处的经度\n",
    "- LSOA_of_Accident_Location表示Lower Layer Super Output Area of accident\n",
    "- Number_of_Casualties表示死亡人数\n",
    "- Number_of_Vehicles表示车祸涉及到的车辆数\n",
    "- Pedestrian_Crossing-Human_Control表示指挥过往行人的人员数目\n",
    "- Pedestrian_Crossing-Physical_Facilities表示指挥过往行人的交通设施数目\n",
    "- Police_Force表示负责这起事故的警察机构是哪一个\n",
    "- Road_Surface_Conditions表示事故发生时的路面情况，主要分为Dry和Wet or damp\n",
    "- Road_Type表示事故发生的路段的类型，主要分为Single carriageway（向）、Dual carriageway（双向）和One way street（单行道）等\n",
    "- Special_Conditions_at_Site表示路面上可能导致事故发生的其他因素\n",
    "- Speed_limit表示事故发生路段的限速\n",
    "- Time表示事故发生的时间\n",
    "- Urban_or_Rural_Area表示事故是发生在城市还是发生在农村\n",
    "- Weather_Conditions表示事故发生时的天气情况，主要分为Fine no high winds（天气好，无风）和Raining no high winds（下雨，无风）等\n",
    "- Year表示事故发生的年份\n",
    "- InScotland表示事故是否发生在Scotland\n",
    "\n",
    "可见，这个表中的数据比较完整地记录了车祸发生时的各种外在因素。所以，我们可以用这个数据集来探索外在因素对车祸严重程度的影响。根据数据科学的一般过程，我们将先对这个数据集进行预处理，补全各种不完整的信息并删去重复项。然后对数据进行分析与可视化，由此来体现各个因素对车祸严重程度的影响有多大，并由此分析原因、得出结论。最后，我们将在对数据集进行进一步处理后将新的数据集分为训练集和测试集两个部分，用训练集中的数据建立模型用以从外在因素预测车祸严重程度，并在测试集上测试模型的准确性。\n",
    "\n",
    "下面是这个大作业所要用到的Python库。"
   ]
  },
  {
   "cell_type": "code",
   "execution_count": 69,
   "id": "7d52e572-4432-46dc-94cc-8b057518f812",
   "metadata": {},
   "outputs": [],
   "source": [
    "import pandas as pd\n",
    "import matplotlib.pyplot as plt\n",
    "import numpy as np\n",
    "import scipy.stats as stats\n",
    "from sklearn.linear_model import LinearRegression\n",
    "import statsmodels.api as sm\n",
    "from statsmodels.formula.api import ols\n",
    "from statsmodels.stats.anova import anova_lm\n",
    "from scipy.stats import f\n",
    "from scipy.stats import t\n",
    "from sklearn import datasets, linear_model\n",
    "from sklearn.metrics import mean_squared_error, r2_score\n",
    "from sklearn import preprocessing\n",
    "from statsmodels.stats.stattools import durbin_watson\n",
    "import seaborn as sns\n",
    "from sklearn.model_selection import train_test_split\n",
    "from sklearn.pipeline import Pipeline\n",
    "from sklearn.preprocessing import PolynomialFeatures\n",
    "from sklearn.linear_model import LogisticRegression\n",
    "from sklearn.model_selection import train_test_split\n",
    "from sklearn.metrics import accuracy_score\n",
    "from sklearn import svm\n",
    "from sklearn.naive_bayes import GaussianNB\n",
    "from sklearn.neighbors import KNeighborsClassifier\n",
    "from sklearn.tree import DecisionTreeClassifier\n",
    "from sklearn.linear_model import Perceptron"
   ]
  },
  {
   "cell_type": "markdown",
   "id": "125823da-8a36-4186-ab6a-034e7e30c33b",
   "metadata": {},
   "source": [
    "## I.数据集的预处理\n",
    "接下来，我们就要对数据集进行预处理了。首先，我们打开这个数据集："
   ]
  },
  {
   "cell_type": "code",
   "execution_count": 2,
   "id": "a8e95cd2-423b-4ce3-b663-ac0a1f364f24",
   "metadata": {},
   "outputs": [
    {
     "name": "stdout",
     "output_type": "stream",
     "text": [
      "1048575\n"
     ]
    },
    {
     "data": {
      "text/html": [
       "<div>\n",
       "<style scoped>\n",
       "    .dataframe tbody tr th:only-of-type {\n",
       "        vertical-align: middle;\n",
       "    }\n",
       "\n",
       "    .dataframe tbody tr th {\n",
       "        vertical-align: top;\n",
       "    }\n",
       "\n",
       "    .dataframe thead th {\n",
       "        text-align: right;\n",
       "    }\n",
       "</style>\n",
       "<table border=\"1\" class=\"dataframe\">\n",
       "  <thead>\n",
       "    <tr style=\"text-align: right;\">\n",
       "      <th></th>\n",
       "      <th>Accident_Index</th>\n",
       "      <th>1st_Road_Class</th>\n",
       "      <th>1st_Road_Number</th>\n",
       "      <th>2nd_Road_Class</th>\n",
       "      <th>2nd_Road_Number</th>\n",
       "      <th>Accident_Severity</th>\n",
       "      <th>Carriageway_Hazards</th>\n",
       "      <th>Date</th>\n",
       "      <th>Day_of_Week</th>\n",
       "      <th>Did_Police_Officer_Attend_Scene_of_Accident</th>\n",
       "      <th>...</th>\n",
       "      <th>Police_Force</th>\n",
       "      <th>Road_Surface_Conditions</th>\n",
       "      <th>Road_Type</th>\n",
       "      <th>Special_Conditions_at_Site</th>\n",
       "      <th>Speed_limit</th>\n",
       "      <th>Time</th>\n",
       "      <th>Urban_or_Rural_Area</th>\n",
       "      <th>Weather_Conditions</th>\n",
       "      <th>Year</th>\n",
       "      <th>InScotland</th>\n",
       "    </tr>\n",
       "  </thead>\n",
       "  <tbody>\n",
       "    <tr>\n",
       "      <th>0</th>\n",
       "      <td>200501BS00001</td>\n",
       "      <td>A</td>\n",
       "      <td>3218.0</td>\n",
       "      <td>NaN</td>\n",
       "      <td>0.0</td>\n",
       "      <td>Serious</td>\n",
       "      <td>None</td>\n",
       "      <td>04/01/2005</td>\n",
       "      <td>Tuesday</td>\n",
       "      <td>1.0</td>\n",
       "      <td>...</td>\n",
       "      <td>Metropolitan Police</td>\n",
       "      <td>Wet or damp</td>\n",
       "      <td>Single carriageway</td>\n",
       "      <td>None</td>\n",
       "      <td>30</td>\n",
       "      <td>17:42</td>\n",
       "      <td>Urban</td>\n",
       "      <td>Raining no high winds</td>\n",
       "      <td>2005</td>\n",
       "      <td>No</td>\n",
       "    </tr>\n",
       "    <tr>\n",
       "      <th>1</th>\n",
       "      <td>200501BS00002</td>\n",
       "      <td>B</td>\n",
       "      <td>450.0</td>\n",
       "      <td>C</td>\n",
       "      <td>0.0</td>\n",
       "      <td>Slight</td>\n",
       "      <td>None</td>\n",
       "      <td>05/01/2005</td>\n",
       "      <td>Wednesday</td>\n",
       "      <td>1.0</td>\n",
       "      <td>...</td>\n",
       "      <td>Metropolitan Police</td>\n",
       "      <td>Dry</td>\n",
       "      <td>Dual carriageway</td>\n",
       "      <td>None</td>\n",
       "      <td>30</td>\n",
       "      <td>17:36</td>\n",
       "      <td>Urban</td>\n",
       "      <td>Fine no high winds</td>\n",
       "      <td>2005</td>\n",
       "      <td>No</td>\n",
       "    </tr>\n",
       "    <tr>\n",
       "      <th>2</th>\n",
       "      <td>200501BS00003</td>\n",
       "      <td>C</td>\n",
       "      <td>0.0</td>\n",
       "      <td>NaN</td>\n",
       "      <td>0.0</td>\n",
       "      <td>Slight</td>\n",
       "      <td>None</td>\n",
       "      <td>06/01/2005</td>\n",
       "      <td>Thursday</td>\n",
       "      <td>1.0</td>\n",
       "      <td>...</td>\n",
       "      <td>Metropolitan Police</td>\n",
       "      <td>Dry</td>\n",
       "      <td>Single carriageway</td>\n",
       "      <td>None</td>\n",
       "      <td>30</td>\n",
       "      <td>00:15</td>\n",
       "      <td>Urban</td>\n",
       "      <td>Fine no high winds</td>\n",
       "      <td>2005</td>\n",
       "      <td>No</td>\n",
       "    </tr>\n",
       "    <tr>\n",
       "      <th>3</th>\n",
       "      <td>200501BS00004</td>\n",
       "      <td>A</td>\n",
       "      <td>3220.0</td>\n",
       "      <td>NaN</td>\n",
       "      <td>0.0</td>\n",
       "      <td>Slight</td>\n",
       "      <td>None</td>\n",
       "      <td>07/01/2005</td>\n",
       "      <td>Friday</td>\n",
       "      <td>1.0</td>\n",
       "      <td>...</td>\n",
       "      <td>Metropolitan Police</td>\n",
       "      <td>Dry</td>\n",
       "      <td>Single carriageway</td>\n",
       "      <td>None</td>\n",
       "      <td>30</td>\n",
       "      <td>10:35</td>\n",
       "      <td>Urban</td>\n",
       "      <td>Fine no high winds</td>\n",
       "      <td>2005</td>\n",
       "      <td>No</td>\n",
       "    </tr>\n",
       "    <tr>\n",
       "      <th>4</th>\n",
       "      <td>200501BS00005</td>\n",
       "      <td>NaN</td>\n",
       "      <td>0.0</td>\n",
       "      <td>NaN</td>\n",
       "      <td>0.0</td>\n",
       "      <td>Slight</td>\n",
       "      <td>None</td>\n",
       "      <td>10/01/2005</td>\n",
       "      <td>Monday</td>\n",
       "      <td>1.0</td>\n",
       "      <td>...</td>\n",
       "      <td>Metropolitan Police</td>\n",
       "      <td>Wet or damp</td>\n",
       "      <td>Single carriageway</td>\n",
       "      <td>None</td>\n",
       "      <td>30</td>\n",
       "      <td>21:13</td>\n",
       "      <td>Urban</td>\n",
       "      <td>Fine no high winds</td>\n",
       "      <td>2005</td>\n",
       "      <td>No</td>\n",
       "    </tr>\n",
       "  </tbody>\n",
       "</table>\n",
       "<p>5 rows × 34 columns</p>\n",
       "</div>"
      ],
      "text/plain": [
       "  Accident_Index 1st_Road_Class  1st_Road_Number 2nd_Road_Class  \\\n",
       "0  200501BS00001              A           3218.0            NaN   \n",
       "1  200501BS00002              B            450.0              C   \n",
       "2  200501BS00003              C              0.0            NaN   \n",
       "3  200501BS00004              A           3220.0            NaN   \n",
       "4  200501BS00005            NaN              0.0            NaN   \n",
       "\n",
       "   2nd_Road_Number Accident_Severity Carriageway_Hazards        Date  \\\n",
       "0              0.0           Serious                None  04/01/2005   \n",
       "1              0.0            Slight                None  05/01/2005   \n",
       "2              0.0            Slight                None  06/01/2005   \n",
       "3              0.0            Slight                None  07/01/2005   \n",
       "4              0.0            Slight                None  10/01/2005   \n",
       "\n",
       "  Day_of_Week  Did_Police_Officer_Attend_Scene_of_Accident  ...  \\\n",
       "0     Tuesday                                          1.0  ...   \n",
       "1   Wednesday                                          1.0  ...   \n",
       "2    Thursday                                          1.0  ...   \n",
       "3      Friday                                          1.0  ...   \n",
       "4      Monday                                          1.0  ...   \n",
       "\n",
       "          Police_Force Road_Surface_Conditions           Road_Type  \\\n",
       "0  Metropolitan Police             Wet or damp  Single carriageway   \n",
       "1  Metropolitan Police                     Dry    Dual carriageway   \n",
       "2  Metropolitan Police                     Dry  Single carriageway   \n",
       "3  Metropolitan Police                     Dry  Single carriageway   \n",
       "4  Metropolitan Police             Wet or damp  Single carriageway   \n",
       "\n",
       "  Special_Conditions_at_Site Speed_limit   Time  Urban_or_Rural_Area  \\\n",
       "0                       None          30  17:42                Urban   \n",
       "1                       None          30  17:36                Urban   \n",
       "2                       None          30  00:15                Urban   \n",
       "3                       None          30  10:35                Urban   \n",
       "4                       None          30  21:13                Urban   \n",
       "\n",
       "      Weather_Conditions  Year InScotland  \n",
       "0  Raining no high winds  2005         No  \n",
       "1     Fine no high winds  2005         No  \n",
       "2     Fine no high winds  2005         No  \n",
       "3     Fine no high winds  2005         No  \n",
       "4     Fine no high winds  2005         No  \n",
       "\n",
       "[5 rows x 34 columns]"
      ]
     },
     "execution_count": 2,
     "metadata": {},
     "output_type": "execute_result"
    }
   ],
   "source": [
    "Data = pd.read_csv(\"accident_data.csv\")\n",
    "print(len(Data))\n",
    "Data.head()"
   ]
  },
  {
   "cell_type": "markdown",
   "id": "633034fc-e9cf-4bf1-b692-94731f5b77f9",
   "metadata": {},
   "source": [
    "可见，这个数据集共有一百多万条车祸的信息。接着，我们把一些与车祸严重程度本身关系不大的特征。事故编号、马路编号、事发地的行政区、归哪个警察局管都与车祸严重程度无关，删除；由于很多车祸并没有发生在路口，所以缺失这个特征的信息，我们直接把它删除；像东西坐标、经纬度、是否在Scotland等特征都表征车祸发生的地理位置。我们只保留最精确的经纬度。"
   ]
  },
  {
   "cell_type": "code",
   "execution_count": 3,
   "id": "dfb555a8-e607-425b-8bd6-e8cc82379ae0",
   "metadata": {},
   "outputs": [
    {
     "data": {
      "text/html": [
       "<div>\n",
       "<style scoped>\n",
       "    .dataframe tbody tr th:only-of-type {\n",
       "        vertical-align: middle;\n",
       "    }\n",
       "\n",
       "    .dataframe tbody tr th {\n",
       "        vertical-align: top;\n",
       "    }\n",
       "\n",
       "    .dataframe thead th {\n",
       "        text-align: right;\n",
       "    }\n",
       "</style>\n",
       "<table border=\"1\" class=\"dataframe\">\n",
       "  <thead>\n",
       "    <tr style=\"text-align: right;\">\n",
       "      <th></th>\n",
       "      <th>1st_Road_Class</th>\n",
       "      <th>Accident_Severity</th>\n",
       "      <th>Carriageway_Hazards</th>\n",
       "      <th>Date</th>\n",
       "      <th>Day_of_Week</th>\n",
       "      <th>Did_Police_Officer_Attend_Scene_of_Accident</th>\n",
       "      <th>Junction_Control</th>\n",
       "      <th>Junction_Detail</th>\n",
       "      <th>Latitude</th>\n",
       "      <th>Light_Conditions</th>\n",
       "      <th>...</th>\n",
       "      <th>Pedestrian_Crossing-Human_Control</th>\n",
       "      <th>Pedestrian_Crossing-Physical_Facilities</th>\n",
       "      <th>Road_Surface_Conditions</th>\n",
       "      <th>Road_Type</th>\n",
       "      <th>Special_Conditions_at_Site</th>\n",
       "      <th>Speed_limit</th>\n",
       "      <th>Time</th>\n",
       "      <th>Urban_or_Rural_Area</th>\n",
       "      <th>Weather_Conditions</th>\n",
       "      <th>Year</th>\n",
       "    </tr>\n",
       "  </thead>\n",
       "  <tbody>\n",
       "    <tr>\n",
       "      <th>0</th>\n",
       "      <td>A</td>\n",
       "      <td>Serious</td>\n",
       "      <td>None</td>\n",
       "      <td>04/01/2005</td>\n",
       "      <td>Tuesday</td>\n",
       "      <td>1.0</td>\n",
       "      <td>Data missing or out of range</td>\n",
       "      <td>Not at junction or within 20 metres</td>\n",
       "      <td>51.489096</td>\n",
       "      <td>NaN</td>\n",
       "      <td>...</td>\n",
       "      <td>0.0</td>\n",
       "      <td>1.0</td>\n",
       "      <td>Wet or damp</td>\n",
       "      <td>Single carriageway</td>\n",
       "      <td>None</td>\n",
       "      <td>30</td>\n",
       "      <td>17:42</td>\n",
       "      <td>Urban</td>\n",
       "      <td>Raining no high winds</td>\n",
       "      <td>2005</td>\n",
       "    </tr>\n",
       "    <tr>\n",
       "      <th>1</th>\n",
       "      <td>B</td>\n",
       "      <td>Slight</td>\n",
       "      <td>None</td>\n",
       "      <td>05/01/2005</td>\n",
       "      <td>Wednesday</td>\n",
       "      <td>1.0</td>\n",
       "      <td>Auto traffic signal</td>\n",
       "      <td>Crossroads</td>\n",
       "      <td>51.520075</td>\n",
       "      <td>Darkness - lights lit</td>\n",
       "      <td>...</td>\n",
       "      <td>0.0</td>\n",
       "      <td>5.0</td>\n",
       "      <td>Dry</td>\n",
       "      <td>Dual carriageway</td>\n",
       "      <td>None</td>\n",
       "      <td>30</td>\n",
       "      <td>17:36</td>\n",
       "      <td>Urban</td>\n",
       "      <td>Fine no high winds</td>\n",
       "      <td>2005</td>\n",
       "    </tr>\n",
       "    <tr>\n",
       "      <th>2</th>\n",
       "      <td>C</td>\n",
       "      <td>Slight</td>\n",
       "      <td>None</td>\n",
       "      <td>06/01/2005</td>\n",
       "      <td>Thursday</td>\n",
       "      <td>1.0</td>\n",
       "      <td>Data missing or out of range</td>\n",
       "      <td>Not at junction or within 20 metres</td>\n",
       "      <td>51.525301</td>\n",
       "      <td>Darkness - lights lit</td>\n",
       "      <td>...</td>\n",
       "      <td>0.0</td>\n",
       "      <td>0.0</td>\n",
       "      <td>Dry</td>\n",
       "      <td>Single carriageway</td>\n",
       "      <td>None</td>\n",
       "      <td>30</td>\n",
       "      <td>00:15</td>\n",
       "      <td>Urban</td>\n",
       "      <td>Fine no high winds</td>\n",
       "      <td>2005</td>\n",
       "    </tr>\n",
       "    <tr>\n",
       "      <th>3</th>\n",
       "      <td>A</td>\n",
       "      <td>Slight</td>\n",
       "      <td>None</td>\n",
       "      <td>07/01/2005</td>\n",
       "      <td>Friday</td>\n",
       "      <td>1.0</td>\n",
       "      <td>Data missing or out of range</td>\n",
       "      <td>Not at junction or within 20 metres</td>\n",
       "      <td>51.482442</td>\n",
       "      <td>NaN</td>\n",
       "      <td>...</td>\n",
       "      <td>0.0</td>\n",
       "      <td>0.0</td>\n",
       "      <td>Dry</td>\n",
       "      <td>Single carriageway</td>\n",
       "      <td>None</td>\n",
       "      <td>30</td>\n",
       "      <td>10:35</td>\n",
       "      <td>Urban</td>\n",
       "      <td>Fine no high winds</td>\n",
       "      <td>2005</td>\n",
       "    </tr>\n",
       "    <tr>\n",
       "      <th>4</th>\n",
       "      <td>NaN</td>\n",
       "      <td>Slight</td>\n",
       "      <td>None</td>\n",
       "      <td>10/01/2005</td>\n",
       "      <td>Monday</td>\n",
       "      <td>1.0</td>\n",
       "      <td>Data missing or out of range</td>\n",
       "      <td>Not at junction or within 20 metres</td>\n",
       "      <td>51.495752</td>\n",
       "      <td>Darkness - lighting unknown</td>\n",
       "      <td>...</td>\n",
       "      <td>0.0</td>\n",
       "      <td>0.0</td>\n",
       "      <td>Wet or damp</td>\n",
       "      <td>Single carriageway</td>\n",
       "      <td>None</td>\n",
       "      <td>30</td>\n",
       "      <td>21:13</td>\n",
       "      <td>Urban</td>\n",
       "      <td>Fine no high winds</td>\n",
       "      <td>2005</td>\n",
       "    </tr>\n",
       "  </tbody>\n",
       "</table>\n",
       "<p>5 rows × 23 columns</p>\n",
       "</div>"
      ],
      "text/plain": [
       "  1st_Road_Class Accident_Severity Carriageway_Hazards        Date  \\\n",
       "0              A           Serious                None  04/01/2005   \n",
       "1              B            Slight                None  05/01/2005   \n",
       "2              C            Slight                None  06/01/2005   \n",
       "3              A            Slight                None  07/01/2005   \n",
       "4            NaN            Slight                None  10/01/2005   \n",
       "\n",
       "  Day_of_Week  Did_Police_Officer_Attend_Scene_of_Accident  \\\n",
       "0     Tuesday                                          1.0   \n",
       "1   Wednesday                                          1.0   \n",
       "2    Thursday                                          1.0   \n",
       "3      Friday                                          1.0   \n",
       "4      Monday                                          1.0   \n",
       "\n",
       "               Junction_Control                      Junction_Detail  \\\n",
       "0  Data missing or out of range  Not at junction or within 20 metres   \n",
       "1           Auto traffic signal                           Crossroads   \n",
       "2  Data missing or out of range  Not at junction or within 20 metres   \n",
       "3  Data missing or out of range  Not at junction or within 20 metres   \n",
       "4  Data missing or out of range  Not at junction or within 20 metres   \n",
       "\n",
       "    Latitude             Light_Conditions  ...  \\\n",
       "0  51.489096                          NaN  ...   \n",
       "1  51.520075        Darkness - lights lit  ...   \n",
       "2  51.525301        Darkness - lights lit  ...   \n",
       "3  51.482442                          NaN  ...   \n",
       "4  51.495752  Darkness - lighting unknown  ...   \n",
       "\n",
       "   Pedestrian_Crossing-Human_Control  Pedestrian_Crossing-Physical_Facilities  \\\n",
       "0                                0.0                                      1.0   \n",
       "1                                0.0                                      5.0   \n",
       "2                                0.0                                      0.0   \n",
       "3                                0.0                                      0.0   \n",
       "4                                0.0                                      0.0   \n",
       "\n",
       "   Road_Surface_Conditions           Road_Type  Special_Conditions_at_Site  \\\n",
       "0              Wet or damp  Single carriageway                        None   \n",
       "1                      Dry    Dual carriageway                        None   \n",
       "2                      Dry  Single carriageway                        None   \n",
       "3                      Dry  Single carriageway                        None   \n",
       "4              Wet or damp  Single carriageway                        None   \n",
       "\n",
       "  Speed_limit   Time Urban_or_Rural_Area     Weather_Conditions  Year  \n",
       "0          30  17:42               Urban  Raining no high winds  2005  \n",
       "1          30  17:36               Urban     Fine no high winds  2005  \n",
       "2          30  00:15               Urban     Fine no high winds  2005  \n",
       "3          30  10:35               Urban     Fine no high winds  2005  \n",
       "4          30  21:13               Urban     Fine no high winds  2005  \n",
       "\n",
       "[5 rows x 23 columns]"
      ]
     },
     "execution_count": 3,
     "metadata": {},
     "output_type": "execute_result"
    }
   ],
   "source": [
    "Data1 = Data.drop(labels=['Accident_Index','1st_Road_Number','2nd_Road_Class','2nd_Road_Number','Local_Authority_(District)','Local_Authority_(Highway)','Location_Easting_OSGR','Location_Northing_OSGR','LSOA_of_Accident_Location','Police_Force','InScotland'], axis =1) \n",
    "Data1.head()"
   ]
  },
  {
   "cell_type": "markdown",
   "id": "34a5faad-363d-4f2f-a22d-4a949c110fa6",
   "metadata": {},
   "source": [
    "现在我们就可以对数据集进行清洗了。首先，我们剔除数据集中不完整的数据行。"
   ]
  },
  {
   "cell_type": "code",
   "execution_count": 4,
   "id": "cabcdf69-e8bc-45b6-a4a5-e09773eeb641",
   "metadata": {},
   "outputs": [
    {
     "name": "stdout",
     "output_type": "stream",
     "text": [
      "724313\n"
     ]
    }
   ],
   "source": [
    "Data2 = Data1.dropna()\n",
    "print(len(Data2))"
   ]
  },
  {
   "cell_type": "markdown",
   "id": "26de9108-70ef-44b7-8019-176c9b09e0be",
   "metadata": {},
   "source": [
    "然后剔除重复的行："
   ]
  },
  {
   "cell_type": "code",
   "execution_count": 5,
   "id": "a2c3debe-2117-47e0-9fc5-682ce007a6d3",
   "metadata": {},
   "outputs": [
    {
     "name": "stdout",
     "output_type": "stream",
     "text": [
      "724296\n"
     ]
    },
    {
     "data": {
      "text/html": [
       "<div>\n",
       "<style scoped>\n",
       "    .dataframe tbody tr th:only-of-type {\n",
       "        vertical-align: middle;\n",
       "    }\n",
       "\n",
       "    .dataframe tbody tr th {\n",
       "        vertical-align: top;\n",
       "    }\n",
       "\n",
       "    .dataframe thead th {\n",
       "        text-align: right;\n",
       "    }\n",
       "</style>\n",
       "<table border=\"1\" class=\"dataframe\">\n",
       "  <thead>\n",
       "    <tr style=\"text-align: right;\">\n",
       "      <th></th>\n",
       "      <th>1st_Road_Class</th>\n",
       "      <th>Accident_Severity</th>\n",
       "      <th>Carriageway_Hazards</th>\n",
       "      <th>Date</th>\n",
       "      <th>Day_of_Week</th>\n",
       "      <th>Did_Police_Officer_Attend_Scene_of_Accident</th>\n",
       "      <th>Junction_Control</th>\n",
       "      <th>Junction_Detail</th>\n",
       "      <th>Latitude</th>\n",
       "      <th>Light_Conditions</th>\n",
       "      <th>...</th>\n",
       "      <th>Pedestrian_Crossing-Human_Control</th>\n",
       "      <th>Pedestrian_Crossing-Physical_Facilities</th>\n",
       "      <th>Road_Surface_Conditions</th>\n",
       "      <th>Road_Type</th>\n",
       "      <th>Special_Conditions_at_Site</th>\n",
       "      <th>Speed_limit</th>\n",
       "      <th>Time</th>\n",
       "      <th>Urban_or_Rural_Area</th>\n",
       "      <th>Weather_Conditions</th>\n",
       "      <th>Year</th>\n",
       "    </tr>\n",
       "  </thead>\n",
       "  <tbody>\n",
       "    <tr>\n",
       "      <th>0</th>\n",
       "      <td>B</td>\n",
       "      <td>Slight</td>\n",
       "      <td>None</td>\n",
       "      <td>05/01/2005</td>\n",
       "      <td>Wednesday</td>\n",
       "      <td>1.0</td>\n",
       "      <td>Auto traffic signal</td>\n",
       "      <td>Crossroads</td>\n",
       "      <td>51.520075</td>\n",
       "      <td>Darkness - lights lit</td>\n",
       "      <td>...</td>\n",
       "      <td>0.0</td>\n",
       "      <td>5.0</td>\n",
       "      <td>Dry</td>\n",
       "      <td>Dual carriageway</td>\n",
       "      <td>None</td>\n",
       "      <td>30</td>\n",
       "      <td>17:36</td>\n",
       "      <td>Urban</td>\n",
       "      <td>Fine no high winds</td>\n",
       "      <td>2005</td>\n",
       "    </tr>\n",
       "    <tr>\n",
       "      <th>1</th>\n",
       "      <td>C</td>\n",
       "      <td>Slight</td>\n",
       "      <td>None</td>\n",
       "      <td>06/01/2005</td>\n",
       "      <td>Thursday</td>\n",
       "      <td>1.0</td>\n",
       "      <td>Data missing or out of range</td>\n",
       "      <td>Not at junction or within 20 metres</td>\n",
       "      <td>51.525301</td>\n",
       "      <td>Darkness - lights lit</td>\n",
       "      <td>...</td>\n",
       "      <td>0.0</td>\n",
       "      <td>0.0</td>\n",
       "      <td>Dry</td>\n",
       "      <td>Single carriageway</td>\n",
       "      <td>None</td>\n",
       "      <td>30</td>\n",
       "      <td>00:15</td>\n",
       "      <td>Urban</td>\n",
       "      <td>Fine no high winds</td>\n",
       "      <td>2005</td>\n",
       "    </tr>\n",
       "    <tr>\n",
       "      <th>2</th>\n",
       "      <td>C</td>\n",
       "      <td>Slight</td>\n",
       "      <td>None</td>\n",
       "      <td>13/01/2005</td>\n",
       "      <td>Thursday</td>\n",
       "      <td>1.0</td>\n",
       "      <td>Give way or uncontrolled</td>\n",
       "      <td>T or staggered junction</td>\n",
       "      <td>51.512695</td>\n",
       "      <td>Darkness - lights lit</td>\n",
       "      <td>...</td>\n",
       "      <td>0.0</td>\n",
       "      <td>0.0</td>\n",
       "      <td>Dry</td>\n",
       "      <td>Single carriageway</td>\n",
       "      <td>None</td>\n",
       "      <td>30</td>\n",
       "      <td>20:40</td>\n",
       "      <td>Urban</td>\n",
       "      <td>Fine no high winds</td>\n",
       "      <td>2005</td>\n",
       "    </tr>\n",
       "    <tr>\n",
       "      <th>3</th>\n",
       "      <td>A</td>\n",
       "      <td>Slight</td>\n",
       "      <td>None</td>\n",
       "      <td>15/01/2005</td>\n",
       "      <td>Saturday</td>\n",
       "      <td>1.0</td>\n",
       "      <td>Auto traffic signal</td>\n",
       "      <td>Crossroads</td>\n",
       "      <td>51.483420</td>\n",
       "      <td>Darkness - lights lit</td>\n",
       "      <td>...</td>\n",
       "      <td>0.0</td>\n",
       "      <td>5.0</td>\n",
       "      <td>Dry</td>\n",
       "      <td>Single carriageway</td>\n",
       "      <td>None</td>\n",
       "      <td>30</td>\n",
       "      <td>22:43</td>\n",
       "      <td>Urban</td>\n",
       "      <td>Fine no high winds</td>\n",
       "      <td>2005</td>\n",
       "    </tr>\n",
       "    <tr>\n",
       "      <th>4</th>\n",
       "      <td>A</td>\n",
       "      <td>Slight</td>\n",
       "      <td>None</td>\n",
       "      <td>16/01/2005</td>\n",
       "      <td>Sunday</td>\n",
       "      <td>1.0</td>\n",
       "      <td>Auto traffic signal</td>\n",
       "      <td>Crossroads</td>\n",
       "      <td>51.494902</td>\n",
       "      <td>Darkness - lights lit</td>\n",
       "      <td>...</td>\n",
       "      <td>0.0</td>\n",
       "      <td>5.0</td>\n",
       "      <td>Dry</td>\n",
       "      <td>Single carriageway</td>\n",
       "      <td>None</td>\n",
       "      <td>30</td>\n",
       "      <td>00:42</td>\n",
       "      <td>Urban</td>\n",
       "      <td>Fine no high winds</td>\n",
       "      <td>2005</td>\n",
       "    </tr>\n",
       "  </tbody>\n",
       "</table>\n",
       "<p>5 rows × 23 columns</p>\n",
       "</div>"
      ],
      "text/plain": [
       "  1st_Road_Class Accident_Severity Carriageway_Hazards        Date  \\\n",
       "0              B            Slight                None  05/01/2005   \n",
       "1              C            Slight                None  06/01/2005   \n",
       "2              C            Slight                None  13/01/2005   \n",
       "3              A            Slight                None  15/01/2005   \n",
       "4              A            Slight                None  16/01/2005   \n",
       "\n",
       "  Day_of_Week  Did_Police_Officer_Attend_Scene_of_Accident  \\\n",
       "0   Wednesday                                          1.0   \n",
       "1    Thursday                                          1.0   \n",
       "2    Thursday                                          1.0   \n",
       "3    Saturday                                          1.0   \n",
       "4      Sunday                                          1.0   \n",
       "\n",
       "               Junction_Control                      Junction_Detail  \\\n",
       "0           Auto traffic signal                           Crossroads   \n",
       "1  Data missing or out of range  Not at junction or within 20 metres   \n",
       "2      Give way or uncontrolled              T or staggered junction   \n",
       "3           Auto traffic signal                           Crossroads   \n",
       "4           Auto traffic signal                           Crossroads   \n",
       "\n",
       "    Latitude       Light_Conditions  ...  Pedestrian_Crossing-Human_Control  \\\n",
       "0  51.520075  Darkness - lights lit  ...                                0.0   \n",
       "1  51.525301  Darkness - lights lit  ...                                0.0   \n",
       "2  51.512695  Darkness - lights lit  ...                                0.0   \n",
       "3  51.483420  Darkness - lights lit  ...                                0.0   \n",
       "4  51.494902  Darkness - lights lit  ...                                0.0   \n",
       "\n",
       "   Pedestrian_Crossing-Physical_Facilities  Road_Surface_Conditions  \\\n",
       "0                                      5.0                      Dry   \n",
       "1                                      0.0                      Dry   \n",
       "2                                      0.0                      Dry   \n",
       "3                                      5.0                      Dry   \n",
       "4                                      5.0                      Dry   \n",
       "\n",
       "            Road_Type  Special_Conditions_at_Site Speed_limit   Time  \\\n",
       "0    Dual carriageway                        None          30  17:36   \n",
       "1  Single carriageway                        None          30  00:15   \n",
       "2  Single carriageway                        None          30  20:40   \n",
       "3  Single carriageway                        None          30  22:43   \n",
       "4  Single carriageway                        None          30  00:42   \n",
       "\n",
       "  Urban_or_Rural_Area  Weather_Conditions  Year  \n",
       "0               Urban  Fine no high winds  2005  \n",
       "1               Urban  Fine no high winds  2005  \n",
       "2               Urban  Fine no high winds  2005  \n",
       "3               Urban  Fine no high winds  2005  \n",
       "4               Urban  Fine no high winds  2005  \n",
       "\n",
       "[5 rows x 23 columns]"
      ]
     },
     "execution_count": 5,
     "metadata": {},
     "output_type": "execute_result"
    }
   ],
   "source": [
    "Data3 = Data2.drop_duplicates()\n",
    "Data3 = Data3.reset_index()\n",
    "Data3 = Data3.drop(labels = ['index'],axis=1)\n",
    "print(len(Data3))\n",
    "Data3.head()"
   ]
  },
  {
   "cell_type": "markdown",
   "id": "60bdec95-828a-406f-80b0-fbdc723ac33b",
   "metadata": {},
   "source": [
    "现在数据集中没有哪一个数据是空白的，也没有那两行是重复的了。接下去，我们再对某些特征的取值范围进行探索。"
   ]
  },
  {
   "cell_type": "code",
   "execution_count": 6,
   "id": "86fcaede-39c9-4de9-8242-e00f86370b1d",
   "metadata": {},
   "outputs": [
    {
     "name": "stdout",
     "output_type": "stream",
     "text": [
      "['None', 'Other object on road', 'Previous accident', 'Any animal in carriageway (except ridden horse)', 'Vehicle load on road', 'Pedestrian in carriageway - not injured']\n"
     ]
    }
   ],
   "source": [
    "#Carriageway_Hazards\n",
    "def HasIndex(A,x):\n",
    "    for i in range(len(A)):\n",
    "        if (A[i]==x):\n",
    "            return 1\n",
    "            break\n",
    "    return 0\n",
    "Car_Ha=[]\n",
    "for i in range(len(Data3)):\n",
    "    if HasIndex(Car_Ha,Data3['Carriageway_Hazards'][i])==0:\n",
    "        Car_Ha.append(Data3['Carriageway_Hazards'][i])\n",
    "print(Car_Ha)"
   ]
  },
  {
   "cell_type": "markdown",
   "id": "de4d2efc-0e67-4a5c-9fb9-af0e5a9f64ed",
   "metadata": {},
   "source": [
    "可见，Carriageway_Hazards这个特征就有'None','Other object on road', 'Previous accident', 'Any animal in carriageway (except ridden horse)', 'Vehicle load on road', 'Pedestrian in carriageway - not injured'这五个可能的取值。我们再用同样的方法求出其它特征的取值范围。"
   ]
  },
  {
   "cell_type": "code",
   "execution_count": 7,
   "id": "c126646c-7563-4d6b-89ae-3f342e1e6dc5",
   "metadata": {},
   "outputs": [
    {
     "name": "stdout",
     "output_type": "stream",
     "text": [
      "['B', 'C', 'A', 'Motorway', 'A(M)']\n"
     ]
    }
   ],
   "source": [
    "#1st_Road_Class\n",
    "One_Rd_Cl=[]\n",
    "for i in range(len(Data3)):\n",
    "    if HasIndex(One_Rd_Cl,Data3['1st_Road_Class'][i])==0:\n",
    "        One_Rd_Cl.append(Data3['1st_Road_Class'][i])\n",
    "print(One_Rd_Cl)"
   ]
  },
  {
   "cell_type": "code",
   "execution_count": 8,
   "id": "987307af-e4f3-48e9-ab4f-5382ad02b119",
   "metadata": {},
   "outputs": [
    {
     "name": "stdout",
     "output_type": "stream",
     "text": [
      "['Slight', 'Serious', 'Fatal']\n"
     ]
    }
   ],
   "source": [
    "#Accident_Severity\n",
    "Acci_Seve=[]\n",
    "for i in range(len(Data3)):\n",
    "    if HasIndex(Acci_Seve,Data3['Accident_Severity'][i])==0:\n",
    "        Acci_Seve.append(Data3['Accident_Severity'][i])\n",
    "print(Acci_Seve)"
   ]
  },
  {
   "cell_type": "code",
   "execution_count": 9,
   "id": "6f82c41c-6f7a-4496-9baa-c30b528aa233",
   "metadata": {},
   "outputs": [
    {
     "name": "stdout",
     "output_type": "stream",
     "text": [
      "['Wednesday', 'Thursday', 'Saturday', 'Sunday', 'Tuesday', 'Friday', 'Monday']\n"
     ]
    }
   ],
   "source": [
    "#Day_of_Week\n",
    "D_o_w=[]\n",
    "for i in range(len(Data3)):\n",
    "    if HasIndex(D_o_w,Data3['Day_of_Week'][i])==0:\n",
    "        D_o_w.append(Data3['Day_of_Week'][i])\n",
    "print(D_o_w)"
   ]
  },
  {
   "cell_type": "code",
   "execution_count": 10,
   "id": "5cbab353-9fd8-4719-8aaa-6026395f016f",
   "metadata": {},
   "outputs": [
    {
     "name": "stdout",
     "output_type": "stream",
     "text": [
      "[1.0, 2.0, 3.0]\n"
     ]
    }
   ],
   "source": [
    "#Did_Police_Officer_Attend_Scene_of_Accident\n",
    "DPOASA=[]\n",
    "for i in range(len(Data3)):\n",
    "    if HasIndex(DPOASA,Data3['Did_Police_Officer_Attend_Scene_of_Accident'][i])==0:\n",
    "        DPOASA.append(Data3['Did_Police_Officer_Attend_Scene_of_Accident'][i])\n",
    "print(DPOASA)"
   ]
  },
  {
   "cell_type": "code",
   "execution_count": 11,
   "id": "d7200b49-fd22-4b7b-b0c3-8145815070b4",
   "metadata": {},
   "outputs": [
    {
     "name": "stdout",
     "output_type": "stream",
     "text": [
      "['Auto traffic signal', 'Data missing or out of range', 'Give way or uncontrolled', 'Stop sign', 'Authorised person', 'Auto traffic sigl', 'Not at junction or within 20 metres']\n"
     ]
    }
   ],
   "source": [
    "#Junction_Control\n",
    "Jc_Ct=[]\n",
    "for i in range(len(Data3)):\n",
    "    if HasIndex(Jc_Ct,Data3['Junction_Control'][i])==0:\n",
    "        Jc_Ct.append(Data3['Junction_Control'][i])\n",
    "print(Jc_Ct)"
   ]
  },
  {
   "cell_type": "code",
   "execution_count": 12,
   "id": "dcb2076a-afc7-4521-a423-e2fba70a82e9",
   "metadata": {},
   "outputs": [
    {
     "name": "stdout",
     "output_type": "stream",
     "text": [
      "['Crossroads', 'Not at junction or within 20 metres', 'T or staggered junction', 'Mini-roundabout', 'Other junction', 'More than 4 arms (not roundabout)', 'Roundabout', 'Private drive or entrance', 'Slip road', 'Data missing or out of range']\n"
     ]
    }
   ],
   "source": [
    "#Junction_Detail\n",
    "Jc_De=[]\n",
    "for i in range(len(Data3)):\n",
    "    if HasIndex(Jc_De,Data3['Junction_Detail'][i])==0:\n",
    "        Jc_De.append(Data3['Junction_Detail'][i])\n",
    "print(Jc_De)"
   ]
  },
  {
   "cell_type": "code",
   "execution_count": 13,
   "id": "3de214b9-e517-417a-8bb0-ae824225622a",
   "metadata": {},
   "outputs": [
    {
     "name": "stdout",
     "output_type": "stream",
     "text": [
      "['Darkness - lights lit', 'Darkness - lighting unknown', 'Darkness - lights unlit', 'Daylight', 'Darkness - no lighting']\n"
     ]
    }
   ],
   "source": [
    "#Light_Conditions\n",
    "Lit_Condi=[]\n",
    "for i in range(len(Data3)):\n",
    "    if HasIndex(Lit_Condi,Data3['Light_Conditions'][i])==0:\n",
    "        Lit_Condi.append(Data3['Light_Conditions'][i])\n",
    "print(Lit_Condi)"
   ]
  },
  {
   "cell_type": "code",
   "execution_count": 14,
   "id": "a64dd3d2-6fe7-4010-a86f-9e093dc32eaf",
   "metadata": {},
   "outputs": [
    {
     "name": "stdout",
     "output_type": "stream",
     "text": [
      "['Dry', 'Wet or damp', 'Frost or ice', 'Snow', 'Flood over 3cm. deep']\n"
     ]
    }
   ],
   "source": [
    "#Road_Surface_Conditions\n",
    "R_S_Condi=[]\n",
    "for i in range(len(Data3)):\n",
    "    if HasIndex(R_S_Condi,Data3['Road_Surface_Conditions'][i])==0:\n",
    "        R_S_Condi.append(Data3['Road_Surface_Conditions'][i])\n",
    "print(R_S_Condi)"
   ]
  },
  {
   "cell_type": "code",
   "execution_count": 15,
   "id": "f3a90522-447b-408d-ac28-714440637d34",
   "metadata": {},
   "outputs": [
    {
     "name": "stdout",
     "output_type": "stream",
     "text": [
      "['Dual carriageway', 'Single carriageway', 'One way street', 'Roundabout', 'Slip road']\n"
     ]
    }
   ],
   "source": [
    "#Road_Type\n",
    "Rd_Tp=[]\n",
    "for i in range(len(Data3)):\n",
    "    if HasIndex(Rd_Tp,Data3['Road_Type'][i])==0:\n",
    "        Rd_Tp.append(Data3['Road_Type'][i])\n",
    "print(Rd_Tp)"
   ]
  },
  {
   "cell_type": "code",
   "execution_count": 16,
   "id": "374936a6-90ed-44f4-aadb-dbbd01b53905",
   "metadata": {},
   "outputs": [
    {
     "name": "stdout",
     "output_type": "stream",
     "text": [
      "['None', 'Roadworks', 'Road surface defective', 'Auto traffic signal - out', 'Road sign or marking defective or obscured', 'Auto signal part defective', 'Oil or diesel', 'Mud', 'Auto traffic sigl - out', 'Auto sigl part defective']\n"
     ]
    }
   ],
   "source": [
    "#Special_Conditions_at_Site\n",
    "Speci_Condi=[]\n",
    "for i in range(len(Data3)):\n",
    "    if HasIndex(Speci_Condi,Data3['Special_Conditions_at_Site'][i])==0:\n",
    "        Speci_Condi.append(Data3['Special_Conditions_at_Site'][i])\n",
    "print(Speci_Condi)"
   ]
  },
  {
   "cell_type": "code",
   "execution_count": 17,
   "id": "969ae5be-fcea-4a1b-9a42-7746411e5cf6",
   "metadata": {},
   "outputs": [
    {
     "name": "stdout",
     "output_type": "stream",
     "text": [
      "['Urban', 'Rural', 'Unallocated']\n"
     ]
    }
   ],
   "source": [
    "#Urban_or_Rural_Area\n",
    "Urb_Rur=[]\n",
    "for i in range(len(Data3)):\n",
    "    if HasIndex(Urb_Rur,Data3['Urban_or_Rural_Area'][i])==0:\n",
    "        Urb_Rur.append(Data3['Urban_or_Rural_Area'][i])\n",
    "print(Urb_Rur)"
   ]
  },
  {
   "cell_type": "code",
   "execution_count": 18,
   "id": "bf6f007d-000d-46ff-97fa-3783c381882d",
   "metadata": {},
   "outputs": [
    {
     "name": "stdout",
     "output_type": "stream",
     "text": [
      "['Fine no high winds', 'Raining no high winds', 'Other', 'Snowing no high winds', 'Fine + high winds', 'Raining + high winds', 'Fog or mist', 'Snowing + high winds']\n"
     ]
    }
   ],
   "source": [
    "#Weather_Conditions\n",
    "Wet_Condi=[]\n",
    "for i in range(len(Data3)):\n",
    "    if HasIndex(Wet_Condi,Data3['Weather_Conditions'][i])==0:\n",
    "        Wet_Condi.append(Data3['Weather_Conditions'][i])\n",
    "print(Wet_Condi)"
   ]
  },
  {
   "cell_type": "markdown",
   "id": "1b186b0e-b330-45a5-9efe-0eaa469b3908",
   "metadata": {},
   "source": [
    "在获取完这些文字型特征的取值范围后，我们发现数据集中尚且还存在着一些以文字形式出现的数据空缺。我们还要把这些有空缺的行删掉。"
   ]
  },
  {
   "cell_type": "code",
   "execution_count": 19,
   "id": "9fd4248a-f18a-4cfd-bf02-f58acdf97272",
   "metadata": {},
   "outputs": [
    {
     "name": "stdout",
     "output_type": "stream",
     "text": [
      "447099\n"
     ]
    },
    {
     "data": {
      "text/html": [
       "<div>\n",
       "<style scoped>\n",
       "    .dataframe tbody tr th:only-of-type {\n",
       "        vertical-align: middle;\n",
       "    }\n",
       "\n",
       "    .dataframe tbody tr th {\n",
       "        vertical-align: top;\n",
       "    }\n",
       "\n",
       "    .dataframe thead th {\n",
       "        text-align: right;\n",
       "    }\n",
       "</style>\n",
       "<table border=\"1\" class=\"dataframe\">\n",
       "  <thead>\n",
       "    <tr style=\"text-align: right;\">\n",
       "      <th></th>\n",
       "      <th>1st_Road_Class</th>\n",
       "      <th>Accident_Severity</th>\n",
       "      <th>Carriageway_Hazards</th>\n",
       "      <th>Date</th>\n",
       "      <th>Day_of_Week</th>\n",
       "      <th>Did_Police_Officer_Attend_Scene_of_Accident</th>\n",
       "      <th>Junction_Control</th>\n",
       "      <th>Junction_Detail</th>\n",
       "      <th>Latitude</th>\n",
       "      <th>Light_Conditions</th>\n",
       "      <th>...</th>\n",
       "      <th>Pedestrian_Crossing-Human_Control</th>\n",
       "      <th>Pedestrian_Crossing-Physical_Facilities</th>\n",
       "      <th>Road_Surface_Conditions</th>\n",
       "      <th>Road_Type</th>\n",
       "      <th>Special_Conditions_at_Site</th>\n",
       "      <th>Speed_limit</th>\n",
       "      <th>Time</th>\n",
       "      <th>Urban_or_Rural_Area</th>\n",
       "      <th>Weather_Conditions</th>\n",
       "      <th>Year</th>\n",
       "    </tr>\n",
       "  </thead>\n",
       "  <tbody>\n",
       "    <tr>\n",
       "      <th>0</th>\n",
       "      <td>B</td>\n",
       "      <td>Slight</td>\n",
       "      <td>None</td>\n",
       "      <td>05/01/2005</td>\n",
       "      <td>Wednesday</td>\n",
       "      <td>1.0</td>\n",
       "      <td>Auto traffic signal</td>\n",
       "      <td>Crossroads</td>\n",
       "      <td>51.520075</td>\n",
       "      <td>Darkness - lights lit</td>\n",
       "      <td>...</td>\n",
       "      <td>0.0</td>\n",
       "      <td>5.0</td>\n",
       "      <td>Dry</td>\n",
       "      <td>Dual carriageway</td>\n",
       "      <td>None</td>\n",
       "      <td>30</td>\n",
       "      <td>17:36</td>\n",
       "      <td>Urban</td>\n",
       "      <td>Fine no high winds</td>\n",
       "      <td>2005</td>\n",
       "    </tr>\n",
       "    <tr>\n",
       "      <th>1</th>\n",
       "      <td>C</td>\n",
       "      <td>Slight</td>\n",
       "      <td>None</td>\n",
       "      <td>13/01/2005</td>\n",
       "      <td>Thursday</td>\n",
       "      <td>1.0</td>\n",
       "      <td>Give way or uncontrolled</td>\n",
       "      <td>T or staggered junction</td>\n",
       "      <td>51.512695</td>\n",
       "      <td>Darkness - lights lit</td>\n",
       "      <td>...</td>\n",
       "      <td>0.0</td>\n",
       "      <td>0.0</td>\n",
       "      <td>Dry</td>\n",
       "      <td>Single carriageway</td>\n",
       "      <td>None</td>\n",
       "      <td>30</td>\n",
       "      <td>20:40</td>\n",
       "      <td>Urban</td>\n",
       "      <td>Fine no high winds</td>\n",
       "      <td>2005</td>\n",
       "    </tr>\n",
       "    <tr>\n",
       "      <th>2</th>\n",
       "      <td>A</td>\n",
       "      <td>Slight</td>\n",
       "      <td>None</td>\n",
       "      <td>15/01/2005</td>\n",
       "      <td>Saturday</td>\n",
       "      <td>1.0</td>\n",
       "      <td>Auto traffic signal</td>\n",
       "      <td>Crossroads</td>\n",
       "      <td>51.483420</td>\n",
       "      <td>Darkness - lights lit</td>\n",
       "      <td>...</td>\n",
       "      <td>0.0</td>\n",
       "      <td>5.0</td>\n",
       "      <td>Dry</td>\n",
       "      <td>Single carriageway</td>\n",
       "      <td>None</td>\n",
       "      <td>30</td>\n",
       "      <td>22:43</td>\n",
       "      <td>Urban</td>\n",
       "      <td>Fine no high winds</td>\n",
       "      <td>2005</td>\n",
       "    </tr>\n",
       "    <tr>\n",
       "      <th>3</th>\n",
       "      <td>A</td>\n",
       "      <td>Slight</td>\n",
       "      <td>None</td>\n",
       "      <td>16/01/2005</td>\n",
       "      <td>Sunday</td>\n",
       "      <td>1.0</td>\n",
       "      <td>Auto traffic signal</td>\n",
       "      <td>Crossroads</td>\n",
       "      <td>51.494902</td>\n",
       "      <td>Darkness - lights lit</td>\n",
       "      <td>...</td>\n",
       "      <td>0.0</td>\n",
       "      <td>5.0</td>\n",
       "      <td>Dry</td>\n",
       "      <td>Single carriageway</td>\n",
       "      <td>None</td>\n",
       "      <td>30</td>\n",
       "      <td>00:42</td>\n",
       "      <td>Urban</td>\n",
       "      <td>Fine no high winds</td>\n",
       "      <td>2005</td>\n",
       "    </tr>\n",
       "    <tr>\n",
       "      <th>4</th>\n",
       "      <td>A</td>\n",
       "      <td>Slight</td>\n",
       "      <td>None</td>\n",
       "      <td>25/01/2005</td>\n",
       "      <td>Tuesday</td>\n",
       "      <td>1.0</td>\n",
       "      <td>Auto traffic signal</td>\n",
       "      <td>Crossroads</td>\n",
       "      <td>51.484044</td>\n",
       "      <td>Darkness - lights lit</td>\n",
       "      <td>...</td>\n",
       "      <td>0.0</td>\n",
       "      <td>5.0</td>\n",
       "      <td>Wet or damp</td>\n",
       "      <td>Single carriageway</td>\n",
       "      <td>None</td>\n",
       "      <td>30</td>\n",
       "      <td>20:48</td>\n",
       "      <td>Urban</td>\n",
       "      <td>Fine no high winds</td>\n",
       "      <td>2005</td>\n",
       "    </tr>\n",
       "  </tbody>\n",
       "</table>\n",
       "<p>5 rows × 23 columns</p>\n",
       "</div>"
      ],
      "text/plain": [
       "  1st_Road_Class Accident_Severity Carriageway_Hazards        Date  \\\n",
       "0              B            Slight                None  05/01/2005   \n",
       "1              C            Slight                None  13/01/2005   \n",
       "2              A            Slight                None  15/01/2005   \n",
       "3              A            Slight                None  16/01/2005   \n",
       "4              A            Slight                None  25/01/2005   \n",
       "\n",
       "  Day_of_Week  Did_Police_Officer_Attend_Scene_of_Accident  \\\n",
       "0   Wednesday                                          1.0   \n",
       "1    Thursday                                          1.0   \n",
       "2    Saturday                                          1.0   \n",
       "3      Sunday                                          1.0   \n",
       "4     Tuesday                                          1.0   \n",
       "\n",
       "           Junction_Control          Junction_Detail   Latitude  \\\n",
       "0       Auto traffic signal               Crossroads  51.520075   \n",
       "1  Give way or uncontrolled  T or staggered junction  51.512695   \n",
       "2       Auto traffic signal               Crossroads  51.483420   \n",
       "3       Auto traffic signal               Crossroads  51.494902   \n",
       "4       Auto traffic signal               Crossroads  51.484044   \n",
       "\n",
       "        Light_Conditions  ...  Pedestrian_Crossing-Human_Control  \\\n",
       "0  Darkness - lights lit  ...                                0.0   \n",
       "1  Darkness - lights lit  ...                                0.0   \n",
       "2  Darkness - lights lit  ...                                0.0   \n",
       "3  Darkness - lights lit  ...                                0.0   \n",
       "4  Darkness - lights lit  ...                                0.0   \n",
       "\n",
       "   Pedestrian_Crossing-Physical_Facilities  Road_Surface_Conditions  \\\n",
       "0                                      5.0                      Dry   \n",
       "1                                      0.0                      Dry   \n",
       "2                                      5.0                      Dry   \n",
       "3                                      5.0                      Dry   \n",
       "4                                      5.0              Wet or damp   \n",
       "\n",
       "            Road_Type  Special_Conditions_at_Site Speed_limit   Time  \\\n",
       "0    Dual carriageway                        None          30  17:36   \n",
       "1  Single carriageway                        None          30  20:40   \n",
       "2  Single carriageway                        None          30  22:43   \n",
       "3  Single carriageway                        None          30  00:42   \n",
       "4  Single carriageway                        None          30  20:48   \n",
       "\n",
       "  Urban_or_Rural_Area  Weather_Conditions  Year  \n",
       "0               Urban  Fine no high winds  2005  \n",
       "1               Urban  Fine no high winds  2005  \n",
       "2               Urban  Fine no high winds  2005  \n",
       "3               Urban  Fine no high winds  2005  \n",
       "4               Urban  Fine no high winds  2005  \n",
       "\n",
       "[5 rows x 23 columns]"
      ]
     },
     "execution_count": 19,
     "metadata": {},
     "output_type": "execute_result"
    }
   ],
   "source": [
    "i_invalid = []\n",
    "for i in range(len(Data3)):\n",
    "    if (Data3['Junction_Control'][i]=='Data missing or out of range')|(Data3['Junction_Detail'][i]=='Data missing or out of range')|(Data3['Junction_Detail'][i]=='Other junction')|(Data3['Light_Conditions'][i]=='Darkness - lighting unknown')|(Data3['Urban_or_Rural_Area'][i]=='Unallocated')|(Data3['Weather_Conditions'][i]=='Other'):\n",
    "        i_invalid.append(i)\n",
    "Data4=Data3.drop(labels = i_invalid)\n",
    "Data5 = Data4.drop_duplicates()\n",
    "Data5 = Data5.reset_index()\n",
    "Data5 = Data5.drop(labels = ['index'],axis=1)\n",
    "print(len(Data5))\n",
    "Data5.head()"
   ]
  },
  {
   "cell_type": "code",
   "execution_count": 20,
   "id": "975bfdcb-3810-4b99-b4c2-35669e442104",
   "metadata": {},
   "outputs": [],
   "source": [
    "Jc_Ct.remove('Data missing or out of range')\n",
    "Jc_De.remove('Data missing or out of range')\n",
    "Jc_De.remove('Other junction')\n",
    "Lit_Condi.remove('Darkness - lighting unknown')\n",
    "Urb_Rur.remove('Unallocated')\n",
    "Wet_Condi.remove('Other')"
   ]
  },
  {
   "cell_type": "markdown",
   "id": "860f6816-c19b-4343-a076-9d4129875479",
   "metadata": {},
   "source": [
    "我们还发现数据集中存在这样的问题：像'Auto traffic signal'和'Auto traffic sigl'这样本质上完全一样的情况被分为两个不同的特征。这对我们的分析与建模是不利的。所以，我们要把它们合并为一种情况。"
   ]
  },
  {
   "cell_type": "code",
   "execution_count": 21,
   "id": "54752024-dfc8-49b6-b7be-bf194a80ef46",
   "metadata": {},
   "outputs": [
    {
     "name": "stderr",
     "output_type": "stream",
     "text": [
      "/tmp/ipykernel_2544237/2038782602.py:7: SettingWithCopyWarning: \n",
      "A value is trying to be set on a copy of a slice from a DataFrame\n",
      "\n",
      "See the caveats in the documentation: https://pandas.pydata.org/pandas-docs/stable/user_guide/indexing.html#returning-a-view-versus-a-copy\n",
      "  Data5['Special_Conditions_at_Site'][i]='Auto traffic signal - out'\n",
      "/tmp/ipykernel_2544237/2038782602.py:5: SettingWithCopyWarning: \n",
      "A value is trying to be set on a copy of a slice from a DataFrame\n",
      "\n",
      "See the caveats in the documentation: https://pandas.pydata.org/pandas-docs/stable/user_guide/indexing.html#returning-a-view-versus-a-copy\n",
      "  Data5['Light_Conditions'][i]='Darkness - lights unlit'\n",
      "/tmp/ipykernel_2544237/2038782602.py:3: SettingWithCopyWarning: \n",
      "A value is trying to be set on a copy of a slice from a DataFrame\n",
      "\n",
      "See the caveats in the documentation: https://pandas.pydata.org/pandas-docs/stable/user_guide/indexing.html#returning-a-view-versus-a-copy\n",
      "  Data5['Junction_Control'][i]='Auto traffic signal'\n"
     ]
    },
    {
     "data": {
      "text/html": [
       "<div>\n",
       "<style scoped>\n",
       "    .dataframe tbody tr th:only-of-type {\n",
       "        vertical-align: middle;\n",
       "    }\n",
       "\n",
       "    .dataframe tbody tr th {\n",
       "        vertical-align: top;\n",
       "    }\n",
       "\n",
       "    .dataframe thead th {\n",
       "        text-align: right;\n",
       "    }\n",
       "</style>\n",
       "<table border=\"1\" class=\"dataframe\">\n",
       "  <thead>\n",
       "    <tr style=\"text-align: right;\">\n",
       "      <th></th>\n",
       "      <th>1st_Road_Class</th>\n",
       "      <th>Accident_Severity</th>\n",
       "      <th>Carriageway_Hazards</th>\n",
       "      <th>Date</th>\n",
       "      <th>Day_of_Week</th>\n",
       "      <th>Did_Police_Officer_Attend_Scene_of_Accident</th>\n",
       "      <th>Junction_Control</th>\n",
       "      <th>Junction_Detail</th>\n",
       "      <th>Latitude</th>\n",
       "      <th>Light_Conditions</th>\n",
       "      <th>...</th>\n",
       "      <th>Pedestrian_Crossing-Human_Control</th>\n",
       "      <th>Pedestrian_Crossing-Physical_Facilities</th>\n",
       "      <th>Road_Surface_Conditions</th>\n",
       "      <th>Road_Type</th>\n",
       "      <th>Special_Conditions_at_Site</th>\n",
       "      <th>Speed_limit</th>\n",
       "      <th>Time</th>\n",
       "      <th>Urban_or_Rural_Area</th>\n",
       "      <th>Weather_Conditions</th>\n",
       "      <th>Year</th>\n",
       "    </tr>\n",
       "  </thead>\n",
       "  <tbody>\n",
       "    <tr>\n",
       "      <th>0</th>\n",
       "      <td>B</td>\n",
       "      <td>Slight</td>\n",
       "      <td>None</td>\n",
       "      <td>05/01/2005</td>\n",
       "      <td>Wednesday</td>\n",
       "      <td>1.0</td>\n",
       "      <td>Auto traffic signal</td>\n",
       "      <td>Crossroads</td>\n",
       "      <td>51.520075</td>\n",
       "      <td>Darkness - lights lit</td>\n",
       "      <td>...</td>\n",
       "      <td>0.0</td>\n",
       "      <td>5.0</td>\n",
       "      <td>Dry</td>\n",
       "      <td>Dual carriageway</td>\n",
       "      <td>None</td>\n",
       "      <td>30</td>\n",
       "      <td>17:36</td>\n",
       "      <td>Urban</td>\n",
       "      <td>Fine no high winds</td>\n",
       "      <td>2005</td>\n",
       "    </tr>\n",
       "    <tr>\n",
       "      <th>1</th>\n",
       "      <td>C</td>\n",
       "      <td>Slight</td>\n",
       "      <td>None</td>\n",
       "      <td>13/01/2005</td>\n",
       "      <td>Thursday</td>\n",
       "      <td>1.0</td>\n",
       "      <td>Give way or uncontrolled</td>\n",
       "      <td>T or staggered junction</td>\n",
       "      <td>51.512695</td>\n",
       "      <td>Darkness - lights lit</td>\n",
       "      <td>...</td>\n",
       "      <td>0.0</td>\n",
       "      <td>0.0</td>\n",
       "      <td>Dry</td>\n",
       "      <td>Single carriageway</td>\n",
       "      <td>None</td>\n",
       "      <td>30</td>\n",
       "      <td>20:40</td>\n",
       "      <td>Urban</td>\n",
       "      <td>Fine no high winds</td>\n",
       "      <td>2005</td>\n",
       "    </tr>\n",
       "    <tr>\n",
       "      <th>2</th>\n",
       "      <td>A</td>\n",
       "      <td>Slight</td>\n",
       "      <td>None</td>\n",
       "      <td>15/01/2005</td>\n",
       "      <td>Saturday</td>\n",
       "      <td>1.0</td>\n",
       "      <td>Auto traffic signal</td>\n",
       "      <td>Crossroads</td>\n",
       "      <td>51.483420</td>\n",
       "      <td>Darkness - lights lit</td>\n",
       "      <td>...</td>\n",
       "      <td>0.0</td>\n",
       "      <td>5.0</td>\n",
       "      <td>Dry</td>\n",
       "      <td>Single carriageway</td>\n",
       "      <td>None</td>\n",
       "      <td>30</td>\n",
       "      <td>22:43</td>\n",
       "      <td>Urban</td>\n",
       "      <td>Fine no high winds</td>\n",
       "      <td>2005</td>\n",
       "    </tr>\n",
       "    <tr>\n",
       "      <th>3</th>\n",
       "      <td>A</td>\n",
       "      <td>Slight</td>\n",
       "      <td>None</td>\n",
       "      <td>16/01/2005</td>\n",
       "      <td>Sunday</td>\n",
       "      <td>1.0</td>\n",
       "      <td>Auto traffic signal</td>\n",
       "      <td>Crossroads</td>\n",
       "      <td>51.494902</td>\n",
       "      <td>Darkness - lights lit</td>\n",
       "      <td>...</td>\n",
       "      <td>0.0</td>\n",
       "      <td>5.0</td>\n",
       "      <td>Dry</td>\n",
       "      <td>Single carriageway</td>\n",
       "      <td>None</td>\n",
       "      <td>30</td>\n",
       "      <td>00:42</td>\n",
       "      <td>Urban</td>\n",
       "      <td>Fine no high winds</td>\n",
       "      <td>2005</td>\n",
       "    </tr>\n",
       "    <tr>\n",
       "      <th>4</th>\n",
       "      <td>A</td>\n",
       "      <td>Slight</td>\n",
       "      <td>None</td>\n",
       "      <td>25/01/2005</td>\n",
       "      <td>Tuesday</td>\n",
       "      <td>1.0</td>\n",
       "      <td>Auto traffic signal</td>\n",
       "      <td>Crossroads</td>\n",
       "      <td>51.484044</td>\n",
       "      <td>Darkness - lights lit</td>\n",
       "      <td>...</td>\n",
       "      <td>0.0</td>\n",
       "      <td>5.0</td>\n",
       "      <td>Wet or damp</td>\n",
       "      <td>Single carriageway</td>\n",
       "      <td>None</td>\n",
       "      <td>30</td>\n",
       "      <td>20:48</td>\n",
       "      <td>Urban</td>\n",
       "      <td>Fine no high winds</td>\n",
       "      <td>2005</td>\n",
       "    </tr>\n",
       "  </tbody>\n",
       "</table>\n",
       "<p>5 rows × 23 columns</p>\n",
       "</div>"
      ],
      "text/plain": [
       "  1st_Road_Class Accident_Severity Carriageway_Hazards        Date  \\\n",
       "0              B            Slight                None  05/01/2005   \n",
       "1              C            Slight                None  13/01/2005   \n",
       "2              A            Slight                None  15/01/2005   \n",
       "3              A            Slight                None  16/01/2005   \n",
       "4              A            Slight                None  25/01/2005   \n",
       "\n",
       "  Day_of_Week  Did_Police_Officer_Attend_Scene_of_Accident  \\\n",
       "0   Wednesday                                          1.0   \n",
       "1    Thursday                                          1.0   \n",
       "2    Saturday                                          1.0   \n",
       "3      Sunday                                          1.0   \n",
       "4     Tuesday                                          1.0   \n",
       "\n",
       "           Junction_Control          Junction_Detail   Latitude  \\\n",
       "0       Auto traffic signal               Crossroads  51.520075   \n",
       "1  Give way or uncontrolled  T or staggered junction  51.512695   \n",
       "2       Auto traffic signal               Crossroads  51.483420   \n",
       "3       Auto traffic signal               Crossroads  51.494902   \n",
       "4       Auto traffic signal               Crossroads  51.484044   \n",
       "\n",
       "        Light_Conditions  ...  Pedestrian_Crossing-Human_Control  \\\n",
       "0  Darkness - lights lit  ...                                0.0   \n",
       "1  Darkness - lights lit  ...                                0.0   \n",
       "2  Darkness - lights lit  ...                                0.0   \n",
       "3  Darkness - lights lit  ...                                0.0   \n",
       "4  Darkness - lights lit  ...                                0.0   \n",
       "\n",
       "   Pedestrian_Crossing-Physical_Facilities  Road_Surface_Conditions  \\\n",
       "0                                      5.0                      Dry   \n",
       "1                                      0.0                      Dry   \n",
       "2                                      5.0                      Dry   \n",
       "3                                      5.0                      Dry   \n",
       "4                                      5.0              Wet or damp   \n",
       "\n",
       "            Road_Type  Special_Conditions_at_Site Speed_limit   Time  \\\n",
       "0    Dual carriageway                        None          30  17:36   \n",
       "1  Single carriageway                        None          30  20:40   \n",
       "2  Single carriageway                        None          30  22:43   \n",
       "3  Single carriageway                        None          30  00:42   \n",
       "4  Single carriageway                        None          30  20:48   \n",
       "\n",
       "  Urban_or_Rural_Area  Weather_Conditions  Year  \n",
       "0               Urban  Fine no high winds  2005  \n",
       "1               Urban  Fine no high winds  2005  \n",
       "2               Urban  Fine no high winds  2005  \n",
       "3               Urban  Fine no high winds  2005  \n",
       "4               Urban  Fine no high winds  2005  \n",
       "\n",
       "[5 rows x 23 columns]"
      ]
     },
     "execution_count": 21,
     "metadata": {},
     "output_type": "execute_result"
    }
   ],
   "source": [
    "for i in range(len(Data5)):\n",
    "    if Data5['Junction_Control'][i]=='Auto traffic sigl':\n",
    "        Data5['Junction_Control'][i]='Auto traffic signal'\n",
    "    if Data5['Light_Conditions'][i]=='Darkness - no lighting':\n",
    "        Data5['Light_Conditions'][i]='Darkness - lights unlit'\n",
    "    if (Data5['Special_Conditions_at_Site'][i]=='Auto signal part defective')|(Data5['Special_Conditions_at_Site'][i]=='Auto traffic sigl - out')|(Data5['Special_Conditions_at_Site'][i]=='Auto sigl part defective'):\n",
    "        Data5['Special_Conditions_at_Site'][i]='Auto traffic signal - out'\n",
    "Data5.head()"
   ]
  },
  {
   "cell_type": "code",
   "execution_count": 22,
   "id": "543b18c6-39e5-4dbd-9bcf-8bd41bdf5fee",
   "metadata": {},
   "outputs": [],
   "source": [
    "Jc_Ct.remove('Auto traffic sigl')\n",
    "Lit_Condi.remove('Darkness - no lighting')\n",
    "Speci_Condi.remove('Auto signal part defective')\n",
    "Speci_Condi.remove('Auto traffic sigl - out')\n",
    "Speci_Condi.remove('Auto sigl part defective')"
   ]
  },
  {
   "cell_type": "markdown",
   "id": "4e567b78-743a-4ef1-a929-1bba7bde88a9",
   "metadata": {},
   "source": [
    "到这里，原有数据集的重复、缺漏、杂乱等问题才刚刚得到解决。\n",
    "## II.数据分析与可视化\n",
    "经过处理的数据集中有$23$列。其中，Accident_Severity是车祸的严重等级，是人为判定的，也是我们本次大作业中的“因变量”。剩下的特征可以分为如下两类：\n",
    "- 车祸的结果：包括Did_Police_Officer_Attend_Scene_of_Accident、Number_of_Casualties和Number_of_Vehicles。从这三个特征，我们可以探索英国判定车祸严重程度等级的方式。\n",
    "- 车祸的原因：其余绝大部分特征都表征了车祸发生的某一方面原因。从这些特征的数据，我们可以研究不同原因对车祸严重程度影响的大小。\n",
    "\n",
    "我们希望通过数据建立模型，来探索这些变量与车祸严重等级之间的关系。其中，大部分特征（如天气，路面情况等）与车祸严重等级的关系比较明显，但像时间、地点、路口类型等因素与车祸严重程度的关系尚且不得而知。我们通过数据分析与可视化的方式来展现这些关系，并探索其背后的可能原因。\n",
    "\n",
    "我们不妨先来看一看英国各个等级的车祸随年份的变化情况。"
   ]
  },
  {
   "cell_type": "code",
   "execution_count": 23,
   "id": "7f34014e-556e-4533-b70f-62268a8f7d73",
   "metadata": {},
   "outputs": [],
   "source": [
    "YEAR = np.arange(2005,2011)\n",
    "YEAR_Serious = np.zeros(len(YEAR))\n",
    "YEAR_Slight = np.zeros(len(YEAR))\n",
    "YEAR_Fatal = np.zeros(len(YEAR))\n",
    "for i in range(len(Data5)):\n",
    "    if Data5['Accident_Severity'][i]=='Slight':\n",
    "        YEAR_Slight[Data5['Year'][i]-2005]+=1\n",
    "    elif Data5['Accident_Severity'][i]=='Serious':\n",
    "        YEAR_Serious[Data5['Year'][i]-2005]+=1\n",
    "    else:\n",
    "        YEAR_Fatal[Data5['Year'][i]-2005]+=1"
   ]
  },
  {
   "cell_type": "code",
   "execution_count": 24,
   "id": "bfadeee0-d4bd-4e7c-bb07-34362bbaf138",
   "metadata": {},
   "outputs": [
    {
     "data": {
      "image/png": "[encoded data removed]",
      "text/plain": [
       "<Figure size 432x288 with 1 Axes>"
      ]
     },
     "metadata": {
      "needs_background": "light"
     },
     "output_type": "display_data"
    }
   ],
   "source": [
    "plt.plot(YEAR,YEAR_Slight, color = 'green', marker = 'o', label = 'Slight')\n",
    "plt.plot(YEAR,YEAR_Serious, color = 'red', marker = 'o', label = 'Serious')\n",
    "plt.plot(YEAR,YEAR_Fatal, color = 'purple', marker = 'o', label = 'Fatal')\n",
    "plt.title(\"Case Number - Year\")\n",
    "plt.xlabel(\"Year\")\n",
    "plt.ylabel(\"Case Number\")\n",
    "plt.legend(Acci_Seve)\n",
    "plt.show()"
   ]
  },
  {
   "cell_type": "markdown",
   "id": "06c3764c-c176-46ea-95d7-a7c52ccf3845",
   "metadata": {},
   "source": [
    "严重事故比例的逐年变化情况："
   ]
  },
  {
   "cell_type": "code",
   "execution_count": 25,
   "id": "746016c4-639f-4ad7-9876-af19939e97c5",
   "metadata": {},
   "outputs": [
    {
     "data": {
      "image/png": "[encoded data removed]",
      "text/plain": [
       "<Figure size 432x288 with 1 Axes>"
      ]
     },
     "metadata": {
      "needs_background": "light"
     },
     "output_type": "display_data"
    }
   ],
   "source": [
    "YEAR_Rate = np.zeros(len(YEAR))\n",
    "for i in range(len(YEAR)):\n",
    "    YEAR_Rate[i]=(YEAR_Fatal[i]+YEAR_Serious[i])/(YEAR_Slight[i]+YEAR_Fatal[i]+YEAR_Serious[i])\n",
    "plt.plot(YEAR,YEAR_Rate, color = 'black', marker = 'o')\n",
    "plt.xlabel(\"Year\")\n",
    "plt.ylabel(\"Rate\")\n",
    "plt.show()"
   ]
  },
  {
   "cell_type": "markdown",
   "id": "04148366-af12-4019-a76d-a51aab2bf263",
   "metadata": {},
   "source": [
    "显而易见，在这六年内英国每年的车祸总数逐年下降，其中轻微事故下降得最多，直接从每年$70000$起降到每年$60000$起。此外，严重事故、致命事故的总数远小于轻微事故，但随年份变化不大。但从另一个方面看，严重事故所占的比例也在逐渐增大。但是，严重事故的比例经历了先增大后减小的过程，并在$2008$年达到顶峰。\n",
    "\n",
    "接着，我们再来研究一下每个月的日均事故数量。"
   ]
  },
  {
   "cell_type": "code",
   "execution_count": 26,
   "id": "afe1ede4-7fd8-4682-9bf4-4852bd13c2d8",
   "metadata": {},
   "outputs": [
    {
     "data": {
      "image/png": "[encoded data removed]",
      "text/plain": [
       "<Figure size 432x288 with 1 Axes>"
      ]
     },
     "metadata": {
      "needs_background": "light"
     },
     "output_type": "display_data"
    }
   ],
   "source": [
    "def getMonth(s):\n",
    "    n = int(s[3])*10+int(s[4])\n",
    "    return n\n",
    "MONTH = np.arange(1,13)\n",
    "MONTH_Daynumber = np.array([31,28,31,30,31,30,31,31,30,31,30,31])\n",
    "MONTH_Serious = np.zeros(len(MONTH))\n",
    "MONTH_Slight = np.zeros(len(MONTH))\n",
    "MONTH_Fatal = np.zeros(len(MONTH))\n",
    "for i in range(len(Data5)):\n",
    "    if (Data5['Accident_Severity'][i]=='Slight'):\n",
    "        MONTH_Slight[getMonth(Data5['Date'][i])-1]+=1\n",
    "    elif (Data5['Accident_Severity'][i]=='Serious'):\n",
    "        MONTH_Serious[getMonth(Data5['Date'][i])-1]+=1\n",
    "    else:\n",
    "        MONTH_Fatal[getMonth(Data5['Date'][i])-1]+=1\n",
    "for i in range(len(MONTH)):\n",
    "    MONTH_Serious[i]=MONTH_Serious[i]/MONTH_Daynumber[i]\n",
    "    MONTH_Slight[i]=MONTH_Slight[i]/MONTH_Daynumber[i]\n",
    "    MONTH_Fatal[i]=MONTH_Fatal[i]/MONTH_Daynumber[i]\n",
    "plt.bar(MONTH,MONTH_Slight,color = 'green',alpha = 0.5,label = 'Slight')\n",
    "plt.bar(MONTH,MONTH_Serious,bottom = MONTH_Slight,color = 'red',alpha = 0.5,label = 'Serious')\n",
    "plt.bar(MONTH,MONTH_Fatal,bottom = MONTH_Slight+MONTH_Serious,color = 'purple',alpha = 0.5,label = 'Fatal')\n",
    "plt.legend()\n",
    "plt.show()"
   ]
  },
  {
   "cell_type": "markdown",
   "id": "735aa6c2-303b-4b81-a335-8a1965204494",
   "metadata": {},
   "source": [
    "每个月的严重事故比例："
   ]
  },
  {
   "cell_type": "code",
   "execution_count": 27,
   "id": "b32fc229-2ce2-4d35-9abc-96877937d08f",
   "metadata": {},
   "outputs": [
    {
     "data": {
      "image/png": "[encoded data removed]",
      "text/plain": [
       "<Figure size 432x288 with 1 Axes>"
      ]
     },
     "metadata": {
      "needs_background": "light"
     },
     "output_type": "display_data"
    }
   ],
   "source": [
    "MONTH_Rate = np.zeros(len(MONTH))\n",
    "for i in range(len(MONTH)):\n",
    "    MONTH_Rate[i]=(MONTH_Fatal[i]+MONTH_Serious[i])/(MONTH_Slight[i]+MONTH_Fatal[i]+MONTH_Serious[i])\n",
    "plt.bar(MONTH,MONTH_Rate,color = 'black',alpha = 0.5)\n",
    "plt.show()"
   ]
  },
  {
   "cell_type": "markdown",
   "id": "0d0cfcf7-240e-4113-becb-32c579b43409",
   "metadata": {},
   "source": [
    "除了十二月日均事故总数较小，其余月份差异并不明显。严重事故的比例与月份的关系也不大。\n",
    "\n",
    "接着我们来看一看英国的交通事故一般发生在周几："
   ]
  },
  {
   "cell_type": "code",
   "execution_count": 28,
   "id": "22f182bb-8eb2-4a25-9b83-8c77ca3187f1",
   "metadata": {},
   "outputs": [
    {
     "data": {
      "image/png": "[encoded data removed]",
      "text/plain": [
       "<Figure size 432x288 with 1 Axes>"
      ]
     },
     "metadata": {
      "needs_background": "light"
     },
     "output_type": "display_data"
    }
   ],
   "source": [
    "def getWeek(s,WEEK):\n",
    "    for i in range(len(WEEK)):\n",
    "        if s == WEEK[i]:\n",
    "            return i\n",
    "WEEK = np.array(['Monday','Tuesday','Wednesday','Thursday','Friday','Saturday','Sunday'])\n",
    "WEEK_Serious = np.zeros(len(WEEK))\n",
    "WEEK_Slight = np.zeros(len(WEEK))\n",
    "WEEK_Fatal = np.zeros(len(WEEK))\n",
    "for i in range(len(Data5)):\n",
    "    if (Data5['Accident_Severity'][i]=='Slight'):\n",
    "        WEEK_Slight[getWeek(Data5['Day_of_Week'][i],WEEK)]+=1\n",
    "    elif (Data5['Accident_Severity'][i]=='Serious'):\n",
    "        WEEK_Serious[getWeek(Data5['Day_of_Week'][i],WEEK)]+=1\n",
    "    else:\n",
    "        WEEK_Fatal[getWeek(Data5['Day_of_Week'][i],WEEK)]+=1\n",
    "plt.bar(WEEK,WEEK_Slight,color = 'green',alpha = 0.5,label = 'Slight')\n",
    "plt.bar(WEEK,WEEK_Serious,bottom = WEEK_Slight,color = 'red',alpha = 0.5,label = 'Serious')\n",
    "plt.bar(WEEK,WEEK_Fatal,bottom = WEEK_Slight+WEEK_Serious,color = 'purple',alpha = 0.5,label = 'Fatal')\n",
    "plt.legend()\n",
    "plt.show()"
   ]
  },
  {
   "cell_type": "markdown",
   "id": "0eae61fd-c90d-4600-aa69-a2a2a8f96633",
   "metadata": {},
   "source": [
    "每天的严重事故比例："
   ]
  },
  {
   "cell_type": "code",
   "execution_count": 29,
   "id": "add2a57c-5a96-4c61-b5dc-b2edd074d58b",
   "metadata": {},
   "outputs": [
    {
     "data": {
      "image/png": "[encoded data removed]",
      "text/plain": [
       "<Figure size 432x288 with 1 Axes>"
      ]
     },
     "metadata": {
      "needs_background": "light"
     },
     "output_type": "display_data"
    }
   ],
   "source": [
    "WEEK_Rate = np.zeros(len(WEEK))\n",
    "for i in range(len(WEEK)):\n",
    "    WEEK_Rate[i]=(WEEK_Fatal[i]+WEEK_Serious[i])/(WEEK_Slight[i]+WEEK_Fatal[i]+WEEK_Serious[i])\n",
    "plt.bar(WEEK,WEEK_Rate,color = 'black',alpha = 0.5)\n",
    "plt.show()"
   ]
  },
  {
   "cell_type": "markdown",
   "id": "6fe2582e-6e58-47b1-bb00-fb3d67c124c8",
   "metadata": {},
   "source": [
    "由此可见，在英国，周五的车祸数目高于其它时候，而周末的车祸数目较少。通过查资料(http://news.sina.com.cn/w/2007-04-05/002811568485s.shtml) ，本人发现这种现象的原因是周五晚上大家都急着回家，开车时也都在考虑周末该怎么享受，注意力不集中，导致周五的车祸次数较多。但是周末发生严重车祸的比例略大。\n",
    "\n",
    "最后我们来研究一天之内各个时段的车祸数目："
   ]
  },
  {
   "cell_type": "code",
   "execution_count": 30,
   "id": "8533f283-966b-4da2-bd25-be96b6e3e78c",
   "metadata": {},
   "outputs": [
    {
     "data": {
      "image/png": "[encoded data removed]",
      "text/plain": [
       "<Figure size 432x288 with 1 Axes>"
      ]
     },
     "metadata": {
      "needs_background": "light"
     },
     "output_type": "display_data"
    }
   ],
   "source": [
    "def getTime(s):\n",
    "    n = int(s[0])*10+int(s[1])\n",
    "    return n\n",
    "TIME = np.arange(0,24)\n",
    "TIME_Serious = np.zeros(len(TIME))\n",
    "TIME_Slight = np.zeros(len(TIME))\n",
    "TIME_Fatal = np.zeros(len(TIME))\n",
    "for i in range(len(Data5)):\n",
    "    if (Data5['Accident_Severity'][i]=='Slight'):\n",
    "        TIME_Slight[getTime(Data5['Time'][i])]+=1\n",
    "    elif (Data5['Accident_Severity'][i]=='Serious'):\n",
    "        TIME_Serious[getTime(Data5['Time'][i])]+=1\n",
    "    else:\n",
    "        TIME_Fatal[getTime(Data5['Time'][i])]+=1\n",
    "plt.plot(TIME,TIME_Slight, color = 'green', marker = 'o', label = 'Slight')\n",
    "plt.plot(TIME,TIME_Serious, color = 'red', marker = 'o', label = 'Serious')\n",
    "plt.plot(TIME,TIME_Fatal, color = 'purple', marker = 'o', label = 'Fatal')\n",
    "plt.title(\"Case Number - Time\")\n",
    "plt.xlabel(\"Time\")\n",
    "plt.ylabel(\"Case Number\")\n",
    "plt.legend(Acci_Seve)\n",
    "plt.show()"
   ]
  },
  {
   "cell_type": "markdown",
   "id": "71cdc9da-bb5f-49b9-9a07-4273684f2bdc",
   "metadata": {},
   "source": [
    "各个时间段严重事故的比例："
   ]
  },
  {
   "cell_type": "code",
   "execution_count": 31,
   "id": "0f2872e4-846d-4714-a67c-0fe2343c7161",
   "metadata": {},
   "outputs": [
    {
     "data": {
      "image/png": "[encoded data removed]",
      "text/plain": [
       "<Figure size 432x288 with 1 Axes>"
      ]
     },
     "metadata": {
      "needs_background": "light"
     },
     "output_type": "display_data"
    }
   ],
   "source": [
    "TIME_Rate = np.zeros(len(TIME))\n",
    "for i in range(len(TIME)):\n",
    "    TIME_Rate[i]=(TIME_Fatal[i]+TIME_Serious[i])/(TIME_Slight[i]+TIME_Fatal[i]+TIME_Serious[i])\n",
    "plt.plot(TIME,TIME_Rate,color = 'black',marker = 'o',alpha = 0.5)\n",
    "plt.show()"
   ]
  },
  {
   "cell_type": "markdown",
   "id": "320731e9-b1a7-4269-9505-c56476da8f94",
   "metadata": {},
   "source": [
    "不出预料，无论是轻微事故还是严重事故，都在七点和十八点这样的上下班高峰发生得最多，而在零点到五点，由于大部分人都在睡觉，所以车祸发生较少。但当天黑以后，由于司机容易看不清路，发生严重事故的可能性高于白天。"
   ]
  },
  {
   "cell_type": "markdown",
   "id": "cc71df70-dec8-4aa1-8e63-71da298abb63",
   "metadata": {},
   "source": [
    "除此之外，在正式建模前，我们还要进一步分析诸如“道路分类”等定性变量与车祸严重等级之间的关系。我们不仅要反应某个特征取值下车祸的数量，还要体现其中严重事故的占比。所以，这部分内容我们用气泡图进行可视化。其中，横坐标是某个特征的各个取值，纵坐标为该取值下的事故数量，点的半径表示此时严重事故发生的概率。"
   ]
  },
  {
   "cell_type": "code",
   "execution_count": 32,
   "id": "9c94f694-197f-4ab3-b7aa-bd66ceabd3f2",
   "metadata": {},
   "outputs": [
    {
     "data": {
      "image/png": "[encoded data removed]",
      "text/plain": [
       "<Figure size 432x288 with 1 Axes>"
      ]
     },
     "metadata": {
      "needs_background": "light"
     },
     "output_type": "display_data"
    }
   ],
   "source": [
    "One_Rd_Cl_Number = np.zeros(len(One_Rd_Cl))\n",
    "One_Rd_Cl_Severe_Number = np.zeros(len(One_Rd_Cl))\n",
    "for i in range(len(Data5)):\n",
    "    One_Rd_Cl_Number[getWeek(Data5['1st_Road_Class'][i],One_Rd_Cl)]+=1\n",
    "    if Data5['Accident_Severity'][i]!='Slight':\n",
    "        One_Rd_Cl_Severe_Number[getWeek(Data5['1st_Road_Class'][i],One_Rd_Cl)]+=1\n",
    "for i in range(len(One_Rd_Cl)):\n",
    "    One_Rd_Cl_Severe_Number[i]=(One_Rd_Cl_Severe_Number[i]/One_Rd_Cl_Number[i])*100000\n",
    "plt.scatter(One_Rd_Cl, One_Rd_Cl_Number, s=One_Rd_Cl_Severe_Number, alpha=0.5)\n",
    "plt.show()"
   ]
  },
  {
   "cell_type": "markdown",
   "id": "593817c5-43a7-4bfe-9797-8f14e98301b2",
   "metadata": {},
   "source": [
    "上图中，A类道路的事故率远大于其它道路类型，但五个圆的半径看上去差别不大。那究竟在哪一类道路上发生严重事故的可能性更高呢？我们不妨直接来看数据。"
   ]
  },
  {
   "cell_type": "code",
   "execution_count": 33,
   "id": "c6c4b0c8-1f9a-468d-bd97-2770c70f7e3f",
   "metadata": {},
   "outputs": [
    {
     "data": {
      "image/png": "[encoded data removed]",
      "text/plain": [
       "<Figure size 432x288 with 1 Axes>"
      ]
     },
     "metadata": {
      "needs_background": "light"
     },
     "output_type": "display_data"
    },
    {
     "name": "stdout",
     "output_type": "stream",
     "text": [
      "[14102.64354853 13624.15293159 13507.64894647 10479.43613973\n",
      " 11617.31207289]\n"
     ]
    }
   ],
   "source": [
    "plt.bar(One_Rd_Cl,One_Rd_Cl_Severe_Number,color = 'green',alpha = 0.5)\n",
    "plt.show()\n",
    "print(One_Rd_Cl_Severe_Number)"
   ]
  },
  {
   "cell_type": "markdown",
   "id": "9df0bcee-3487-4f0c-8d56-89e33f187f10",
   "metadata": {},
   "source": [
    "可见，在B类道路上发生重大事故的可能性比其他类型道路高一些，而A类道路上发生的严重车祸反而不多。维基百科上说，在英国，A类道路是重要干线，而B类道路是不太重要的次干线。本人推测，A类道路交通事故数量多可能单纯只是A类道路数量多，而B类道路由于不那么重要，相对狭窄，更容易发生交通事故。\n",
    "\n",
    "接着，我们探索道路危险因素对事故严重程度的影响。这里，我们综合考虑Carriageway_Hazards和Special_Conditions_at_Site两个特征。"
   ]
  },
  {
   "cell_type": "code",
   "execution_count": 34,
   "id": "15d732e7-06c9-456b-8f7f-ff88f7ae4ca2",
   "metadata": {},
   "outputs": [
    {
     "data": {
      "image/png": "[encoded data removed]",
      "text/plain": [
       "<Figure size 432x288 with 1 Axes>"
      ]
     },
     "metadata": {
      "needs_background": "light"
     },
     "output_type": "display_data"
    }
   ],
   "source": [
    "Haza_Sc = np.zeros(3)\n",
    "Haza_Seve_Sc = np.zeros(3)\n",
    "for i in range(len(Data5)):\n",
    "    if (Data5['Carriageway_Hazards'][i]!='None')&(Data5['Special_Conditions_at_Site'][i]!='None'):\n",
    "        Haza_Sc[2]+=1\n",
    "        if Data5['Accident_Severity'][i]!='Slight':\n",
    "            Haza_Seve_Sc[2]+=1\n",
    "    elif (Data5['Carriageway_Hazards'][i]=='None')&(Data5['Special_Conditions_at_Site'][i]=='None'):\n",
    "        Haza_Sc[0]+=1\n",
    "        if Data5['Accident_Severity'][i]!='Slight':\n",
    "            Haza_Seve_Sc[0]+=1\n",
    "    else:\n",
    "        Haza_Sc[1]+=1\n",
    "        if Data5['Accident_Severity'][i]!='Slight':\n",
    "            Haza_Seve_Sc[1]+=1\n",
    "for i in range(3):\n",
    "    Haza_Seve_Sc[i]=(Haza_Seve_Sc[i]/Haza_Sc[i])*100000\n",
    "plt.scatter([0,1,2], Haza_Sc, s=Haza_Seve_Sc, alpha=0.5)\n",
    "plt.show()"
   ]
  },
  {
   "cell_type": "code",
   "execution_count": 35,
   "id": "c093cd90-f2de-467e-8f30-20b6ca276c38",
   "metadata": {},
   "outputs": [
    {
     "data": {
      "image/png": "[encoded data removed]",
      "text/plain": [
       "<Figure size 432x288 with 1 Axes>"
      ]
     },
     "metadata": {
      "needs_background": "light"
     },
     "output_type": "display_data"
    },
    {
     "name": "stdout",
     "output_type": "stream",
     "text": [
      "[13537.02191071 13537.08743284 13553.71900826]\n"
     ]
    }
   ],
   "source": [
    "plt.bar([0,1,2],Haza_Seve_Sc,color = 'green',alpha = 0.5)\n",
    "plt.show()\n",
    "print(Haza_Seve_Sc)"
   ]
  },
  {
   "cell_type": "markdown",
   "id": "0144a730-5319-4f04-907b-0617b7c77107",
   "metadata": {},
   "source": [
    "我们发现，其实大部分车祸都发生在没有路面危险因素的情况下，且有无路面危险因素对严重事故的发生率的影响也微乎其微。建模时如果发生过拟合，可以把这个因素删掉。\n",
    "\n",
    "下一个研究的特征是路面控制车辆的设施。"
   ]
  },
  {
   "cell_type": "code",
   "execution_count": 36,
   "id": "b10f3019-5c15-4fa8-abba-9851edacd6dd",
   "metadata": {},
   "outputs": [
    {
     "data": {
      "image/png": "[encoded data removed]",
      "text/plain": [
       "<Figure size 432x288 with 1 Axes>"
      ]
     },
     "metadata": {
      "needs_background": "light"
     },
     "output_type": "display_data"
    }
   ],
   "source": [
    "Jc_Ct_Number = np.zeros(len(Jc_Ct))\n",
    "Jc_Ct_Severe_Number = np.zeros(len(Jc_Ct))\n",
    "for i in range(len(Data5)):\n",
    "    Jc_Ct_Number[getWeek(Data5['Junction_Control'][i],Jc_Ct)]+=1\n",
    "    if Data5['Accident_Severity'][i]!='Slight':\n",
    "        Jc_Ct_Severe_Number[getWeek(Data5['Junction_Control'][i],Jc_Ct)]+=1\n",
    "for i in range(len(Jc_Ct)):\n",
    "    Jc_Ct_Severe_Number[i]=(Jc_Ct_Severe_Number[i]/Jc_Ct_Number[i])*100000\n",
    "plt.scatter(Jc_Ct, Jc_Ct_Number, s=Jc_Ct_Severe_Number, alpha=0.5)\n",
    "plt.show()"
   ]
  },
  {
   "cell_type": "code",
   "execution_count": 37,
   "id": "802cdcda-c924-4c16-9cbe-5487a10554be",
   "metadata": {},
   "outputs": [
    {
     "data": {
      "image/png": "[encoded data removed]",
      "text/plain": [
       "<Figure size 432x288 with 1 Axes>"
      ]
     },
     "metadata": {
      "needs_background": "light"
     },
     "output_type": "display_data"
    },
    {
     "name": "stdout",
     "output_type": "stream",
     "text": [
      "[11227.30883696 13333.33333333 12346.84260132 10805.50098232\n",
      " 18575.3977316 ]\n",
      "['Auto traffic signal', 'Give way or uncontrolled', 'Stop sign', 'Authorised person', 'Not at junction or within 20 metres']\n"
     ]
    }
   ],
   "source": [
    "plt.bar(Jc_Ct,Jc_Ct_Severe_Number,color = 'green',alpha = 0.5)\n",
    "plt.show()\n",
    "print(Jc_Ct_Severe_Number)\n",
    "print(Jc_Ct)"
   ]
  },
  {
   "cell_type": "markdown",
   "id": "0dce0df4-6d26-452e-ac3c-6156ef43ae28",
   "metadata": {},
   "source": [
    "当路口完全没有红绿灯或者其它指挥车辆的设施时，车祸的绝对数量多，且严重车祸的比例也较大；有红绿灯或者专人指挥时效果最好，仅有停车指示牌时次之。然而，当车祸没有发生在路口时严重车祸的比率远大于其他情况。究其原因，可能是路口的空间更大一些，发生车祸也不会撞到路边的建筑物之类的。\n",
    "\n",
    "下面研究路口类型："
   ]
  },
  {
   "cell_type": "code",
   "execution_count": 38,
   "id": "355ba363-7773-46bc-986f-b3c92ff7083d",
   "metadata": {},
   "outputs": [
    {
     "data": {
      "image/png": "[encoded data removed]",
      "text/plain": [
       "<Figure size 432x288 with 1 Axes>"
      ]
     },
     "metadata": {
      "needs_background": "light"
     },
     "output_type": "display_data"
    }
   ],
   "source": [
    "Jc_De_Number = np.zeros(len(Jc_De))\n",
    "Jc_De_Severe_Number = np.zeros(len(Jc_De))\n",
    "for i in range(len(Data5)):\n",
    "    Jc_De_Number[getWeek(Data5['Junction_Detail'][i],Jc_De)]+=1\n",
    "    if Data5['Accident_Severity'][i]!='Slight':\n",
    "        Jc_De_Severe_Number[getWeek(Data5['Junction_Detail'][i],Jc_De)]+=1\n",
    "for i in range(len(Jc_De)):\n",
    "    Jc_De_Severe_Number[i]=(Jc_De_Severe_Number[i]/Jc_De_Number[i])*100000\n",
    "plt.scatter(Jc_De, Jc_De_Number, s=Jc_De_Severe_Number, alpha=0.5)\n",
    "plt.show()"
   ]
  },
  {
   "cell_type": "code",
   "execution_count": 39,
   "id": "fc33fda9-4a93-4386-9917-c79129730ef8",
   "metadata": {},
   "outputs": [
    {
     "data": {
      "image/png": "[encoded data removed]",
      "text/plain": [
       "<Figure size 432x288 with 1 Axes>"
      ]
     },
     "metadata": {
      "needs_background": "light"
     },
     "output_type": "display_data"
    },
    {
     "name": "stdout",
     "output_type": "stream",
     "text": [
      "[13406.44752523 18573.03135756 14236.57680753  8802.877205\n",
      " 12350.77247191  8277.33956568 14964.81894628 12696.44935972]\n",
      "['Crossroads', 'Not at junction or within 20 metres', 'T or staggered junction', 'Mini-roundabout', 'More than 4 arms (not roundabout)', 'Roundabout', 'Private drive or entrance', 'Slip road']\n"
     ]
    }
   ],
   "source": [
    "plt.bar(Jc_De,Jc_De_Severe_Number,color = 'green',alpha = 0.5)\n",
    "plt.show()\n",
    "print(Jc_De_Severe_Number)\n",
    "print(Jc_De)"
   ]
  },
  {
   "cell_type": "markdown",
   "id": "6ab985b4-c97c-4a5d-a684-602d0db040d9",
   "metadata": {},
   "source": [
    "我们发现，丁字路口或者交错路口的事故发生数量最大。但在有路口的情况下，发生在环岛的严重事故比率较低。究其原因，可能是环岛上的所有车辆都朝着一个方向，只能追尾，不能迎头相撞。\n",
    "\n",
    "光照条件："
   ]
  },
  {
   "cell_type": "code",
   "execution_count": 40,
   "id": "4e0e1f18-153f-40f1-856b-e361d2f85162",
   "metadata": {},
   "outputs": [
    {
     "data": {
      "image/png": "[encoded data removed]",
      "text/plain": [
       "<Figure size 432x288 with 1 Axes>"
      ]
     },
     "metadata": {
      "needs_background": "light"
     },
     "output_type": "display_data"
    }
   ],
   "source": [
    "Lit_Condi_Number = np.zeros(len(Lit_Condi))\n",
    "Lit_Condi_Severe_Number = np.zeros(len(Lit_Condi))\n",
    "for i in range(len(Data5)):\n",
    "    Lit_Condi_Number[getWeek(Data5['Light_Conditions'][i],Lit_Condi)]+=1\n",
    "    if Data5['Accident_Severity'][i]!='Slight':\n",
    "        Lit_Condi_Severe_Number[getWeek(Data5['Light_Conditions'][i],Lit_Condi)]+=1\n",
    "for i in range(len(Lit_Condi)):\n",
    "    Lit_Condi_Severe_Number[i]=(Lit_Condi_Severe_Number[i]/Lit_Condi_Number[i])*100000\n",
    "plt.scatter(Lit_Condi, Lit_Condi_Number, s=Lit_Condi_Severe_Number, alpha=0.5)\n",
    "plt.show()"
   ]
  },
  {
   "cell_type": "code",
   "execution_count": 41,
   "id": "9a1678f5-6225-4677-890d-8a54cb0179b4",
   "metadata": {},
   "outputs": [
    {
     "data": {
      "image/png": "[encoded data removed]",
      "text/plain": [
       "<Figure size 432x288 with 1 Axes>"
      ]
     },
     "metadata": {
      "needs_background": "light"
     },
     "output_type": "display_data"
    },
    {
     "name": "stdout",
     "output_type": "stream",
     "text": [
      "[15376.61749416 22633.16799655 12488.76014604]\n",
      "['Darkness - lights lit', 'Darkness - lights unlit', 'Daylight']\n"
     ]
    }
   ],
   "source": [
    "plt.bar(Lit_Condi,Lit_Condi_Severe_Number,color = 'green',alpha = 0.5)\n",
    "plt.show()\n",
    "print(Lit_Condi_Severe_Number)\n",
    "print(Lit_Condi)"
   ]
  },
  {
   "cell_type": "markdown",
   "id": "8efc520f-8882-4e43-b28e-af003d9bf938",
   "metadata": {},
   "source": [
    "光照这个特征的可视化结果在预料之中。光照时间充足下的车祸数量最多是因为大多数车祸发生在白天，但光照条件越差，严重车祸的发生率就越高。\n",
    "\n",
    "路面情况："
   ]
  },
  {
   "cell_type": "code",
   "execution_count": 42,
   "id": "01c72fa1-430e-400e-a563-fc771f2d5e24",
   "metadata": {},
   "outputs": [
    {
     "data": {
      "image/png": "[encoded data removed]",
      "text/plain": [
       "<Figure size 432x288 with 1 Axes>"
      ]
     },
     "metadata": {
      "needs_background": "light"
     },
     "output_type": "display_data"
    }
   ],
   "source": [
    "R_S_Condi_Number = np.zeros(len(R_S_Condi))\n",
    "R_S_Condi_Severe_Number = np.zeros(len(R_S_Condi))\n",
    "for i in range(len(Data5)):\n",
    "    R_S_Condi_Number[getWeek(Data5['Road_Surface_Conditions'][i],R_S_Condi)]+=1\n",
    "    if Data5['Accident_Severity'][i]!='Slight':\n",
    "        R_S_Condi_Severe_Number[getWeek(Data5['Road_Surface_Conditions'][i],R_S_Condi)]+=1\n",
    "for i in range(len(R_S_Condi)):\n",
    "    R_S_Condi_Severe_Number[i]=(R_S_Condi_Severe_Number[i]/R_S_Condi_Number[i])*100000\n",
    "plt.scatter(R_S_Condi, R_S_Condi_Number, s=R_S_Condi_Severe_Number, alpha=0.5)\n",
    "plt.show()"
   ]
  },
  {
   "cell_type": "code",
   "execution_count": 43,
   "id": "58b1abbe-e3f9-4570-9a01-3004933cd524",
   "metadata": {},
   "outputs": [
    {
     "data": {
      "image/png": "[encoded data removed]",
      "text/plain": [
       "<Figure size 432x288 with 1 Axes>"
      ]
     },
     "metadata": {
      "needs_background": "light"
     },
     "output_type": "display_data"
    },
    {
     "name": "stdout",
     "output_type": "stream",
     "text": [
      "[13837.88824013 12912.18551174 11390.77714496  9913.37824832\n",
      " 17647.05882353]\n",
      "['Dry', 'Wet or damp', 'Frost or ice', 'Snow', 'Flood over 3cm. deep']\n"
     ]
    }
   ],
   "source": [
    "plt.bar(R_S_Condi,R_S_Condi_Severe_Number,color = 'green',alpha = 0.5)\n",
    "plt.show()\n",
    "print(R_S_Condi_Severe_Number)\n",
    "print(R_S_Condi)"
   ]
  },
  {
   "cell_type": "markdown",
   "id": "3946559c-c4d0-4f53-8a75-bbf47c60b3ec",
   "metadata": {},
   "source": [
    "由于天气以晴天和雨天为主，所以晴天雨天车祸数量最多；但就严重车祸率来看，洪水、积水造成的影响更大。\n",
    "\n",
    "事故发生的路段的类型："
   ]
  },
  {
   "cell_type": "code",
   "execution_count": 44,
   "id": "0a13b4b9-0dad-45db-8db5-8873dbd16d95",
   "metadata": {},
   "outputs": [
    {
     "data": {
      "image/png": "[encoded data removed]",
      "text/plain": [
       "<Figure size 432x288 with 1 Axes>"
      ]
     },
     "metadata": {
      "needs_background": "light"
     },
     "output_type": "display_data"
    }
   ],
   "source": [
    "Rd_Tp_Number = np.zeros(len(Rd_Tp))\n",
    "Rd_Tp_Severe_Number = np.zeros(len(Rd_Tp))\n",
    "for i in range(len(Data5)):\n",
    "    Rd_Tp_Number[getWeek(Data5['Road_Type'][i],Rd_Tp)]+=1\n",
    "    if Data5['Accident_Severity'][i]!='Slight':\n",
    "        Rd_Tp_Severe_Number[getWeek(Data5['Road_Type'][i],Rd_Tp)]+=1\n",
    "for i in range(len(Rd_Tp)):\n",
    "    Rd_Tp_Severe_Number[i]=(Rd_Tp_Severe_Number[i]/Rd_Tp_Number[i])*100000\n",
    "plt.scatter(Rd_Tp, Rd_Tp_Number, s=Rd_Tp_Severe_Number, alpha=0.5)\n",
    "plt.show()"
   ]
  },
  {
   "cell_type": "code",
   "execution_count": 45,
   "id": "42f53de9-5886-4191-907c-028649c03db2",
   "metadata": {},
   "outputs": [
    {
     "data": {
      "image/png": "[encoded data removed]",
      "text/plain": [
       "<Figure size 432x288 with 1 Axes>"
      ]
     },
     "metadata": {
      "needs_background": "light"
     },
     "output_type": "display_data"
    },
    {
     "name": "stdout",
     "output_type": "stream",
     "text": [
      "[13015.05462107 14638.64378608 13472.56347256  8643.8179473\n",
      "  8487.18655277]\n",
      "['Dual carriageway', 'Single carriageway', 'One way street', 'Roundabout', 'Slip road']\n"
     ]
    }
   ],
   "source": [
    "plt.bar(Rd_Tp,Rd_Tp_Severe_Number,color = 'green',alpha = 0.5)\n",
    "plt.show()\n",
    "print(Rd_Tp_Severe_Number)\n",
    "print(Rd_Tp)"
   ]
  },
  {
   "cell_type": "markdown",
   "id": "d379346a-178c-4f86-8d76-eadd1908165c",
   "metadata": {},
   "source": [
    "我们发现，当路段只有一个车道，事故次数和严重事故比例都会显著增加，因为这种情况下路面往往更窄。\n",
    "\n",
    "事故是发生在城市还是发生在农村："
   ]
  },
  {
   "cell_type": "code",
   "execution_count": 46,
   "id": "1ebb05c3-22c9-45c8-b3cb-3e676e4eeb1d",
   "metadata": {},
   "outputs": [
    {
     "data": {
      "image/png": "[encoded data removed]",
      "text/plain": [
       "<Figure size 432x288 with 1 Axes>"
      ]
     },
     "metadata": {
      "needs_background": "light"
     },
     "output_type": "display_data"
    }
   ],
   "source": [
    "Urb_Rur_Number = np.zeros(len(Urb_Rur))\n",
    "Urb_Rur_Severe_Number = np.zeros(len(Urb_Rur))\n",
    "for i in range(len(Data5)):\n",
    "    Urb_Rur_Number[getWeek(Data5['Urban_or_Rural_Area'][i],Urb_Rur)]+=1\n",
    "    if Data5['Accident_Severity'][i]!='Slight':\n",
    "        Urb_Rur_Severe_Number[getWeek(Data5['Urban_or_Rural_Area'][i],Urb_Rur)]+=1\n",
    "for i in range(len(Urb_Rur)):\n",
    "    Urb_Rur_Severe_Number[i]=(Urb_Rur_Severe_Number[i]/Urb_Rur_Number[i])*100000\n",
    "plt.scatter(Urb_Rur, Urb_Rur_Number, s=Urb_Rur_Severe_Number, alpha=0.5)\n",
    "plt.show()"
   ]
  },
  {
   "cell_type": "code",
   "execution_count": 47,
   "id": "4e707d11-4c21-4ed6-9eea-ee2fc74ee7dd",
   "metadata": {},
   "outputs": [
    {
     "data": {
      "image/png": "[encoded data removed]",
      "text/plain": [
       "<Figure size 432x288 with 1 Axes>"
      ]
     },
     "metadata": {
      "needs_background": "light"
     },
     "output_type": "display_data"
    },
    {
     "name": "stdout",
     "output_type": "stream",
     "text": [
      "[12070.77059043 16358.09533775]\n",
      "['Urban', 'Rural']\n"
     ]
    }
   ],
   "source": [
    "plt.bar(Urb_Rur,Urb_Rur_Severe_Number,color = 'green',alpha = 0.5)\n",
    "plt.show()\n",
    "print(Urb_Rur_Severe_Number)\n",
    "print(Urb_Rur)"
   ]
  },
  {
   "cell_type": "markdown",
   "id": "e93d9cc9-b1e3-4790-b2cb-25dae5d7a6dd",
   "metadata": {},
   "source": [
    "尽管城市里的车祸数量多，但农村地区的严重车祸比率更大。可能的原因是农村地区交通设施、管理人员更少且路况更差。\n",
    "\n",
    "天气情况："
   ]
  },
  {
   "cell_type": "code",
   "execution_count": 48,
   "id": "ecf9333f-c792-423d-a15d-d9352d4cbe64",
   "metadata": {},
   "outputs": [
    {
     "data": {
      "image/png": "[encoded data removed]",
      "text/plain": [
       "<Figure size 432x288 with 1 Axes>"
      ]
     },
     "metadata": {
      "needs_background": "light"
     },
     "output_type": "display_data"
    }
   ],
   "source": [
    "Wet_Condi_Number = np.zeros(len(Wet_Condi))\n",
    "Wet_Condi_Severe_Number = np.zeros(len(Wet_Condi))\n",
    "for i in range(len(Data5)):\n",
    "    Wet_Condi_Number[getWeek(Data5['Weather_Conditions'][i],Wet_Condi)]+=1\n",
    "    if Data5['Accident_Severity'][i]!='Slight':\n",
    "        Wet_Condi_Severe_Number[getWeek(Data5['Weather_Conditions'][i],Wet_Condi)]+=1\n",
    "for i in range(len(Wet_Condi)):\n",
    "    Wet_Condi_Severe_Number[i]=(Wet_Condi_Severe_Number[i]/Wet_Condi_Number[i])*100000\n",
    "plt.scatter(Wet_Condi, Wet_Condi_Number, s=Wet_Condi_Severe_Number, alpha=0.5)\n",
    "plt.show()"
   ]
  },
  {
   "cell_type": "code",
   "execution_count": 49,
   "id": "f46a9a20-166c-460a-9317-aae1c0111b90",
   "metadata": {},
   "outputs": [
    {
     "data": {
      "image/png": "[encoded data removed]",
      "text/plain": [
       "<Figure size 432x288 with 1 Axes>"
      ]
     },
     "metadata": {
      "needs_background": "light"
     },
     "output_type": "display_data"
    },
    {
     "name": "stdout",
     "output_type": "stream",
     "text": [
      "[13836.9789815  11598.99389148  9910.22099448 14609.38916078\n",
      " 13151.73796791 14846.81853888 11586.90176322]\n",
      "['Fine no high winds', 'Raining no high winds', 'Snowing no high winds', 'Fine + high winds', 'Raining + high winds', 'Fog or mist', 'Snowing + high winds']\n"
     ]
    }
   ],
   "source": [
    "plt.bar(Wet_Condi,Wet_Condi_Severe_Number,color = 'green',alpha = 0.5)\n",
    "plt.show()\n",
    "print(Wet_Condi_Severe_Number)\n",
    "print(Wet_Condi)"
   ]
  },
  {
   "cell_type": "markdown",
   "id": "fe700fd6-5e5b-4eea-891d-fc3d70724505",
   "metadata": {},
   "source": [
    "我们发现，雨雪天气发生严重事故的比例反而比较小，可能下雨下雪的时候大家开车反而更小心了。相同条件下，有风会使发生严重事故的概率略微增大。不过，由于大雾会影响视线，所以雾霾天发生严重事故的比例最大。\n",
    "## III.数据建模\n",
    "有了上面这些信息以后，我们就可以建立车祸严重程度的预测模型了。由于有些变量与车祸严重程度关系不大且部分变量之间存在多重共线性，我们仍需要对数据集作一些调整。此后，我们在新的数据集上划分训练集和测试集并在训练集上分别建立线性回归模型和机器学习模型，再在测试集上比较它们的准确性。\n",
    "\n",
    "现在我们来进一步处理数据集。首先，日期中只有“星期几”与严重事故的比例有关，所以删除日期这一列，并把“星期几”量化。量化时，星期几的严重车祸比例越高，其所对应的数字就应该越大。所以，我们直接用刚刚得到的“每一天的严重车祸比例”来代替“星期几”。对其它需要量化的自变量，也遵循同样的原则。像经纬度、年份等无关的变量，也直接删除。至于时间，则是六点到十八点设为零，其余时段设为一。"
   ]
  },
  {
   "cell_type": "code",
   "execution_count": 50,
   "id": "594c27e8-e9fd-4a22-abca-4b13ed609d0e",
   "metadata": {},
   "outputs": [
    {
     "data": {
      "text/html": [
       "<div>\n",
       "<style scoped>\n",
       "    .dataframe tbody tr th:only-of-type {\n",
       "        vertical-align: middle;\n",
       "    }\n",
       "\n",
       "    .dataframe tbody tr th {\n",
       "        vertical-align: top;\n",
       "    }\n",
       "\n",
       "    .dataframe thead th {\n",
       "        text-align: right;\n",
       "    }\n",
       "</style>\n",
       "<table border=\"1\" class=\"dataframe\">\n",
       "  <thead>\n",
       "    <tr style=\"text-align: right;\">\n",
       "      <th></th>\n",
       "      <th>1st_Road_Class</th>\n",
       "      <th>Accident_Severity</th>\n",
       "      <th>Carriageway_Hazards</th>\n",
       "      <th>Day_of_Week</th>\n",
       "      <th>Did_Police_Officer_Attend_Scene_of_Accident</th>\n",
       "      <th>Junction_Control</th>\n",
       "      <th>Junction_Detail</th>\n",
       "      <th>Light_Conditions</th>\n",
       "      <th>Number_of_Casualties</th>\n",
       "      <th>Number_of_Vehicles</th>\n",
       "      <th>Pedestrian_Crossing-Human_Control</th>\n",
       "      <th>Pedestrian_Crossing-Physical_Facilities</th>\n",
       "      <th>Road_Surface_Conditions</th>\n",
       "      <th>Road_Type</th>\n",
       "      <th>Special_Conditions_at_Site</th>\n",
       "      <th>Speed_limit</th>\n",
       "      <th>Time</th>\n",
       "      <th>Urban_or_Rural_Area</th>\n",
       "      <th>Weather_Conditions</th>\n",
       "    </tr>\n",
       "  </thead>\n",
       "  <tbody>\n",
       "    <tr>\n",
       "      <th>0</th>\n",
       "      <td>B</td>\n",
       "      <td>Slight</td>\n",
       "      <td>None</td>\n",
       "      <td>Wednesday</td>\n",
       "      <td>1.0</td>\n",
       "      <td>Auto traffic signal</td>\n",
       "      <td>Crossroads</td>\n",
       "      <td>Darkness - lights lit</td>\n",
       "      <td>1</td>\n",
       "      <td>1</td>\n",
       "      <td>0.0</td>\n",
       "      <td>5.0</td>\n",
       "      <td>Dry</td>\n",
       "      <td>Dual carriageway</td>\n",
       "      <td>None</td>\n",
       "      <td>30</td>\n",
       "      <td>17:36</td>\n",
       "      <td>Urban</td>\n",
       "      <td>Fine no high winds</td>\n",
       "    </tr>\n",
       "    <tr>\n",
       "      <th>1</th>\n",
       "      <td>C</td>\n",
       "      <td>Slight</td>\n",
       "      <td>None</td>\n",
       "      <td>Thursday</td>\n",
       "      <td>1.0</td>\n",
       "      <td>Give way or uncontrolled</td>\n",
       "      <td>T or staggered junction</td>\n",
       "      <td>Darkness - lights lit</td>\n",
       "      <td>1</td>\n",
       "      <td>2</td>\n",
       "      <td>0.0</td>\n",
       "      <td>0.0</td>\n",
       "      <td>Dry</td>\n",
       "      <td>Single carriageway</td>\n",
       "      <td>None</td>\n",
       "      <td>30</td>\n",
       "      <td>20:40</td>\n",
       "      <td>Urban</td>\n",
       "      <td>Fine no high winds</td>\n",
       "    </tr>\n",
       "    <tr>\n",
       "      <th>2</th>\n",
       "      <td>A</td>\n",
       "      <td>Slight</td>\n",
       "      <td>None</td>\n",
       "      <td>Saturday</td>\n",
       "      <td>1.0</td>\n",
       "      <td>Auto traffic signal</td>\n",
       "      <td>Crossroads</td>\n",
       "      <td>Darkness - lights lit</td>\n",
       "      <td>2</td>\n",
       "      <td>2</td>\n",
       "      <td>0.0</td>\n",
       "      <td>5.0</td>\n",
       "      <td>Dry</td>\n",
       "      <td>Single carriageway</td>\n",
       "      <td>None</td>\n",
       "      <td>30</td>\n",
       "      <td>22:43</td>\n",
       "      <td>Urban</td>\n",
       "      <td>Fine no high winds</td>\n",
       "    </tr>\n",
       "    <tr>\n",
       "      <th>3</th>\n",
       "      <td>A</td>\n",
       "      <td>Slight</td>\n",
       "      <td>None</td>\n",
       "      <td>Sunday</td>\n",
       "      <td>1.0</td>\n",
       "      <td>Auto traffic signal</td>\n",
       "      <td>Crossroads</td>\n",
       "      <td>Darkness - lights lit</td>\n",
       "      <td>1</td>\n",
       "      <td>1</td>\n",
       "      <td>0.0</td>\n",
       "      <td>5.0</td>\n",
       "      <td>Dry</td>\n",
       "      <td>Single carriageway</td>\n",
       "      <td>None</td>\n",
       "      <td>30</td>\n",
       "      <td>00:42</td>\n",
       "      <td>Urban</td>\n",
       "      <td>Fine no high winds</td>\n",
       "    </tr>\n",
       "    <tr>\n",
       "      <th>4</th>\n",
       "      <td>A</td>\n",
       "      <td>Slight</td>\n",
       "      <td>None</td>\n",
       "      <td>Tuesday</td>\n",
       "      <td>1.0</td>\n",
       "      <td>Auto traffic signal</td>\n",
       "      <td>Crossroads</td>\n",
       "      <td>Darkness - lights lit</td>\n",
       "      <td>1</td>\n",
       "      <td>2</td>\n",
       "      <td>0.0</td>\n",
       "      <td>5.0</td>\n",
       "      <td>Wet or damp</td>\n",
       "      <td>Single carriageway</td>\n",
       "      <td>None</td>\n",
       "      <td>30</td>\n",
       "      <td>20:48</td>\n",
       "      <td>Urban</td>\n",
       "      <td>Fine no high winds</td>\n",
       "    </tr>\n",
       "  </tbody>\n",
       "</table>\n",
       "</div>"
      ],
      "text/plain": [
       "  1st_Road_Class Accident_Severity Carriageway_Hazards Day_of_Week  \\\n",
       "0              B            Slight                None   Wednesday   \n",
       "1              C            Slight                None    Thursday   \n",
       "2              A            Slight                None    Saturday   \n",
       "3              A            Slight                None      Sunday   \n",
       "4              A            Slight                None     Tuesday   \n",
       "\n",
       "   Did_Police_Officer_Attend_Scene_of_Accident          Junction_Control  \\\n",
       "0                                          1.0       Auto traffic signal   \n",
       "1                                          1.0  Give way or uncontrolled   \n",
       "2                                          1.0       Auto traffic signal   \n",
       "3                                          1.0       Auto traffic signal   \n",
       "4                                          1.0       Auto traffic signal   \n",
       "\n",
       "           Junction_Detail       Light_Conditions  Number_of_Casualties  \\\n",
       "0               Crossroads  Darkness - lights lit                     1   \n",
       "1  T or staggered junction  Darkness - lights lit                     1   \n",
       "2               Crossroads  Darkness - lights lit                     2   \n",
       "3               Crossroads  Darkness - lights lit                     1   \n",
       "4               Crossroads  Darkness - lights lit                     1   \n",
       "\n",
       "   Number_of_Vehicles  Pedestrian_Crossing-Human_Control  \\\n",
       "0                   1                                0.0   \n",
       "1                   2                                0.0   \n",
       "2                   2                                0.0   \n",
       "3                   1                                0.0   \n",
       "4                   2                                0.0   \n",
       "\n",
       "   Pedestrian_Crossing-Physical_Facilities Road_Surface_Conditions  \\\n",
       "0                                      5.0                     Dry   \n",
       "1                                      0.0                     Dry   \n",
       "2                                      5.0                     Dry   \n",
       "3                                      5.0                     Dry   \n",
       "4                                      5.0             Wet or damp   \n",
       "\n",
       "            Road_Type Special_Conditions_at_Site  Speed_limit   Time  \\\n",
       "0    Dual carriageway                       None           30  17:36   \n",
       "1  Single carriageway                       None           30  20:40   \n",
       "2  Single carriageway                       None           30  22:43   \n",
       "3  Single carriageway                       None           30  00:42   \n",
       "4  Single carriageway                       None           30  20:48   \n",
       "\n",
       "  Urban_or_Rural_Area  Weather_Conditions  \n",
       "0               Urban  Fine no high winds  \n",
       "1               Urban  Fine no high winds  \n",
       "2               Urban  Fine no high winds  \n",
       "3               Urban  Fine no high winds  \n",
       "4               Urban  Fine no high winds  "
      ]
     },
     "execution_count": 50,
     "metadata": {},
     "output_type": "execute_result"
    }
   ],
   "source": [
    "Data6 = Data5.drop(labels=['Date','Year','Longitude','Latitude'], axis = 1)\n",
    "Data6.head()"
   ]
  },
  {
   "cell_type": "code",
   "execution_count": 51,
   "id": "3376cafd-5162-4fac-85a5-5c1987def7e8",
   "metadata": {},
   "outputs": [
    {
     "name": "stderr",
     "output_type": "stream",
     "text": [
      "/tmp/ipykernel_2544237/797647132.py:3: SettingWithCopyWarning: \n",
      "A value is trying to be set on a copy of a slice from a DataFrame\n",
      "\n",
      "See the caveats in the documentation: https://pandas.pydata.org/pandas-docs/stable/user_guide/indexing.html#returning-a-view-versus-a-copy\n",
      "  Data6['Accident_Severity'][i]=1\n",
      "/tmp/ipykernel_2544237/797647132.py:11: SettingWithCopyWarning: \n",
      "A value is trying to be set on a copy of a slice from a DataFrame\n",
      "\n",
      "See the caveats in the documentation: https://pandas.pydata.org/pandas-docs/stable/user_guide/indexing.html#returning-a-view-versus-a-copy\n",
      "  Data6['Carriageway_Hazards'][i]=0\n",
      "/tmp/ipykernel_2544237/797647132.py:15: SettingWithCopyWarning: \n",
      "A value is trying to be set on a copy of a slice from a DataFrame\n",
      "\n",
      "See the caveats in the documentation: https://pandas.pydata.org/pandas-docs/stable/user_guide/indexing.html#returning-a-view-versus-a-copy\n",
      "  Data6['Special_Conditions_at_Site'][i]=0\n",
      "/tmp/ipykernel_2544237/797647132.py:17: SettingWithCopyWarning: \n",
      "A value is trying to be set on a copy of a slice from a DataFrame\n",
      "\n",
      "See the caveats in the documentation: https://pandas.pydata.org/pandas-docs/stable/user_guide/indexing.html#returning-a-view-versus-a-copy\n",
      "  Data6['Time'][i]=1\n",
      "/tmp/ipykernel_2544237/797647132.py:20: SettingWithCopyWarning: \n",
      "A value is trying to be set on a copy of a slice from a DataFrame\n",
      "\n",
      "See the caveats in the documentation: https://pandas.pydata.org/pandas-docs/stable/user_guide/indexing.html#returning-a-view-versus-a-copy\n",
      "  Data6['1st_Road_Class'][i]=One_Rd_Cl_Severe_Number[getWeek(Data5['1st_Road_Class'][i],One_Rd_Cl)]/1000\n",
      "/tmp/ipykernel_2544237/797647132.py:21: SettingWithCopyWarning: \n",
      "A value is trying to be set on a copy of a slice from a DataFrame\n",
      "\n",
      "See the caveats in the documentation: https://pandas.pydata.org/pandas-docs/stable/user_guide/indexing.html#returning-a-view-versus-a-copy\n",
      "  Data6['Day_of_Week'][i]=WEEK_Rate[getWeek(Data5['Day_of_Week'][i],WEEK)]\n",
      "/tmp/ipykernel_2544237/797647132.py:22: SettingWithCopyWarning: \n",
      "A value is trying to be set on a copy of a slice from a DataFrame\n",
      "\n",
      "See the caveats in the documentation: https://pandas.pydata.org/pandas-docs/stable/user_guide/indexing.html#returning-a-view-versus-a-copy\n",
      "  Data6['Junction_Control'][i]=Jc_Ct_Severe_Number[getWeek(Data5['Junction_Control'][i],Jc_Ct)]/1000\n",
      "/tmp/ipykernel_2544237/797647132.py:23: SettingWithCopyWarning: \n",
      "A value is trying to be set on a copy of a slice from a DataFrame\n",
      "\n",
      "See the caveats in the documentation: https://pandas.pydata.org/pandas-docs/stable/user_guide/indexing.html#returning-a-view-versus-a-copy\n",
      "  Data6['Junction_Detail'][i]=Jc_De_Severe_Number[getWeek(Data5['Junction_Detail'][i],Jc_De)]/1000\n",
      "/tmp/ipykernel_2544237/797647132.py:24: SettingWithCopyWarning: \n",
      "A value is trying to be set on a copy of a slice from a DataFrame\n",
      "\n",
      "See the caveats in the documentation: https://pandas.pydata.org/pandas-docs/stable/user_guide/indexing.html#returning-a-view-versus-a-copy\n",
      "  Data6['Light_Conditions'][i]=Lit_Condi_Severe_Number[getWeek(Data5['Light_Conditions'][i],Lit_Condi)]/1000\n",
      "/tmp/ipykernel_2544237/797647132.py:25: SettingWithCopyWarning: \n",
      "A value is trying to be set on a copy of a slice from a DataFrame\n",
      "\n",
      "See the caveats in the documentation: https://pandas.pydata.org/pandas-docs/stable/user_guide/indexing.html#returning-a-view-versus-a-copy\n",
      "  Data6['Road_Surface_Conditions'][i]=R_S_Condi_Severe_Number[getWeek(Data5['Road_Surface_Conditions'][i],R_S_Condi)]/1000\n",
      "/tmp/ipykernel_2544237/797647132.py:26: SettingWithCopyWarning: \n",
      "A value is trying to be set on a copy of a slice from a DataFrame\n",
      "\n",
      "See the caveats in the documentation: https://pandas.pydata.org/pandas-docs/stable/user_guide/indexing.html#returning-a-view-versus-a-copy\n",
      "  Data6['Road_Type'][i]=Rd_Tp_Severe_Number[getWeek(Data5['Road_Type'][i],Rd_Tp)]/1000\n",
      "/tmp/ipykernel_2544237/797647132.py:27: SettingWithCopyWarning: \n",
      "A value is trying to be set on a copy of a slice from a DataFrame\n",
      "\n",
      "See the caveats in the documentation: https://pandas.pydata.org/pandas-docs/stable/user_guide/indexing.html#returning-a-view-versus-a-copy\n",
      "  Data6['Urban_or_Rural_Area'][i]=Urb_Rur_Severe_Number[getWeek(Data5['Urban_or_Rural_Area'][i],Urb_Rur)]/1000\n",
      "/tmp/ipykernel_2544237/797647132.py:28: SettingWithCopyWarning: \n",
      "A value is trying to be set on a copy of a slice from a DataFrame\n",
      "\n",
      "See the caveats in the documentation: https://pandas.pydata.org/pandas-docs/stable/user_guide/indexing.html#returning-a-view-versus-a-copy\n",
      "  Data6['Weather_Conditions'][i]=Urb_Rur_Severe_Number[getWeek(Data5['Weather_Conditions'][i],Urb_Rur)]/1000\n",
      "/tmp/ipykernel_2544237/797647132.py:19: SettingWithCopyWarning: \n",
      "A value is trying to be set on a copy of a slice from a DataFrame\n",
      "\n",
      "See the caveats in the documentation: https://pandas.pydata.org/pandas-docs/stable/user_guide/indexing.html#returning-a-view-versus-a-copy\n",
      "  Data6['Time'][i]=0\n",
      "/tmp/ipykernel_2544237/797647132.py:5: SettingWithCopyWarning: \n",
      "A value is trying to be set on a copy of a slice from a DataFrame\n",
      "\n",
      "See the caveats in the documentation: https://pandas.pydata.org/pandas-docs/stable/user_guide/indexing.html#returning-a-view-versus-a-copy\n",
      "  Data6['Accident_Severity'][i]=2\n",
      "/tmp/ipykernel_2544237/797647132.py:9: SettingWithCopyWarning: \n",
      "A value is trying to be set on a copy of a slice from a DataFrame\n",
      "\n",
      "See the caveats in the documentation: https://pandas.pydata.org/pandas-docs/stable/user_guide/indexing.html#returning-a-view-versus-a-copy\n",
      "  Data6['Carriageway_Hazards'][i]=1\n",
      "/tmp/ipykernel_2544237/797647132.py:13: SettingWithCopyWarning: \n",
      "A value is trying to be set on a copy of a slice from a DataFrame\n",
      "\n",
      "See the caveats in the documentation: https://pandas.pydata.org/pandas-docs/stable/user_guide/indexing.html#returning-a-view-versus-a-copy\n",
      "  Data6['Special_Conditions_at_Site'][i]=1\n",
      "/tmp/ipykernel_2544237/797647132.py:7: SettingWithCopyWarning: \n",
      "A value is trying to be set on a copy of a slice from a DataFrame\n",
      "\n",
      "See the caveats in the documentation: https://pandas.pydata.org/pandas-docs/stable/user_guide/indexing.html#returning-a-view-versus-a-copy\n",
      "  Data6['Accident_Severity'][i]=3\n"
     ]
    },
    {
     "data": {
      "text/html": [
       "<div>\n",
       "<style scoped>\n",
       "    .dataframe tbody tr th:only-of-type {\n",
       "        vertical-align: middle;\n",
       "    }\n",
       "\n",
       "    .dataframe tbody tr th {\n",
       "        vertical-align: top;\n",
       "    }\n",
       "\n",
       "    .dataframe thead th {\n",
       "        text-align: right;\n",
       "    }\n",
       "</style>\n",
       "<table border=\"1\" class=\"dataframe\">\n",
       "  <thead>\n",
       "    <tr style=\"text-align: right;\">\n",
       "      <th></th>\n",
       "      <th>1st_Road_Class</th>\n",
       "      <th>Accident_Severity</th>\n",
       "      <th>Carriageway_Hazards</th>\n",
       "      <th>Day_of_Week</th>\n",
       "      <th>Did_Police_Officer_Attend_Scene_of_Accident</th>\n",
       "      <th>Junction_Control</th>\n",
       "      <th>Junction_Detail</th>\n",
       "      <th>Light_Conditions</th>\n",
       "      <th>Number_of_Casualties</th>\n",
       "      <th>Number_of_Vehicles</th>\n",
       "      <th>Pedestrian_Crossing-Human_Control</th>\n",
       "      <th>Pedestrian_Crossing-Physical_Facilities</th>\n",
       "      <th>Road_Surface_Conditions</th>\n",
       "      <th>Road_Type</th>\n",
       "      <th>Special_Conditions_at_Site</th>\n",
       "      <th>Speed_limit</th>\n",
       "      <th>Time</th>\n",
       "      <th>Urban_or_Rural_Area</th>\n",
       "      <th>Weather_Conditions</th>\n",
       "    </tr>\n",
       "  </thead>\n",
       "  <tbody>\n",
       "    <tr>\n",
       "      <th>0</th>\n",
       "      <td>14.102644</td>\n",
       "      <td>1</td>\n",
       "      <td>0</td>\n",
       "      <td>0.125535</td>\n",
       "      <td>1.0</td>\n",
       "      <td>11.227309</td>\n",
       "      <td>13.406448</td>\n",
       "      <td>15.376617</td>\n",
       "      <td>1</td>\n",
       "      <td>1</td>\n",
       "      <td>0.0</td>\n",
       "      <td>5.0</td>\n",
       "      <td>13.837888</td>\n",
       "      <td>13.015055</td>\n",
       "      <td>0</td>\n",
       "      <td>30</td>\n",
       "      <td>1</td>\n",
       "      <td>12.070771</td>\n",
       "      <td>[[12.070770590434753, 16.3580953377499]]</td>\n",
       "    </tr>\n",
       "    <tr>\n",
       "      <th>1</th>\n",
       "      <td>13.624153</td>\n",
       "      <td>1</td>\n",
       "      <td>0</td>\n",
       "      <td>0.131688</td>\n",
       "      <td>1.0</td>\n",
       "      <td>13.333333</td>\n",
       "      <td>14.236577</td>\n",
       "      <td>15.376617</td>\n",
       "      <td>1</td>\n",
       "      <td>2</td>\n",
       "      <td>0.0</td>\n",
       "      <td>0.0</td>\n",
       "      <td>13.837888</td>\n",
       "      <td>14.638644</td>\n",
       "      <td>0</td>\n",
       "      <td>30</td>\n",
       "      <td>0</td>\n",
       "      <td>12.070771</td>\n",
       "      <td>[[12.070770590434753, 16.3580953377499]]</td>\n",
       "    </tr>\n",
       "    <tr>\n",
       "      <th>2</th>\n",
       "      <td>13.507649</td>\n",
       "      <td>1</td>\n",
       "      <td>0</td>\n",
       "      <td>0.149085</td>\n",
       "      <td>1.0</td>\n",
       "      <td>11.227309</td>\n",
       "      <td>13.406448</td>\n",
       "      <td>15.376617</td>\n",
       "      <td>2</td>\n",
       "      <td>2</td>\n",
       "      <td>0.0</td>\n",
       "      <td>5.0</td>\n",
       "      <td>13.837888</td>\n",
       "      <td>14.638644</td>\n",
       "      <td>0</td>\n",
       "      <td>30</td>\n",
       "      <td>0</td>\n",
       "      <td>12.070771</td>\n",
       "      <td>[[12.070770590434753, 16.3580953377499]]</td>\n",
       "    </tr>\n",
       "    <tr>\n",
       "      <th>3</th>\n",
       "      <td>13.507649</td>\n",
       "      <td>1</td>\n",
       "      <td>0</td>\n",
       "      <td>0.163922</td>\n",
       "      <td>1.0</td>\n",
       "      <td>11.227309</td>\n",
       "      <td>13.406448</td>\n",
       "      <td>15.376617</td>\n",
       "      <td>1</td>\n",
       "      <td>1</td>\n",
       "      <td>0.0</td>\n",
       "      <td>5.0</td>\n",
       "      <td>13.837888</td>\n",
       "      <td>14.638644</td>\n",
       "      <td>0</td>\n",
       "      <td>30</td>\n",
       "      <td>0</td>\n",
       "      <td>12.070771</td>\n",
       "      <td>[[12.070770590434753, 16.3580953377499]]</td>\n",
       "    </tr>\n",
       "    <tr>\n",
       "      <th>4</th>\n",
       "      <td>13.507649</td>\n",
       "      <td>1</td>\n",
       "      <td>0</td>\n",
       "      <td>0.127321</td>\n",
       "      <td>1.0</td>\n",
       "      <td>11.227309</td>\n",
       "      <td>13.406448</td>\n",
       "      <td>15.376617</td>\n",
       "      <td>1</td>\n",
       "      <td>2</td>\n",
       "      <td>0.0</td>\n",
       "      <td>5.0</td>\n",
       "      <td>12.912186</td>\n",
       "      <td>14.638644</td>\n",
       "      <td>0</td>\n",
       "      <td>30</td>\n",
       "      <td>0</td>\n",
       "      <td>12.070771</td>\n",
       "      <td>[[12.070770590434753, 16.3580953377499]]</td>\n",
       "    </tr>\n",
       "  </tbody>\n",
       "</table>\n",
       "</div>"
      ],
      "text/plain": [
       "  1st_Road_Class Accident_Severity Carriageway_Hazards Day_of_Week  \\\n",
       "0      14.102644                 1                   0    0.125535   \n",
       "1      13.624153                 1                   0    0.131688   \n",
       "2      13.507649                 1                   0    0.149085   \n",
       "3      13.507649                 1                   0    0.163922   \n",
       "4      13.507649                 1                   0    0.127321   \n",
       "\n",
       "   Did_Police_Officer_Attend_Scene_of_Accident Junction_Control  \\\n",
       "0                                          1.0        11.227309   \n",
       "1                                          1.0        13.333333   \n",
       "2                                          1.0        11.227309   \n",
       "3                                          1.0        11.227309   \n",
       "4                                          1.0        11.227309   \n",
       "\n",
       "  Junction_Detail Light_Conditions  Number_of_Casualties  Number_of_Vehicles  \\\n",
       "0       13.406448        15.376617                     1                   1   \n",
       "1       14.236577        15.376617                     1                   2   \n",
       "2       13.406448        15.376617                     2                   2   \n",
       "3       13.406448        15.376617                     1                   1   \n",
       "4       13.406448        15.376617                     1                   2   \n",
       "\n",
       "   Pedestrian_Crossing-Human_Control  Pedestrian_Crossing-Physical_Facilities  \\\n",
       "0                                0.0                                      5.0   \n",
       "1                                0.0                                      0.0   \n",
       "2                                0.0                                      5.0   \n",
       "3                                0.0                                      5.0   \n",
       "4                                0.0                                      5.0   \n",
       "\n",
       "  Road_Surface_Conditions  Road_Type Special_Conditions_at_Site  Speed_limit  \\\n",
       "0               13.837888  13.015055                          0           30   \n",
       "1               13.837888  14.638644                          0           30   \n",
       "2               13.837888  14.638644                          0           30   \n",
       "3               13.837888  14.638644                          0           30   \n",
       "4               12.912186  14.638644                          0           30   \n",
       "\n",
       "  Time Urban_or_Rural_Area                        Weather_Conditions  \n",
       "0    1           12.070771  [[12.070770590434753, 16.3580953377499]]  \n",
       "1    0           12.070771  [[12.070770590434753, 16.3580953377499]]  \n",
       "2    0           12.070771  [[12.070770590434753, 16.3580953377499]]  \n",
       "3    0           12.070771  [[12.070770590434753, 16.3580953377499]]  \n",
       "4    0           12.070771  [[12.070770590434753, 16.3580953377499]]  "
      ]
     },
     "execution_count": 51,
     "metadata": {},
     "output_type": "execute_result"
    }
   ],
   "source": [
    "for i in range(len(Data6)):\n",
    "    if Data6['Accident_Severity'][i]=='Slight':\n",
    "        Data6['Accident_Severity'][i]=1\n",
    "    elif Data6['Accident_Severity'][i]=='Serious':\n",
    "        Data6['Accident_Severity'][i]=2\n",
    "    else:\n",
    "        Data6['Accident_Severity'][i]=3\n",
    "    if Data6['Carriageway_Hazards'][i]!='None':\n",
    "        Data6['Carriageway_Hazards'][i]=1\n",
    "    else:\n",
    "        Data6['Carriageway_Hazards'][i]=0\n",
    "    if Data6['Special_Conditions_at_Site'][i]!='None':\n",
    "        Data6['Special_Conditions_at_Site'][i]=1\n",
    "    else:\n",
    "        Data6['Special_Conditions_at_Site'][i]=0\n",
    "    if (getTime(Data6['Time'][i])>=6)&(getTime(Data6['Time'][i])<=18):\n",
    "        Data6['Time'][i]=1\n",
    "    else:\n",
    "        Data6['Time'][i]=0\n",
    "    Data6['1st_Road_Class'][i]=One_Rd_Cl_Severe_Number[getWeek(Data5['1st_Road_Class'][i],One_Rd_Cl)]/1000\n",
    "    Data6['Day_of_Week'][i]=WEEK_Rate[getWeek(Data5['Day_of_Week'][i],WEEK)]\n",
    "    Data6['Junction_Control'][i]=Jc_Ct_Severe_Number[getWeek(Data5['Junction_Control'][i],Jc_Ct)]/1000\n",
    "    Data6['Junction_Detail'][i]=Jc_De_Severe_Number[getWeek(Data5['Junction_Detail'][i],Jc_De)]/1000\n",
    "    Data6['Light_Conditions'][i]=Lit_Condi_Severe_Number[getWeek(Data5['Light_Conditions'][i],Lit_Condi)]/1000\n",
    "    Data6['Road_Surface_Conditions'][i]=R_S_Condi_Severe_Number[getWeek(Data5['Road_Surface_Conditions'][i],R_S_Condi)]/1000\n",
    "    Data6['Road_Type'][i]=Rd_Tp_Severe_Number[getWeek(Data5['Road_Type'][i],Rd_Tp)]/1000\n",
    "    Data6['Urban_or_Rural_Area'][i]=Urb_Rur_Severe_Number[getWeek(Data5['Urban_or_Rural_Area'][i],Urb_Rur)]/1000\n",
    "    Data6['Weather_Conditions'][i]=Urb_Rur_Severe_Number[getWeek(Data5['Weather_Conditions'][i],Urb_Rur)]/1000\n",
    "Data6.head()"
   ]
  },
  {
   "cell_type": "code",
   "execution_count": 52,
   "id": "0c99234d-bd4d-4e77-9037-2d062f02c638",
   "metadata": {},
   "outputs": [
    {
     "name": "stderr",
     "output_type": "stream",
     "text": [
      "/tmp/ipykernel_2544237/1164889338.py:2: SettingWithCopyWarning: \n",
      "A value is trying to be set on a copy of a slice from a DataFrame\n",
      "\n",
      "See the caveats in the documentation: https://pandas.pydata.org/pandas-docs/stable/user_guide/indexing.html#returning-a-view-versus-a-copy\n",
      "  Data6['Weather_Conditions'][i]=Wet_Condi_Severe_Number[getWeek(Data5['Weather_Conditions'][i],Wet_Condi)]/1000\n"
     ]
    }
   ],
   "source": [
    "for i in range(len(Data6)):\n",
    "    Data6['Weather_Conditions'][i]=Wet_Condi_Severe_Number[getWeek(Data5['Weather_Conditions'][i],Wet_Condi)]/1000\n",
    "Data7 = Data6.drop(labels=['Special_Conditions_at_Site'], axis = 1)"
   ]
  },
  {
   "cell_type": "code",
   "execution_count": 53,
   "id": "c3564606-24e7-43af-a67f-002f43171131",
   "metadata": {},
   "outputs": [
    {
     "data": {
      "text/html": [
       "<div>\n",
       "<style scoped>\n",
       "    .dataframe tbody tr th:only-of-type {\n",
       "        vertical-align: middle;\n",
       "    }\n",
       "\n",
       "    .dataframe tbody tr th {\n",
       "        vertical-align: top;\n",
       "    }\n",
       "\n",
       "    .dataframe thead th {\n",
       "        text-align: right;\n",
       "    }\n",
       "</style>\n",
       "<table border=\"1\" class=\"dataframe\">\n",
       "  <thead>\n",
       "    <tr style=\"text-align: right;\">\n",
       "      <th></th>\n",
       "      <th>1st_Road_Class</th>\n",
       "      <th>Accident_Severity</th>\n",
       "      <th>Carriageway_Hazards</th>\n",
       "      <th>Day_of_Week</th>\n",
       "      <th>Did_Police_Officer_Attend_Scene_of_Accident</th>\n",
       "      <th>Junction_Control</th>\n",
       "      <th>Junction_Detail</th>\n",
       "      <th>Light_Conditions</th>\n",
       "      <th>Number_of_Casualties</th>\n",
       "      <th>Number_of_Vehicles</th>\n",
       "      <th>Pedestrian_Crossing-Human_Control</th>\n",
       "      <th>Pedestrian_Crossing-Physical_Facilities</th>\n",
       "      <th>Road_Surface_Conditions</th>\n",
       "      <th>Road_Type</th>\n",
       "      <th>Speed_limit</th>\n",
       "      <th>Time</th>\n",
       "      <th>Urban_or_Rural_Area</th>\n",
       "      <th>Weather_Conditions</th>\n",
       "    </tr>\n",
       "  </thead>\n",
       "  <tbody>\n",
       "    <tr>\n",
       "      <th>0</th>\n",
       "      <td>14.102644</td>\n",
       "      <td>1</td>\n",
       "      <td>0</td>\n",
       "      <td>0.125535</td>\n",
       "      <td>1.0</td>\n",
       "      <td>11.227309</td>\n",
       "      <td>13.406448</td>\n",
       "      <td>15.376617</td>\n",
       "      <td>1</td>\n",
       "      <td>1</td>\n",
       "      <td>0.0</td>\n",
       "      <td>5.0</td>\n",
       "      <td>13.837888</td>\n",
       "      <td>13.015055</td>\n",
       "      <td>30</td>\n",
       "      <td>1</td>\n",
       "      <td>12.070771</td>\n",
       "      <td>13.836979</td>\n",
       "    </tr>\n",
       "    <tr>\n",
       "      <th>1</th>\n",
       "      <td>13.624153</td>\n",
       "      <td>1</td>\n",
       "      <td>0</td>\n",
       "      <td>0.131688</td>\n",
       "      <td>1.0</td>\n",
       "      <td>13.333333</td>\n",
       "      <td>14.236577</td>\n",
       "      <td>15.376617</td>\n",
       "      <td>1</td>\n",
       "      <td>2</td>\n",
       "      <td>0.0</td>\n",
       "      <td>0.0</td>\n",
       "      <td>13.837888</td>\n",
       "      <td>14.638644</td>\n",
       "      <td>30</td>\n",
       "      <td>0</td>\n",
       "      <td>12.070771</td>\n",
       "      <td>13.836979</td>\n",
       "    </tr>\n",
       "    <tr>\n",
       "      <th>2</th>\n",
       "      <td>13.507649</td>\n",
       "      <td>1</td>\n",
       "      <td>0</td>\n",
       "      <td>0.149085</td>\n",
       "      <td>1.0</td>\n",
       "      <td>11.227309</td>\n",
       "      <td>13.406448</td>\n",
       "      <td>15.376617</td>\n",
       "      <td>2</td>\n",
       "      <td>2</td>\n",
       "      <td>0.0</td>\n",
       "      <td>5.0</td>\n",
       "      <td>13.837888</td>\n",
       "      <td>14.638644</td>\n",
       "      <td>30</td>\n",
       "      <td>0</td>\n",
       "      <td>12.070771</td>\n",
       "      <td>13.836979</td>\n",
       "    </tr>\n",
       "    <tr>\n",
       "      <th>3</th>\n",
       "      <td>13.507649</td>\n",
       "      <td>1</td>\n",
       "      <td>0</td>\n",
       "      <td>0.163922</td>\n",
       "      <td>1.0</td>\n",
       "      <td>11.227309</td>\n",
       "      <td>13.406448</td>\n",
       "      <td>15.376617</td>\n",
       "      <td>1</td>\n",
       "      <td>1</td>\n",
       "      <td>0.0</td>\n",
       "      <td>5.0</td>\n",
       "      <td>13.837888</td>\n",
       "      <td>14.638644</td>\n",
       "      <td>30</td>\n",
       "      <td>0</td>\n",
       "      <td>12.070771</td>\n",
       "      <td>13.836979</td>\n",
       "    </tr>\n",
       "    <tr>\n",
       "      <th>4</th>\n",
       "      <td>13.507649</td>\n",
       "      <td>1</td>\n",
       "      <td>0</td>\n",
       "      <td>0.127321</td>\n",
       "      <td>1.0</td>\n",
       "      <td>11.227309</td>\n",
       "      <td>13.406448</td>\n",
       "      <td>15.376617</td>\n",
       "      <td>1</td>\n",
       "      <td>2</td>\n",
       "      <td>0.0</td>\n",
       "      <td>5.0</td>\n",
       "      <td>12.912186</td>\n",
       "      <td>14.638644</td>\n",
       "      <td>30</td>\n",
       "      <td>0</td>\n",
       "      <td>12.070771</td>\n",
       "      <td>13.836979</td>\n",
       "    </tr>\n",
       "  </tbody>\n",
       "</table>\n",
       "</div>"
      ],
      "text/plain": [
       "  1st_Road_Class Accident_Severity Carriageway_Hazards Day_of_Week  \\\n",
       "0      14.102644                 1                   0    0.125535   \n",
       "1      13.624153                 1                   0    0.131688   \n",
       "2      13.507649                 1                   0    0.149085   \n",
       "3      13.507649                 1                   0    0.163922   \n",
       "4      13.507649                 1                   0    0.127321   \n",
       "\n",
       "   Did_Police_Officer_Attend_Scene_of_Accident Junction_Control  \\\n",
       "0                                          1.0        11.227309   \n",
       "1                                          1.0        13.333333   \n",
       "2                                          1.0        11.227309   \n",
       "3                                          1.0        11.227309   \n",
       "4                                          1.0        11.227309   \n",
       "\n",
       "  Junction_Detail Light_Conditions  Number_of_Casualties  Number_of_Vehicles  \\\n",
       "0       13.406448        15.376617                     1                   1   \n",
       "1       14.236577        15.376617                     1                   2   \n",
       "2       13.406448        15.376617                     2                   2   \n",
       "3       13.406448        15.376617                     1                   1   \n",
       "4       13.406448        15.376617                     1                   2   \n",
       "\n",
       "   Pedestrian_Crossing-Human_Control  Pedestrian_Crossing-Physical_Facilities  \\\n",
       "0                                0.0                                      5.0   \n",
       "1                                0.0                                      0.0   \n",
       "2                                0.0                                      5.0   \n",
       "3                                0.0                                      5.0   \n",
       "4                                0.0                                      5.0   \n",
       "\n",
       "  Road_Surface_Conditions  Road_Type  Speed_limit Time Urban_or_Rural_Area  \\\n",
       "0               13.837888  13.015055           30    1           12.070771   \n",
       "1               13.837888  14.638644           30    0           12.070771   \n",
       "2               13.837888  14.638644           30    0           12.070771   \n",
       "3               13.837888  14.638644           30    0           12.070771   \n",
       "4               12.912186  14.638644           30    0           12.070771   \n",
       "\n",
       "  Weather_Conditions  \n",
       "0          13.836979  \n",
       "1          13.836979  \n",
       "2          13.836979  \n",
       "3          13.836979  \n",
       "4          13.836979  "
      ]
     },
     "execution_count": 53,
     "metadata": {},
     "output_type": "execute_result"
    }
   ],
   "source": [
    "Data7.head()"
   ]
  },
  {
   "cell_type": "markdown",
   "id": "34f13a2b-6af6-4731-8834-8df14c787fef",
   "metadata": {},
   "source": [
    "我们对所有自变量和因变量进行中心化和标准化："
   ]
  },
  {
   "cell_type": "code",
   "execution_count": 54,
   "id": "9491ef0b-0565-4386-85a7-128052cfc1d4",
   "metadata": {},
   "outputs": [
    {
     "name": "stdout",
     "output_type": "stream",
     "text": [
      "<class 'numpy.ndarray'>\n"
     ]
    }
   ],
   "source": [
    "center = preprocessing.scale(Data7, with_mean = True, with_std=True)\n",
    "print(type(center))"
   ]
  },
  {
   "cell_type": "markdown",
   "id": "c94dd6c9-b441-4b9d-866e-ec60db126d41",
   "metadata": {},
   "source": [
    "先建立一个线性回归模型。建立完以后，看看变量之间是否存在多重共线性，以及各个变量起到的作用是否显著："
   ]
  },
  {
   "cell_type": "code",
   "execution_count": 55,
   "id": "1867e0b1-4ae3-4882-abce-efd4383a46ab",
   "metadata": {},
   "outputs": [
    {
     "data": {
      "text/html": [
       "<div>\n",
       "<style scoped>\n",
       "    .dataframe tbody tr th:only-of-type {\n",
       "        vertical-align: middle;\n",
       "    }\n",
       "\n",
       "    .dataframe tbody tr th {\n",
       "        vertical-align: top;\n",
       "    }\n",
       "\n",
       "    .dataframe thead th {\n",
       "        text-align: right;\n",
       "    }\n",
       "</style>\n",
       "<table border=\"1\" class=\"dataframe\">\n",
       "  <thead>\n",
       "    <tr style=\"text-align: right;\">\n",
       "      <th></th>\n",
       "      <th>a</th>\n",
       "      <th>b</th>\n",
       "      <th>c</th>\n",
       "      <th>d</th>\n",
       "      <th>e</th>\n",
       "      <th>f</th>\n",
       "      <th>g</th>\n",
       "      <th>h</th>\n",
       "      <th>i</th>\n",
       "      <th>j</th>\n",
       "      <th>k</th>\n",
       "      <th>l</th>\n",
       "      <th>m</th>\n",
       "      <th>n</th>\n",
       "      <th>o</th>\n",
       "      <th>p</th>\n",
       "      <th>q</th>\n",
       "      <th>r</th>\n",
       "    </tr>\n",
       "  </thead>\n",
       "  <tbody>\n",
       "    <tr>\n",
       "      <th>0</th>\n",
       "      <td>0.969835</td>\n",
       "      <td>-0.381218</td>\n",
       "      <td>-0.107364</td>\n",
       "      <td>-0.802682</td>\n",
       "      <td>-0.47507</td>\n",
       "      <td>-1.147914</td>\n",
       "      <td>-0.045857</td>\n",
       "      <td>0.824144</td>\n",
       "      <td>-0.457154</td>\n",
       "      <td>-1.397705</td>\n",
       "      <td>-0.076913</td>\n",
       "      <td>1.899344</td>\n",
       "      <td>0.544603</td>\n",
       "      <td>-0.254729</td>\n",
       "      <td>-0.656954</td>\n",
       "      <td>0.528347</td>\n",
       "      <td>-0.720946</td>\n",
       "      <td>0.369923</td>\n",
       "    </tr>\n",
       "    <tr>\n",
       "      <th>1</th>\n",
       "      <td>0.149362</td>\n",
       "      <td>-0.381218</td>\n",
       "      <td>-0.107364</td>\n",
       "      <td>-0.300537</td>\n",
       "      <td>-0.47507</td>\n",
       "      <td>-0.101243</td>\n",
       "      <td>0.245624</td>\n",
       "      <td>0.824144</td>\n",
       "      <td>-0.457154</td>\n",
       "      <td>0.131776</td>\n",
       "      <td>-0.076913</td>\n",
       "      <td>-0.502763</td>\n",
       "      <td>0.544603</td>\n",
       "      <td>0.537573</td>\n",
       "      <td>-0.656954</td>\n",
       "      <td>-1.892695</td>\n",
       "      <td>-0.720946</td>\n",
       "      <td>0.369923</td>\n",
       "    </tr>\n",
       "    <tr>\n",
       "      <th>2</th>\n",
       "      <td>-0.050408</td>\n",
       "      <td>-0.381218</td>\n",
       "      <td>-0.107364</td>\n",
       "      <td>1.119249</td>\n",
       "      <td>-0.47507</td>\n",
       "      <td>-1.147914</td>\n",
       "      <td>-0.045857</td>\n",
       "      <td>0.824144</td>\n",
       "      <td>0.753971</td>\n",
       "      <td>0.131776</td>\n",
       "      <td>-0.076913</td>\n",
       "      <td>1.899344</td>\n",
       "      <td>0.544603</td>\n",
       "      <td>0.537573</td>\n",
       "      <td>-0.656954</td>\n",
       "      <td>-1.892695</td>\n",
       "      <td>-0.720946</td>\n",
       "      <td>0.369923</td>\n",
       "    </tr>\n",
       "    <tr>\n",
       "      <th>3</th>\n",
       "      <td>-0.050408</td>\n",
       "      <td>-0.381218</td>\n",
       "      <td>-0.107364</td>\n",
       "      <td>2.330121</td>\n",
       "      <td>-0.47507</td>\n",
       "      <td>-1.147914</td>\n",
       "      <td>-0.045857</td>\n",
       "      <td>0.824144</td>\n",
       "      <td>-0.457154</td>\n",
       "      <td>-1.397705</td>\n",
       "      <td>-0.076913</td>\n",
       "      <td>1.899344</td>\n",
       "      <td>0.544603</td>\n",
       "      <td>0.537573</td>\n",
       "      <td>-0.656954</td>\n",
       "      <td>-1.892695</td>\n",
       "      <td>-0.720946</td>\n",
       "      <td>0.369923</td>\n",
       "    </tr>\n",
       "    <tr>\n",
       "      <th>4</th>\n",
       "      <td>-0.050408</td>\n",
       "      <td>-0.381218</td>\n",
       "      <td>-0.107364</td>\n",
       "      <td>-0.656880</td>\n",
       "      <td>-0.47507</td>\n",
       "      <td>-1.147914</td>\n",
       "      <td>-0.045857</td>\n",
       "      <td>0.824144</td>\n",
       "      <td>-0.457154</td>\n",
       "      <td>0.131776</td>\n",
       "      <td>-0.076913</td>\n",
       "      <td>1.899344</td>\n",
       "      <td>-1.131164</td>\n",
       "      <td>0.537573</td>\n",
       "      <td>-0.656954</td>\n",
       "      <td>-1.892695</td>\n",
       "      <td>-0.720946</td>\n",
       "      <td>0.369923</td>\n",
       "    </tr>\n",
       "  </tbody>\n",
       "</table>\n",
       "</div>"
      ],
      "text/plain": [
       "          a         b         c         d        e         f         g  \\\n",
       "0  0.969835 -0.381218 -0.107364 -0.802682 -0.47507 -1.147914 -0.045857   \n",
       "1  0.149362 -0.381218 -0.107364 -0.300537 -0.47507 -0.101243  0.245624   \n",
       "2 -0.050408 -0.381218 -0.107364  1.119249 -0.47507 -1.147914 -0.045857   \n",
       "3 -0.050408 -0.381218 -0.107364  2.330121 -0.47507 -1.147914 -0.045857   \n",
       "4 -0.050408 -0.381218 -0.107364 -0.656880 -0.47507 -1.147914 -0.045857   \n",
       "\n",
       "          h         i         j         k         l         m         n  \\\n",
       "0  0.824144 -0.457154 -1.397705 -0.076913  1.899344  0.544603 -0.254729   \n",
       "1  0.824144 -0.457154  0.131776 -0.076913 -0.502763  0.544603  0.537573   \n",
       "2  0.824144  0.753971  0.131776 -0.076913  1.899344  0.544603  0.537573   \n",
       "3  0.824144 -0.457154 -1.397705 -0.076913  1.899344  0.544603  0.537573   \n",
       "4  0.824144 -0.457154  0.131776 -0.076913  1.899344 -1.131164  0.537573   \n",
       "\n",
       "          o         p         q         r  \n",
       "0 -0.656954  0.528347 -0.720946  0.369923  \n",
       "1 -0.656954 -1.892695 -0.720946  0.369923  \n",
       "2 -0.656954 -1.892695 -0.720946  0.369923  \n",
       "3 -0.656954 -1.892695 -0.720946  0.369923  \n",
       "4 -0.656954 -1.892695 -0.720946  0.369923  "
      ]
     },
     "execution_count": 55,
     "metadata": {},
     "output_type": "execute_result"
    }
   ],
   "source": [
    "CENTRE = pd.DataFrame(center,columns = ['a','b','c','d','e','f','g','h','i','j','k','l','m','n','o','p','q','r'])\n",
    "CENTRE.head()"
   ]
  },
  {
   "cell_type": "code",
   "execution_count": 56,
   "id": "f851affa-1824-456e-ac9c-4924b23640ac",
   "metadata": {},
   "outputs": [
    {
     "data": {
      "text/html": [
       "<table class=\"simpletable\">\n",
       "<caption>OLS Regression Results</caption>\n",
       "<tr>\n",
       "  <th>Dep. Variable:</th>            <td>b</td>        <th>  R-squared:         </th>  <td>   0.044</td>  \n",
       "</tr>\n",
       "<tr>\n",
       "  <th>Model:</th>                   <td>OLS</td>       <th>  Adj. R-squared:    </th>  <td>   0.044</td>  \n",
       "</tr>\n",
       "<tr>\n",
       "  <th>Method:</th>             <td>Least Squares</td>  <th>  F-statistic:       </th>  <td>   1198.</td>  \n",
       "</tr>\n",
       "<tr>\n",
       "  <th>Date:</th>             <td>Sun, 04 Dec 2022</td> <th>  Prob (F-statistic):</th>   <td>  0.00</td>   \n",
       "</tr>\n",
       "<tr>\n",
       "  <th>Time:</th>                 <td>18:52:04</td>     <th>  Log-Likelihood:    </th> <td>-6.2445e+05</td>\n",
       "</tr>\n",
       "<tr>\n",
       "  <th>No. Observations:</th>      <td>447099</td>      <th>  AIC:               </th>  <td>1.249e+06</td> \n",
       "</tr>\n",
       "<tr>\n",
       "  <th>Df Residuals:</th>          <td>447081</td>      <th>  BIC:               </th>  <td>1.249e+06</td> \n",
       "</tr>\n",
       "<tr>\n",
       "  <th>Df Model:</th>              <td>    17</td>      <th>                     </th>      <td> </td>     \n",
       "</tr>\n",
       "<tr>\n",
       "  <th>Covariance Type:</th>      <td>nonrobust</td>    <th>                     </th>      <td> </td>     \n",
       "</tr>\n",
       "</table>\n",
       "<table class=\"simpletable\">\n",
       "<tr>\n",
       "      <td></td>         <th>coef</th>     <th>std err</th>      <th>t</th>      <th>P>|t|</th>  <th>[0.025</th>    <th>0.975]</th>  \n",
       "</tr>\n",
       "<tr>\n",
       "  <th>Intercept</th> <td>-6.956e-16</td> <td>    0.001</td> <td>-4.76e-13</td> <td> 1.000</td> <td>   -0.003</td> <td>    0.003</td>\n",
       "</tr>\n",
       "<tr>\n",
       "  <th>a</th>         <td>    0.0338</td> <td>    0.002</td> <td>   20.948</td> <td> 0.000</td> <td>    0.031</td> <td>    0.037</td>\n",
       "</tr>\n",
       "<tr>\n",
       "  <th>c</th>         <td>   -0.0052</td> <td>    0.001</td> <td>   -3.550</td> <td> 0.000</td> <td>   -0.008</td> <td>   -0.002</td>\n",
       "</tr>\n",
       "<tr>\n",
       "  <th>d</th>         <td>    0.0177</td> <td>    0.001</td> <td>   11.964</td> <td> 0.000</td> <td>    0.015</td> <td>    0.021</td>\n",
       "</tr>\n",
       "<tr>\n",
       "  <th>e</th>         <td>   -0.0933</td> <td>    0.001</td> <td>  -62.481</td> <td> 0.000</td> <td>   -0.096</td> <td>   -0.090</td>\n",
       "</tr>\n",
       "<tr>\n",
       "  <th>f</th>         <td>    0.0197</td> <td>    0.002</td> <td>    8.782</td> <td> 0.000</td> <td>    0.015</td> <td>    0.024</td>\n",
       "</tr>\n",
       "<tr>\n",
       "  <th>g</th>         <td>    0.0416</td> <td>    0.003</td> <td>   15.195</td> <td> 0.000</td> <td>    0.036</td> <td>    0.047</td>\n",
       "</tr>\n",
       "<tr>\n",
       "  <th>h</th>         <td>    0.0280</td> <td>    0.002</td> <td>   15.941</td> <td> 0.000</td> <td>    0.025</td> <td>    0.031</td>\n",
       "</tr>\n",
       "<tr>\n",
       "  <th>i</th>         <td>    0.0819</td> <td>    0.002</td> <td>   53.772</td> <td> 0.000</td> <td>    0.079</td> <td>    0.085</td>\n",
       "</tr>\n",
       "<tr>\n",
       "  <th>j</th>         <td>   -0.0979</td> <td>    0.002</td> <td>  -64.168</td> <td> 0.000</td> <td>   -0.101</td> <td>   -0.095</td>\n",
       "</tr>\n",
       "<tr>\n",
       "  <th>k</th>         <td>   -0.0028</td> <td>    0.001</td> <td>   -1.884</td> <td> 0.060</td> <td>   -0.006</td> <td>    0.000</td>\n",
       "</tr>\n",
       "<tr>\n",
       "  <th>l</th>         <td>    0.0230</td> <td>    0.002</td> <td>   14.305</td> <td> 0.000</td> <td>    0.020</td> <td>    0.026</td>\n",
       "</tr>\n",
       "<tr>\n",
       "  <th>m</th>         <td>    0.0284</td> <td>    0.002</td> <td>   16.330</td> <td> 0.000</td> <td>    0.025</td> <td>    0.032</td>\n",
       "</tr>\n",
       "<tr>\n",
       "  <th>n</th>         <td>    0.0238</td> <td>    0.002</td> <td>   10.488</td> <td> 0.000</td> <td>    0.019</td> <td>    0.028</td>\n",
       "</tr>\n",
       "<tr>\n",
       "  <th>o</th>         <td>    0.0482</td> <td>    0.002</td> <td>   22.241</td> <td> 0.000</td> <td>    0.044</td> <td>    0.052</td>\n",
       "</tr>\n",
       "<tr>\n",
       "  <th>p</th>         <td>   -0.0298</td> <td>    0.002</td> <td>  -17.242</td> <td> 0.000</td> <td>   -0.033</td> <td>   -0.026</td>\n",
       "</tr>\n",
       "<tr>\n",
       "  <th>q</th>         <td>    0.0282</td> <td>    0.002</td> <td>   13.879</td> <td> 0.000</td> <td>    0.024</td> <td>    0.032</td>\n",
       "</tr>\n",
       "<tr>\n",
       "  <th>r</th>         <td>    0.0190</td> <td>    0.002</td> <td>   11.056</td> <td> 0.000</td> <td>    0.016</td> <td>    0.022</td>\n",
       "</tr>\n",
       "</table>\n",
       "<table class=\"simpletable\">\n",
       "<tr>\n",
       "  <th>Omnibus:</th>       <td>215947.653</td> <th>  Durbin-Watson:     </th>  <td>   1.912</td>  \n",
       "</tr>\n",
       "<tr>\n",
       "  <th>Prob(Omnibus):</th>   <td> 0.000</td>   <th>  Jarque-Bera (JB):  </th> <td>1037734.558</td>\n",
       "</tr>\n",
       "<tr>\n",
       "  <th>Skew:</th>            <td> 2.418</td>   <th>  Prob(JB):          </th>  <td>    0.00</td>  \n",
       "</tr>\n",
       "<tr>\n",
       "  <th>Kurtosis:</th>        <td> 8.685</td>   <th>  Cond. No.          </th>  <td>    4.04</td>  \n",
       "</tr>\n",
       "</table><br/><br/>Notes:<br/>[1] Standard Errors assume that the covariance matrix of the errors is correctly specified."
      ],
      "text/plain": [
       "<class 'statsmodels.iolib.summary.Summary'>\n",
       "\"\"\"\n",
       "                            OLS Regression Results                            \n",
       "==============================================================================\n",
       "Dep. Variable:                      b   R-squared:                       0.044\n",
       "Model:                            OLS   Adj. R-squared:                  0.044\n",
       "Method:                 Least Squares   F-statistic:                     1198.\n",
       "Date:                Sun, 04 Dec 2022   Prob (F-statistic):               0.00\n",
       "Time:                        18:52:04   Log-Likelihood:            -6.2445e+05\n",
       "No. Observations:              447099   AIC:                         1.249e+06\n",
       "Df Residuals:                  447081   BIC:                         1.249e+06\n",
       "Df Model:                          17                                         \n",
       "Covariance Type:            nonrobust                                         \n",
       "==============================================================================\n",
       "                 coef    std err          t      P>|t|      [0.025      0.975]\n",
       "------------------------------------------------------------------------------\n",
       "Intercept  -6.956e-16      0.001  -4.76e-13      1.000      -0.003       0.003\n",
       "a              0.0338      0.002     20.948      0.000       0.031       0.037\n",
       "c             -0.0052      0.001     -3.550      0.000      -0.008      -0.002\n",
       "d              0.0177      0.001     11.964      0.000       0.015       0.021\n",
       "e             -0.0933      0.001    -62.481      0.000      -0.096      -0.090\n",
       "f              0.0197      0.002      8.782      0.000       0.015       0.024\n",
       "g              0.0416      0.003     15.195      0.000       0.036       0.047\n",
       "h              0.0280      0.002     15.941      0.000       0.025       0.031\n",
       "i              0.0819      0.002     53.772      0.000       0.079       0.085\n",
       "j             -0.0979      0.002    -64.168      0.000      -0.101      -0.095\n",
       "k             -0.0028      0.001     -1.884      0.060      -0.006       0.000\n",
       "l              0.0230      0.002     14.305      0.000       0.020       0.026\n",
       "m              0.0284      0.002     16.330      0.000       0.025       0.032\n",
       "n              0.0238      0.002     10.488      0.000       0.019       0.028\n",
       "o              0.0482      0.002     22.241      0.000       0.044       0.052\n",
       "p             -0.0298      0.002    -17.242      0.000      -0.033      -0.026\n",
       "q              0.0282      0.002     13.879      0.000       0.024       0.032\n",
       "r              0.0190      0.002     11.056      0.000       0.016       0.022\n",
       "==============================================================================\n",
       "Omnibus:                   215947.653   Durbin-Watson:                   1.912\n",
       "Prob(Omnibus):                  0.000   Jarque-Bera (JB):          1037734.558\n",
       "Skew:                           2.418   Prob(JB):                         0.00\n",
       "Kurtosis:                       8.685   Cond. No.                         4.04\n",
       "==============================================================================\n",
       "\n",
       "Notes:\n",
       "[1] Standard Errors assume that the covariance matrix of the errors is correctly specified.\n",
       "\"\"\""
      ]
     },
     "execution_count": 56,
     "metadata": {},
     "output_type": "execute_result"
    }
   ],
   "source": [
    "model4 = ols(\"b~a  + c+d+e+f+g+h+i+j+k+l+m+n+o+p+q+r\",CENTRE).fit()\n",
    "model4.summary()"
   ]
  },
  {
   "cell_type": "markdown",
   "id": "edfe5077-6cb9-4519-91ee-7a0ed9f7a2b9",
   "metadata": {},
   "source": [
    "在显著性水平$\\alpha = 0.05$下，我们认为特征$k$（即Pedestrian_Crossing-Human_Control）作用不显著。我们先将其删除，并检查变量之间是否存在多重共线性。"
   ]
  },
  {
   "cell_type": "code",
   "execution_count": 57,
   "id": "2cb010f5-95a6-4c12-ba5a-b2bcb60dc67a",
   "metadata": {},
   "outputs": [
    {
     "data": {
      "text/plain": [
       "<AxesSubplot:>"
      ]
     },
     "execution_count": 57,
     "metadata": {},
     "output_type": "execute_result"
    },
    {
     "data": {
      "image/png": "[encoded data removed]",
      "text/plain": [
       "<Figure size 432x288 with 2 Axes>"
      ]
     },
     "metadata": {
      "needs_background": "light"
     },
     "output_type": "display_data"
    }
   ],
   "source": [
    "X=CENTRE.drop(labels=['k','b'], axis = 1)\n",
    "Y = CENTRE['b']\n",
    "pcorr = X.corr(method = 'pearson')\n",
    "tick_ = (np.arange(0,13,2)-2)/10\n",
    "dict_ = {\"orientation\":'vertical',\n",
    "         'label':'Correlation Coefficients',\n",
    "         \"drawedges\":False,\n",
    "         \"ticklocation\":\"top\",\n",
    "         \"extend\":\"min\",\n",
    "        \"filled\":True,\n",
    "         \"alpha\":0.8,\n",
    "         \"cmap\":\"cmap\",\n",
    "         \"ticks\":tick_}\n",
    "sns.heatmap(pcorr,cbar_kws= dict_,center=0)"
   ]
  },
  {
   "cell_type": "markdown",
   "id": "c58ddc43-6c35-4268-a12e-042091b1ac91",
   "metadata": {},
   "source": [
    "在这张热力图上，颜色越浅的特征之间相关性越强。所以，我们可以定性地认为现有的自变量之间不存在多重共线性。\n",
    "\n",
    "接着，我们就可以将原来的数据集划分为训练集和测试集并开始建模了。由于等一下还要用机器学习建立分类模型，我们先设立另一个Y，并将其中的Fatal改为Serious，便于分类。"
   ]
  },
  {
   "cell_type": "code",
   "execution_count": 58,
   "id": "7cbf98f8-ce6b-4371-9487-f7fa2f27936d",
   "metadata": {},
   "outputs": [
    {
     "name": "stdout",
     "output_type": "stream",
     "text": [
      "[0. 0. 0. ... 1. 0. 1.]\n"
     ]
    }
   ],
   "source": [
    "Y_=Y.to_numpy()\n",
    "for i in range(len(Y_)):\n",
    "    if Y_[i]<0:\n",
    "        Y_[i]=0\n",
    "    else:\n",
    "        Y_[i]=1\n",
    "print(Y_)"
   ]
  },
  {
   "cell_type": "markdown",
   "id": "c8c695e8-219f-47d0-93ba-d72ad506d67d",
   "metadata": {},
   "source": [
    "先建立线性回归模型："
   ]
  },
  {
   "cell_type": "code",
   "execution_count": 59,
   "id": "388e767c-1804-4628-9068-3da2cf0f970f",
   "metadata": {},
   "outputs": [
    {
     "name": "stdout",
     "output_type": "stream",
     "text": [
      "[ 0.          0.01137255 -0.00147643  0.00559274 -0.03317561  0.00547222\n",
      "  0.01377729  0.00686069  0.02525673 -0.03478323  0.00779987  0.01004177\n",
      "  0.00832127  0.01384702 -0.01015686  0.00922011  0.00579893]\n",
      "0.13541567543640207\n"
     ]
    }
   ],
   "source": [
    "x_train,x_test,y_train,y_test = train_test_split(X,Y,test_size=0.2,shuffle=True) \n",
    "model = Pipeline([('Poly',PolynomialFeatures(degree=1)),('Linear',LinearRegression())])\n",
    "model.fit(x_train,y_train)\n",
    "print(model.named_steps['Linear'].coef_)\n",
    "print(model.named_steps['Linear'].intercept_)"
   ]
  },
  {
   "cell_type": "markdown",
   "id": "10cb459b-d2c9-4434-87c8-1d6b868fba4d",
   "metadata": {},
   "source": [
    "在测试集上运行这个模型："
   ]
  },
  {
   "cell_type": "code",
   "execution_count": 60,
   "id": "cd4be34e-5e79-4c01-a1a7-6c7346c13bbb",
   "metadata": {},
   "outputs": [
    {
     "name": "stdout",
     "output_type": "stream",
     "text": [
      "[0.13597954 0.19390126 0.09374842 ... 0.16740511 0.14620593 0.21493313]\n"
     ]
    }
   ],
   "source": [
    "y_predict = model.predict(x_test)\n",
    "print(y_predict)"
   ]
  },
  {
   "cell_type": "markdown",
   "id": "893f74ba-c969-4b71-94a1-6895aaaa158a",
   "metadata": {},
   "source": [
    "用均方误差准则评价模型的正确性："
   ]
  },
  {
   "cell_type": "code",
   "execution_count": 61,
   "id": "f38fbca9-e86b-411f-9a46-ca761cf83a7d",
   "metadata": {},
   "outputs": [
    {
     "name": "stdout",
     "output_type": "stream",
     "text": [
      "The RMSE value is 0.335\n"
     ]
    }
   ],
   "source": [
    "rmse = np.sqrt(np.mean((y_predict-y_test)**2))\n",
    "print(\"The RMSE value is\", round(rmse,4))"
   ]
  },
  {
   "cell_type": "markdown",
   "id": "b2361722-e1e3-4223-b8bd-ca1b298ef054",
   "metadata": {},
   "source": [
    "我们发现，线性回归模型的准确性还不是特别高。究其原因，是因为实际上因变量的可能取值只有三个，而经过拟合后在测试集上得到的预测值很可能在这三个值以外。实际上，这对我们的预测也造成了麻烦。所以，我们应该建立分类模型。下面，我们就用逻辑斯蒂回归模型重新建模。"
   ]
  },
  {
   "cell_type": "code",
   "execution_count": 62,
   "id": "9569ba0f-42b2-48c8-ab40-862c94b0af2e",
   "metadata": {},
   "outputs": [
    {
     "name": "stdout",
     "output_type": "stream",
     "text": [
      "The accuracy rate is: 0.864\n"
     ]
    }
   ],
   "source": [
    "x_train_ml,x_test_ml,y_train_ml,y_test_ml = train_test_split(X,Y_,test_size=0.2,shuffle=True) \n",
    "logreg = LogisticRegression()\n",
    "logreg.fit(x_train_ml, y_train_ml)\n",
    "Y_pred = logreg.predict(x_test_ml)\n",
    "print(\"The accuracy rate is: %2.3f\" % accuracy_score(y_test_ml, Y_pred))"
   ]
  },
  {
   "cell_type": "markdown",
   "id": "c29a528e-bf5d-42ed-9e7d-834b58a7be25",
   "metadata": {},
   "source": [
    "朴素贝叶斯："
   ]
  },
  {
   "cell_type": "code",
   "execution_count": 64,
   "id": "f1dcba7d-880d-43f1-93c5-c9f1358d167c",
   "metadata": {},
   "outputs": [
    {
     "name": "stdout",
     "output_type": "stream",
     "text": [
      "The accuracy rate is: 0.808\n"
     ]
    }
   ],
   "source": [
    "clf_1 = GaussianNB()\n",
    "clf_1.fit(x_train_ml, y_train_ml)\n",
    "Y_pred_bys = clf_1.predict(x_test_ml)\n",
    "print(\"The accuracy rate is: %2.3f\" % accuracy_score(y_test_ml, Y_pred_bys))"
   ]
  },
  {
   "cell_type": "markdown",
   "id": "42a9a218-614c-4765-b244-0d013a19a08d",
   "metadata": {},
   "source": [
    "K近邻："
   ]
  },
  {
   "cell_type": "code",
   "execution_count": 65,
   "id": "c79e86f1-8e49-4fca-a026-3b9be2cce670",
   "metadata": {},
   "outputs": [
    {
     "name": "stdout",
     "output_type": "stream",
     "text": [
      "The accuracy rate is: 0.849\n"
     ]
    }
   ],
   "source": [
    "clf_2 = KNeighborsClassifier()\n",
    "clf_2.fit(x_train_ml, y_train_ml)\n",
    "Y_pred_knn = clf_2.predict(x_test_ml)\n",
    "print(\"The accuracy rate is: %2.3f\" % accuracy_score(y_test_ml, Y_pred_knn))"
   ]
  },
  {
   "cell_type": "markdown",
   "id": "660fc2dd-3ab6-4a1c-86a3-acd8e704cb4d",
   "metadata": {},
   "source": [
    "决策树："
   ]
  },
  {
   "cell_type": "code",
   "execution_count": 67,
   "id": "6a7f02d2-3393-43c1-b85a-b1a0799a2948",
   "metadata": {},
   "outputs": [
    {
     "name": "stdout",
     "output_type": "stream",
     "text": [
      "The accuracy rate is: 0.833\n"
     ]
    }
   ],
   "source": [
    "clf_3 = DecisionTreeClassifier()\n",
    "clf_3.fit(x_train_ml, y_train_ml)\n",
    "Y_pred_tree = clf_3.predict(x_test_ml)\n",
    "print(\"The accuracy rate is: %2.3f\" % accuracy_score(y_test_ml, Y_pred_tree))"
   ]
  },
  {
   "cell_type": "markdown",
   "id": "ea64ef5f-af20-4f57-a100-22d0ee676791",
   "metadata": {},
   "source": [
    "感知机："
   ]
  },
  {
   "cell_type": "code",
   "execution_count": 71,
   "id": "4db9aeb8-bd6d-4c99-8a25-7f3af8cd2c1c",
   "metadata": {},
   "outputs": [
    {
     "name": "stdout",
     "output_type": "stream",
     "text": [
      "The accuracy rate is: 0.849\n"
     ]
    }
   ],
   "source": [
    "clf_4 = Perceptron()\n",
    "clf_4.fit(x_train_ml, y_train_ml)\n",
    "Y_pred_pcp = clf_4.predict(x_test_ml)\n",
    "print(\"The accuracy rate is: %2.3f\" % accuracy_score(y_test_ml, Y_pred_pcp))"
   ]
  },
  {
   "cell_type": "markdown",
   "id": "e45ac61e-510e-4ca3-ae0e-438e44001d0f",
   "metadata": {},
   "source": [
    "我们发现，二分类模型的准确率都达到了$80%$以上，但其中逻辑斯蒂回归模型的准确率最高，而朴素贝叶斯模型的准确率显著低于另外四种模型。可能的原因是朴素贝叶斯模型中有条件独立假设，即不同自变量之间相互独立。但即使这个数据集自变量之间的相互依赖程度已经很低，但自变量之间完全独立的情况仍然十分少见，所以绝大部分数据集在一定程度上都不能满足这个假设，导致朴素贝叶斯模型最终的准确率较低。\n",
    "\n",
    "那么，为什么逻辑斯蒂回归模型的准确率会更高呢？因为感知机、K近邻和决策树模型都完全依赖于训练集中的数据来对未知点进行分类，而逻辑斯蒂回归模型是通过最大化特征条件下某个类别的条件概率来进行分类的，把更多的不确定因素考虑进去，所以在测试集上运行时泛化能力更强。\n",
    "## IV.结论\n",
    "- 车祸发生的时间、地点、路况、天气等因素都会对车祸的严重程度产生影响。这些因素可以用来对未知车祸的严重程度进行预测。\n",
    "- 在所有预测模型中，逻辑斯蒂回归模型的泛化能力最强，准确率最高。"
   ]
  }
 ],
 "metadata": {
  "kernelspec": {
   "display_name": "Python 3 (ipykernel)",
   "language": "python",
   "name": "python3"
  },
  "language_info": {
   "codemirror_mode": {
    "name": "ipython",
    "version": 3
   },
   "file_extension": ".py",
   "mimetype": "text/x-python",
   "name": "python",
   "nbconvert_exporter": "python",
   "pygments_lexer": "ipython3",
   "version": "3.9.12"
  }
 },
 "nbformat": 4,
 "nbformat_minor": 5
}
