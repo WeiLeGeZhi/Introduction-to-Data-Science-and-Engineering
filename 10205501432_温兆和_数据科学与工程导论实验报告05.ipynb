{
 "cells": [
  {
   "cell_type": "markdown",
   "id": "71d9e6fa-ccf7-472d-b437-794aa161ca02",
   "metadata": {},
   "source": [
    "# 数据科学与工程导论实验报告-05\n",
    "\n",
    "温兆和 10205501432\n",
    "\n",
    "首先我们引入在本次实验中需要用到的Python库。"
   ]
  },
  {
   "cell_type": "code",
   "execution_count": 46,
   "id": "f6c378fd-06c3-4d50-b33e-11b8ed888bc1",
   "metadata": {},
   "outputs": [],
   "source": [
    "import re"
   ]
  },
  {
   "cell_type": "markdown",
   "id": "72705928-b192-4f07-aefa-6a8309bd9268",
   "metadata": {},
   "source": [
    "## 实验一\n",
    "\n",
    "请编写一个函数，利用 辗转除2取余法（不要使用int的直接转换） 实现将我们常见的十进制IPv4地址例如203.179.25.37转换为32位长的二进制地址。"
   ]
  },
  {
   "cell_type": "code",
   "execution_count": 28,
   "id": "93457614-f390-4fbb-afc1-b0ddccef20f1",
   "metadata": {},
   "outputs": [
    {
     "name": "stdout",
     "output_type": "stream",
     "text": [
      "11001011101100110001100100100101"
     ]
    }
   ],
   "source": [
    "def convert(address):\n",
    "    counter = 0\n",
    "    Ans1 = []\n",
    "    Ans2 = []\n",
    "    Ans3 = []\n",
    "    Ans4 = []\n",
    "    small_list1 = []\n",
    "    small_list2 = []\n",
    "    small_list3 = []\n",
    "    small_list4 = []\n",
    "    for i in range(counter,len(address)):               #前期处理\n",
    "        small_list1.append(address[len(address)-1-i])\n",
    "        counter=counter+1\n",
    "        if address[len(address)-1-i]=='.':\n",
    "            break\n",
    "    for i in range(counter,len(address)):\n",
    "        small_list2.append(address[len(address)-1-i])\n",
    "        counter=counter+1\n",
    "        if address[len(address)-1-i]=='.':\n",
    "            break\n",
    "    for i in range(counter,len(address)):\n",
    "        small_list3.append(address[len(address)-1-i])\n",
    "        counter=counter+1\n",
    "        if address[len(address)-1-i]=='.':\n",
    "            break\n",
    "    a=0                                                    #字符串转十进制数字\n",
    "    b=0\n",
    "    c=0\n",
    "    d=0\n",
    "    for i in range(counter,len(address)):\n",
    "        small_list4.append(address[len(address)-1-i])\n",
    "        counter=counter+1\n",
    "    for i in range(0,len(small_list1)):\n",
    "        if small_list1[i]!= '.':\n",
    "            small_list1[i] = int(small_list1[i])\n",
    "            a=a+small_list1[i]*(10**i)\n",
    "    for i in range(0,len(small_list2)):\n",
    "        if small_list2[i]!= '.':\n",
    "            small_list2[i] = int(small_list2[i])\n",
    "            b=b+small_list2[i]*(10**i)\n",
    "    for i in range(0,len(small_list3)):\n",
    "        if small_list3[i]!= '.':\n",
    "            small_list3[i] = int(small_list3[i])\n",
    "            c=c+small_list3[i]*(10**i)\n",
    "    for i in range(0,len(small_list4)):\n",
    "        if small_list4[i]!= '.':\n",
    "            small_list4[i] = int(small_list4[i])\n",
    "            d=d+small_list4[i]*(10**i)\n",
    "    while a!=0:                                            #十进制数字转二进制数字\n",
    "        Ans1.insert(0,a%2)\n",
    "        a=int(a/2)\n",
    "    while b!=0:\n",
    "        Ans2.insert(0,b%2)\n",
    "        b=int(b/2)\n",
    "    while c!=0:\n",
    "        Ans3.insert(0,c%2)\n",
    "        c=int(c/2)\n",
    "    while d!=0:\n",
    "        Ans4.insert(0,d%2)\n",
    "        d=int(d/2)\n",
    "    for i in range(0,8-len(Ans1)):                #左边不够8位补上0\n",
    "        Ans1.insert(0,0)\n",
    "    for i in range(0,8-len(Ans2)):\n",
    "        Ans2.insert(0,0)\n",
    "    for i in range(0,8-len(Ans3)):\n",
    "        Ans3.insert(0,0)\n",
    "    for i in range(0,8-len(Ans4)):\n",
    "        Ans4.insert(0,0)\n",
    "    for i in range(0,len(Ans4)):                    #打印结果\n",
    "        print(Ans4[i],end = \"\")\n",
    "    for i in range(0,len(Ans3)):\n",
    "        print(Ans3[i],end = \"\")\n",
    "    for i in range(0,len(Ans2)):\n",
    "        print(Ans2[i],end = \"\")\n",
    "    for i in range(0,len(Ans1)):\n",
    "        print(Ans1[i],end = \"\")\n",
    "#测试   \n",
    "key_address = '203.179.25.37'\n",
    "convert(key_address)"
   ]
  },
  {
   "cell_type": "markdown",
   "id": "43b10f80-7704-4160-8868-2a45f3e31ac4",
   "metadata": {},
   "source": [
    "## 实验二\n",
    "\n",
    "请创建一个类模拟实现数据结构中的“队列”，类中应包含入队、出队、取队首/队尾元素等方法，并进行测试。"
   ]
  },
  {
   "cell_type": "code",
   "execution_count": 44,
   "id": "bf05f360-1c20-4289-8f9d-0c88f6f4e5fc",
   "metadata": {},
   "outputs": [
    {
     "name": "stdout",
     "output_type": "stream",
     "text": [
      "4\n",
      "1\n",
      "---------------------\n",
      "8888\n",
      "2\n"
     ]
    }
   ],
   "source": [
    "class Queue():\n",
    "    def __init__(self):\n",
    "        self.__items = []\n",
    "    def pin(self,num):        #入队\n",
    "        self.__items.insert(0,num)\n",
    "    def out(self):            #出队\n",
    "        try:\n",
    "            self.__items.pop()\n",
    "        except:\n",
    "            print('Error!')\n",
    "    def head(self):            #队首\n",
    "        try:\n",
    "            return self.__items[0]\n",
    "        except:\n",
    "            print('Error!')\n",
    "    def tail(self):            #队尾\n",
    "        try:\n",
    "            return self.__items[len(self.__items)-1]\n",
    "        except:\n",
    "            print('Error!')\n",
    "    def isempty(self):\n",
    "        if len(self.__items)==0:\n",
    "            return 1\n",
    "        else:\n",
    "            return 0\n",
    "#测试\n",
    "q = Queue()\n",
    "q.pin(1)\n",
    "q.pin(2)\n",
    "q.pin(3)\n",
    "q.pin(4)\n",
    "print(q.head())\n",
    "print(q.tail())\n",
    "print(\"---------------------\")\n",
    "q.out()\n",
    "q.pin(8888)\n",
    "print(q.head())\n",
    "print(q.tail())"
   ]
  },
  {
   "cell_type": "markdown",
   "id": "b09eb0dc-5284-4ea0-8702-1d8456654100",
   "metadata": {},
   "source": [
    "## 实验三\n",
    "\n",
    "请在实验4-4的基础上实现二叉树的层序遍历的函数。（提示：需要用到队列）"
   ]
  },
  {
   "cell_type": "code",
   "execution_count": 45,
   "id": "98f64146-ddc7-4431-bd6e-ee2a91f9ce84",
   "metadata": {},
   "outputs": [
    {
     "name": "stdout",
     "output_type": "stream",
     "text": [
      "[3, 5, 1, 6, 2, 0, 8, 7, 4]\n"
     ]
    }
   ],
   "source": [
    "class BinaryTree:\n",
    "    def __init__(self,data=None,left=None,right=None):  # 创建二叉树\n",
    "        self.data=data\n",
    "        self.left=left\n",
    "        self.right=right\n",
    "    def cengxubianli(self,Q,list):                      #定义层序遍历函数\n",
    "        Q.pin(self)\n",
    "        while Q.isempty()==0:\n",
    "            list.append(Q.tail().data)\n",
    "            if Q.tail().left is not None:\n",
    "                Q.pin(Q.tail().left)\n",
    "            if Q.tail().right is not None:\n",
    "                Q.pin(Q.tail().right)\n",
    "            Q.out()\n",
    "        return list\n",
    "#测试，仍然使用4-4的二叉树\n",
    "layer3_2 = BinaryTree(2,BinaryTree(7),BinaryTree(4))\n",
    "layer2_5 = BinaryTree(5,BinaryTree(6),layer3_2)\n",
    "layer2_1 = BinaryTree(1,BinaryTree(0),BinaryTree(8))\n",
    "layer1_3 = BinaryTree(3,layer2_5,layer2_1)\n",
    "Q = Queue()\n",
    "list = []\n",
    "list = layer1_3.cengxubianli(Q,list)\n",
    "print(list)"
   ]
  },
  {
   "cell_type": "markdown",
   "id": "af7d55c0-c45b-4a23-9e5a-6ffcd3d9b1b8",
   "metadata": {},
   "source": [
    "## 实验四（选做）\n",
    "\n",
    "目前中国内地三大运营商的手机号段分布如下：\n",
    "- 中国电信：133、153、173、177、180、181、189、191、193、199\n",
    "- 中国联通：130、131、132、155、156、166、175、176、185、186\n",
    "- 中国移动：134(但第4位不含9)、135、136、137、138、139、147、150、151、152、157、158、159、172、178、182、183、184、187、188、198\n",
    "\n",
    "中国内地的手机号长度为11位，请设计一个正则表达式，并在Python中测试某个手机号是否为合法的手机号。"
   ]
  },
  {
   "cell_type": "code",
   "execution_count": 58,
   "id": "3a8ae421-7a3e-4c2f-8706-4bbc4fb7cb90",
   "metadata": {},
   "outputs": [
    {
     "name": "stdout",
     "output_type": "stream",
     "text": [
      "<re.Match object; span=(0, 11), match='13346576386'>\n",
      "<re.Match object; span=(0, 11), match='17643942768'>\n",
      "<re.Match object; span=(0, 11), match='13565849085'>\n",
      "None\n",
      "None\n",
      "<re.Match object; span=(0, 11), match='13473856294'>\n"
     ]
    }
   ],
   "source": [
    "p = '^(133|153|173|177|180|181|189|191|193|199|130|131|132|155|156|166|175|176|185|186|135|136|137|138|139|147|150|151|152|157|158|159|172|178|182|183|184|187|188|198)\\d{8}$|134[0-8]\\d{7}$'\n",
    "s1 = '13346576386'\n",
    "s2 = '17643942768'\n",
    "s3 = '13565849085'\n",
    "s4 = '14928574860'\n",
    "s5 = '13495839675'\n",
    "s6 = '13473856294'\n",
    "print(re.match(p,s1))#中国电信\n",
    "print(re.match(p,s2))#中国联通\n",
    "print(re.match(p,s3))#中国移动\n",
    "print(re.match(p,s4))#前三位不匹配\n",
    "print(re.match(p,s5))#134后跟9\n",
    "print(re.match(p,s6))#134后不跟9"
   ]
  }
 ],
 "metadata": {
  "kernelspec": {
   "display_name": "Python 3 (ipykernel)",
   "language": "python",
   "name": "python3"
  },
  "language_info": {
   "codemirror_mode": {
    "name": "ipython",
    "version": 3
   },
   "file_extension": ".py",
   "mimetype": "text/x-python",
   "name": "python",
   "nbconvert_exporter": "python",
   "pygments_lexer": "ipython3",
   "version": "3.9.12"
  }
 },
 "nbformat": 4,
 "nbformat_minor": 5
}
